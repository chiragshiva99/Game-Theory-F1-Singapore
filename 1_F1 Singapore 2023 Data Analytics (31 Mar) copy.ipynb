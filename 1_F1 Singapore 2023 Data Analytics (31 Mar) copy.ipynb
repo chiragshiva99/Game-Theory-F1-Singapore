{
 "cells": [
  {
   "cell_type": "code",
   "execution_count": 1,
   "id": "f1262a46",
   "metadata": {},
   "outputs": [],
   "source": [
    "# pip install fastf1"
   ]
  },
  {
   "cell_type": "code",
   "execution_count": 2,
   "id": "7e54123f",
   "metadata": {},
   "outputs": [],
   "source": [
    "import os\n",
    "import sys\n",
    "import fastf1\n",
    "try:\n",
    "    fastf1.Cache.enable_cache(sys.path[0]+\"/fastf1_cache\") \n",
    "except:\n",
    "    os.makedirs(sys.path[0]+\"/fastf1_cache\")\n",
    "    fastf1.Cache.enable_cache(sys.path[0]+\"/fastf1_cache\") \n",
    "from fastf1 import plotting\n",
    "from matplotlib import pyplot as plt\n",
    "import matplotlib.cm as cm\n",
    "from matplotlib.collections import LineCollection\n",
    "import datetime\n",
    "import seaborn as sns\n",
    "sns.set_style(\"darkgrid\")\n",
    "import pandas as pd\n",
    "import numpy as np\n",
    "import math\n",
    "from windrose import WindroseAxes\n",
    "pd.set_option('display.max_columns', None)\n",
    "\n",
    "import plotly.express as px\n",
    "import plotly.graph_objects as go"
   ]
  },
  {
   "cell_type": "markdown",
   "id": "f3da5454",
   "metadata": {},
   "source": [
    "## Singapore Grand Prix 2023 - Race\n",
    "Analysis adapted from Tracing Insights for Singapore 2023, with some aspects of data processing to suit the Game Theory project data requirements."
   ]
  },
  {
   "cell_type": "code",
   "execution_count": 3,
   "id": "51418745",
   "metadata": {},
   "outputs": [
    {
     "name": "stderr",
     "output_type": "stream",
     "text": [
      "core           INFO \tLoading data for Singapore Grand Prix - Race [v3.3.2]\n",
      "req            INFO \tUsing cached data for session_info\n",
      "req            INFO \tUsing cached data for driver_info\n",
      "req            INFO \tUsing cached data for session_status_data\n",
      "req            INFO \tUsing cached data for lap_count\n",
      "req            INFO \tUsing cached data for track_status_data\n",
      "req            INFO \tUsing cached data for _extended_timing_data\n",
      "req            INFO \tUsing cached data for timing_app_data\n",
      "core           INFO \tProcessing timing data...\n",
      "core        WARNING \tNo lap data for driver 18\n",
      "core        WARNING \tFailed to perform lap accuracy check - all laps marked as inaccurate (driver 18)\n",
      "req            INFO \tUsing cached data for car_data\n",
      "req            INFO \tUsing cached data for position_data\n",
      "req            INFO \tUsing cached data for weather_data\n",
      "req            INFO \tUsing cached data for race_control_messages\n",
      "core           INFO \tFinished loading data for 20 drivers: ['55', '4', '44', '16', '1', '10', '81', '11', '40', '20', '23', '24', '27', '2', '14', '63', '77', '31', '22', '18']\n"
     ]
    }
   ],
   "source": [
    "# query dataset for Singapore 2023\n",
    "# https://github.com/TracingInsights/formula1-dataanalysis/tree/main\n",
    "\n",
    "race = fastf1.get_session(2023, \"Singapore\", 'R')\n",
    "race.load(weather=True)"
   ]
  },
  {
   "cell_type": "code",
   "execution_count": 4,
   "id": "aad7fdc5",
   "metadata": {},
   "outputs": [
    {
     "data": {
      "text/html": [
       "<div>\n",
       "<style scoped>\n",
       "    .dataframe tbody tr th:only-of-type {\n",
       "        vertical-align: middle;\n",
       "    }\n",
       "\n",
       "    .dataframe tbody tr th {\n",
       "        vertical-align: top;\n",
       "    }\n",
       "\n",
       "    .dataframe thead th {\n",
       "        text-align: right;\n",
       "    }\n",
       "</style>\n",
       "<table border=\"1\" class=\"dataframe\">\n",
       "  <thead>\n",
       "    <tr style=\"text-align: right;\">\n",
       "      <th></th>\n",
       "      <th>Time</th>\n",
       "      <th>Driver</th>\n",
       "      <th>DriverNumber</th>\n",
       "      <th>LapTime</th>\n",
       "      <th>LapNumber</th>\n",
       "      <th>Stint</th>\n",
       "      <th>PitOutTime</th>\n",
       "      <th>PitInTime</th>\n",
       "      <th>Sector1Time</th>\n",
       "      <th>Sector2Time</th>\n",
       "      <th>Sector3Time</th>\n",
       "      <th>Sector1SessionTime</th>\n",
       "      <th>Sector2SessionTime</th>\n",
       "      <th>Sector3SessionTime</th>\n",
       "      <th>SpeedI1</th>\n",
       "      <th>SpeedI2</th>\n",
       "      <th>SpeedFL</th>\n",
       "      <th>SpeedST</th>\n",
       "      <th>IsPersonalBest</th>\n",
       "      <th>Compound</th>\n",
       "      <th>TyreLife</th>\n",
       "      <th>FreshTyre</th>\n",
       "      <th>Team</th>\n",
       "      <th>LapStartTime</th>\n",
       "      <th>LapStartDate</th>\n",
       "      <th>TrackStatus</th>\n",
       "      <th>Position</th>\n",
       "      <th>Deleted</th>\n",
       "      <th>DeletedReason</th>\n",
       "      <th>FastF1Generated</th>\n",
       "      <th>IsAccurate</th>\n",
       "    </tr>\n",
       "  </thead>\n",
       "  <tbody>\n",
       "    <tr>\n",
       "      <th>0</th>\n",
       "      <td>0 days 02:49:21.852000</td>\n",
       "      <td>SAI</td>\n",
       "      <td>55</td>\n",
       "      <td>99.958</td>\n",
       "      <td>62.0</td>\n",
       "      <td>2.0</td>\n",
       "      <td>NaT</td>\n",
       "      <td>NaT</td>\n",
       "      <td>0 days 00:00:29.012000</td>\n",
       "      <td>0 days 00:00:43.101000</td>\n",
       "      <td>0 days 00:00:27.845000</td>\n",
       "      <td>0 days 02:48:10.906000</td>\n",
       "      <td>0 days 02:48:54.007000</td>\n",
       "      <td>0 days 02:49:21.852000</td>\n",
       "      <td>294.0</td>\n",
       "      <td>262.0</td>\n",
       "      <td>249.0</td>\n",
       "      <td>NaN</td>\n",
       "      <td>False</td>\n",
       "      <td>HARD</td>\n",
       "      <td>42.0</td>\n",
       "      <td>True</td>\n",
       "      <td>Ferrari</td>\n",
       "      <td>0 days 02:47:41.894000</td>\n",
       "      <td>2023-09-17 13:48:42.405</td>\n",
       "      <td>12</td>\n",
       "      <td>1.0</td>\n",
       "      <td>False</td>\n",
       "      <td></td>\n",
       "      <td>False</td>\n",
       "      <td>True</td>\n",
       "    </tr>\n",
       "    <tr>\n",
       "      <th>1</th>\n",
       "      <td>0 days 02:49:22.629000</td>\n",
       "      <td>NOR</td>\n",
       "      <td>4</td>\n",
       "      <td>99.677</td>\n",
       "      <td>62.0</td>\n",
       "      <td>2.0</td>\n",
       "      <td>NaT</td>\n",
       "      <td>NaT</td>\n",
       "      <td>0 days 00:00:28.523000</td>\n",
       "      <td>0 days 00:00:43.224000</td>\n",
       "      <td>0 days 00:00:27.930000</td>\n",
       "      <td>0 days 02:48:11.520000</td>\n",
       "      <td>0 days 02:48:54.744000</td>\n",
       "      <td>0 days 02:49:22.674000</td>\n",
       "      <td>313.0</td>\n",
       "      <td>278.0</td>\n",
       "      <td>248.0</td>\n",
       "      <td>289.0</td>\n",
       "      <td>False</td>\n",
       "      <td>HARD</td>\n",
       "      <td>42.0</td>\n",
       "      <td>True</td>\n",
       "      <td>McLaren</td>\n",
       "      <td>0 days 02:47:42.952000</td>\n",
       "      <td>2023-09-17 13:48:43.463</td>\n",
       "      <td>12</td>\n",
       "      <td>2.0</td>\n",
       "      <td>False</td>\n",
       "      <td></td>\n",
       "      <td>False</td>\n",
       "      <td>True</td>\n",
       "    </tr>\n",
       "    <tr>\n",
       "      <th>2</th>\n",
       "      <td>0 days 02:49:23.092000</td>\n",
       "      <td>HAM</td>\n",
       "      <td>44</td>\n",
       "      <td>99.347</td>\n",
       "      <td>62.0</td>\n",
       "      <td>3.0</td>\n",
       "      <td>NaT</td>\n",
       "      <td>NaT</td>\n",
       "      <td>0 days 00:00:28.765000</td>\n",
       "      <td>0 days 00:00:42.817000</td>\n",
       "      <td>0 days 00:00:27.765000</td>\n",
       "      <td>0 days 02:48:12.531000</td>\n",
       "      <td>0 days 02:48:55.348000</td>\n",
       "      <td>0 days 02:49:23.113000</td>\n",
       "      <td>317.0</td>\n",
       "      <td>279.0</td>\n",
       "      <td>231.0</td>\n",
       "      <td>304.0</td>\n",
       "      <td>False</td>\n",
       "      <td>MEDIUM</td>\n",
       "      <td>18.0</td>\n",
       "      <td>True</td>\n",
       "      <td>Mercedes</td>\n",
       "      <td>0 days 02:47:43.745000</td>\n",
       "      <td>2023-09-17 13:48:44.256</td>\n",
       "      <td>12</td>\n",
       "      <td>3.0</td>\n",
       "      <td>False</td>\n",
       "      <td></td>\n",
       "      <td>False</td>\n",
       "      <td>True</td>\n",
       "    </tr>\n",
       "    <tr>\n",
       "      <th>3</th>\n",
       "      <td>0 days 02:49:43.016000</td>\n",
       "      <td>LEC</td>\n",
       "      <td>16</td>\n",
       "      <td>100.946</td>\n",
       "      <td>62.0</td>\n",
       "      <td>2.0</td>\n",
       "      <td>NaT</td>\n",
       "      <td>NaT</td>\n",
       "      <td>0 days 00:00:29.131000</td>\n",
       "      <td>0 days 00:00:43.503000</td>\n",
       "      <td>0 days 00:00:28.312000</td>\n",
       "      <td>0 days 02:48:31.210000</td>\n",
       "      <td>0 days 02:49:14.713000</td>\n",
       "      <td>0 days 02:49:43.025000</td>\n",
       "      <td>NaN</td>\n",
       "      <td>261.0</td>\n",
       "      <td>244.0</td>\n",
       "      <td>NaN</td>\n",
       "      <td>False</td>\n",
       "      <td>HARD</td>\n",
       "      <td>42.0</td>\n",
       "      <td>True</td>\n",
       "      <td>Ferrari</td>\n",
       "      <td>0 days 02:48:02.070000</td>\n",
       "      <td>2023-09-17 13:49:02.581</td>\n",
       "      <td>12</td>\n",
       "      <td>4.0</td>\n",
       "      <td>False</td>\n",
       "      <td></td>\n",
       "      <td>False</td>\n",
       "      <td>True</td>\n",
       "    </tr>\n",
       "    <tr>\n",
       "      <th>4</th>\n",
       "      <td>0 days 02:49:43.290000</td>\n",
       "      <td>VER</td>\n",
       "      <td>1</td>\n",
       "      <td>98.197</td>\n",
       "      <td>62.0</td>\n",
       "      <td>2.0</td>\n",
       "      <td>NaT</td>\n",
       "      <td>NaT</td>\n",
       "      <td>0 days 00:00:28.493000</td>\n",
       "      <td>0 days 00:00:41.975000</td>\n",
       "      <td>0 days 00:00:27.729000</td>\n",
       "      <td>0 days 02:48:33.582000</td>\n",
       "      <td>0 days 02:49:15.557000</td>\n",
       "      <td>0 days 02:49:43.286000</td>\n",
       "      <td>293.0</td>\n",
       "      <td>267.0</td>\n",
       "      <td>252.0</td>\n",
       "      <td>287.0</td>\n",
       "      <td>False</td>\n",
       "      <td>MEDIUM</td>\n",
       "      <td>22.0</td>\n",
       "      <td>True</td>\n",
       "      <td>Red Bull Racing</td>\n",
       "      <td>0 days 02:48:05.093000</td>\n",
       "      <td>2023-09-17 13:49:05.604</td>\n",
       "      <td>12</td>\n",
       "      <td>5.0</td>\n",
       "      <td>False</td>\n",
       "      <td></td>\n",
       "      <td>False</td>\n",
       "      <td>True</td>\n",
       "    </tr>\n",
       "    <tr>\n",
       "      <th>...</th>\n",
       "      <td>...</td>\n",
       "      <td>...</td>\n",
       "      <td>...</td>\n",
       "      <td>...</td>\n",
       "      <td>...</td>\n",
       "      <td>...</td>\n",
       "      <td>...</td>\n",
       "      <td>...</td>\n",
       "      <td>...</td>\n",
       "      <td>...</td>\n",
       "      <td>...</td>\n",
       "      <td>...</td>\n",
       "      <td>...</td>\n",
       "      <td>...</td>\n",
       "      <td>...</td>\n",
       "      <td>...</td>\n",
       "      <td>...</td>\n",
       "      <td>...</td>\n",
       "      <td>...</td>\n",
       "      <td>...</td>\n",
       "      <td>...</td>\n",
       "      <td>...</td>\n",
       "      <td>...</td>\n",
       "      <td>...</td>\n",
       "      <td>...</td>\n",
       "      <td>...</td>\n",
       "      <td>...</td>\n",
       "      <td>...</td>\n",
       "      <td>...</td>\n",
       "      <td>...</td>\n",
       "      <td>...</td>\n",
       "    </tr>\n",
       "    <tr>\n",
       "      <th>1083</th>\n",
       "      <td>0 days 01:04:36.357000</td>\n",
       "      <td>PIA</td>\n",
       "      <td>81</td>\n",
       "      <td>111.927</td>\n",
       "      <td>1.0</td>\n",
       "      <td>1.0</td>\n",
       "      <td>NaT</td>\n",
       "      <td>NaT</td>\n",
       "      <td>NaT</td>\n",
       "      <td>0 days 00:00:46.249000</td>\n",
       "      <td>0 days 00:00:28.945000</td>\n",
       "      <td>NaT</td>\n",
       "      <td>0 days 01:04:07.460000</td>\n",
       "      <td>0 days 01:04:36.350000</td>\n",
       "      <td>286.0</td>\n",
       "      <td>264.0</td>\n",
       "      <td>244.0</td>\n",
       "      <td>246.0</td>\n",
       "      <td>False</td>\n",
       "      <td>MEDIUM</td>\n",
       "      <td>1.0</td>\n",
       "      <td>False</td>\n",
       "      <td>McLaren</td>\n",
       "      <td>0 days 01:02:44.148000</td>\n",
       "      <td>2023-09-17 12:03:44.659</td>\n",
       "      <td>12</td>\n",
       "      <td>15.0</td>\n",
       "      <td>False</td>\n",
       "      <td></td>\n",
       "      <td>False</td>\n",
       "      <td>False</td>\n",
       "    </tr>\n",
       "    <tr>\n",
       "      <th>1084</th>\n",
       "      <td>0 days 01:04:37.507000</td>\n",
       "      <td>ALB</td>\n",
       "      <td>23</td>\n",
       "      <td>113.077</td>\n",
       "      <td>1.0</td>\n",
       "      <td>1.0</td>\n",
       "      <td>NaT</td>\n",
       "      <td>NaT</td>\n",
       "      <td>NaT</td>\n",
       "      <td>0 days 00:00:47.752000</td>\n",
       "      <td>0 days 00:00:28.526000</td>\n",
       "      <td>NaT</td>\n",
       "      <td>0 days 01:04:09.022000</td>\n",
       "      <td>0 days 01:04:37.553000</td>\n",
       "      <td>287.0</td>\n",
       "      <td>265.0</td>\n",
       "      <td>241.0</td>\n",
       "      <td>231.0</td>\n",
       "      <td>False</td>\n",
       "      <td>MEDIUM</td>\n",
       "      <td>1.0</td>\n",
       "      <td>True</td>\n",
       "      <td>Williams</td>\n",
       "      <td>0 days 01:02:44.148000</td>\n",
       "      <td>2023-09-17 12:03:44.659</td>\n",
       "      <td>12</td>\n",
       "      <td>16.0</td>\n",
       "      <td>False</td>\n",
       "      <td></td>\n",
       "      <td>False</td>\n",
       "      <td>False</td>\n",
       "    </tr>\n",
       "    <tr>\n",
       "      <th>1085</th>\n",
       "      <td>0 days 01:04:38.490000</td>\n",
       "      <td>SAR</td>\n",
       "      <td>2</td>\n",
       "      <td>114.060</td>\n",
       "      <td>1.0</td>\n",
       "      <td>1.0</td>\n",
       "      <td>NaT</td>\n",
       "      <td>NaT</td>\n",
       "      <td>NaT</td>\n",
       "      <td>0 days 00:00:48.432000</td>\n",
       "      <td>0 days 00:00:28.675000</td>\n",
       "      <td>NaT</td>\n",
       "      <td>0 days 01:04:09.881000</td>\n",
       "      <td>0 days 01:04:38.475000</td>\n",
       "      <td>301.0</td>\n",
       "      <td>265.0</td>\n",
       "      <td>240.0</td>\n",
       "      <td>245.0</td>\n",
       "      <td>False</td>\n",
       "      <td>MEDIUM</td>\n",
       "      <td>1.0</td>\n",
       "      <td>True</td>\n",
       "      <td>Williams</td>\n",
       "      <td>0 days 01:02:44.148000</td>\n",
       "      <td>2023-09-17 12:03:44.659</td>\n",
       "      <td>12</td>\n",
       "      <td>17.0</td>\n",
       "      <td>False</td>\n",
       "      <td></td>\n",
       "      <td>False</td>\n",
       "      <td>False</td>\n",
       "    </tr>\n",
       "    <tr>\n",
       "      <th>1086</th>\n",
       "      <td>0 days 01:04:39.144000</td>\n",
       "      <td>BOT</td>\n",
       "      <td>77</td>\n",
       "      <td>114.714</td>\n",
       "      <td>1.0</td>\n",
       "      <td>1.0</td>\n",
       "      <td>NaT</td>\n",
       "      <td>NaT</td>\n",
       "      <td>NaT</td>\n",
       "      <td>0 days 00:00:47.958000</td>\n",
       "      <td>0 days 00:00:29.043000</td>\n",
       "      <td>NaT</td>\n",
       "      <td>0 days 01:04:10.163000</td>\n",
       "      <td>0 days 01:04:39.147000</td>\n",
       "      <td>282.0</td>\n",
       "      <td>259.0</td>\n",
       "      <td>237.0</td>\n",
       "      <td>237.0</td>\n",
       "      <td>False</td>\n",
       "      <td>HARD</td>\n",
       "      <td>1.0</td>\n",
       "      <td>True</td>\n",
       "      <td>Alfa Romeo</td>\n",
       "      <td>0 days 01:02:44.148000</td>\n",
       "      <td>2023-09-17 12:03:44.659</td>\n",
       "      <td>12</td>\n",
       "      <td>18.0</td>\n",
       "      <td>False</td>\n",
       "      <td></td>\n",
       "      <td>False</td>\n",
       "      <td>False</td>\n",
       "    </tr>\n",
       "    <tr>\n",
       "      <th>1087</th>\n",
       "      <td>0 days 01:04:39.487000</td>\n",
       "      <td>ZHO</td>\n",
       "      <td>24</td>\n",
       "      <td>115.057</td>\n",
       "      <td>1.0</td>\n",
       "      <td>1.0</td>\n",
       "      <td>0 days 01:02:54.507000</td>\n",
       "      <td>NaT</td>\n",
       "      <td>NaT</td>\n",
       "      <td>0 days 00:00:45.252000</td>\n",
       "      <td>0 days 00:00:28.998000</td>\n",
       "      <td>NaT</td>\n",
       "      <td>0 days 01:04:10.569000</td>\n",
       "      <td>0 days 01:04:39.615000</td>\n",
       "      <td>283.0</td>\n",
       "      <td>238.0</td>\n",
       "      <td>243.0</td>\n",
       "      <td>NaN</td>\n",
       "      <td>False</td>\n",
       "      <td>SOFT</td>\n",
       "      <td>1.0</td>\n",
       "      <td>True</td>\n",
       "      <td>Alfa Romeo</td>\n",
       "      <td>0 days 01:02:44.148000</td>\n",
       "      <td>2023-09-17 12:03:44.659</td>\n",
       "      <td>12</td>\n",
       "      <td>19.0</td>\n",
       "      <td>False</td>\n",
       "      <td></td>\n",
       "      <td>False</td>\n",
       "      <td>False</td>\n",
       "    </tr>\n",
       "  </tbody>\n",
       "</table>\n",
       "<p>1088 rows × 31 columns</p>\n",
       "</div>"
      ],
      "text/plain": [
       "                       Time Driver DriverNumber  LapTime  LapNumber  Stint  \\\n",
       "0    0 days 02:49:21.852000    SAI           55   99.958       62.0    2.0   \n",
       "1    0 days 02:49:22.629000    NOR            4   99.677       62.0    2.0   \n",
       "2    0 days 02:49:23.092000    HAM           44   99.347       62.0    3.0   \n",
       "3    0 days 02:49:43.016000    LEC           16  100.946       62.0    2.0   \n",
       "4    0 days 02:49:43.290000    VER            1   98.197       62.0    2.0   \n",
       "...                     ...    ...          ...      ...        ...    ...   \n",
       "1083 0 days 01:04:36.357000    PIA           81  111.927        1.0    1.0   \n",
       "1084 0 days 01:04:37.507000    ALB           23  113.077        1.0    1.0   \n",
       "1085 0 days 01:04:38.490000    SAR            2  114.060        1.0    1.0   \n",
       "1086 0 days 01:04:39.144000    BOT           77  114.714        1.0    1.0   \n",
       "1087 0 days 01:04:39.487000    ZHO           24  115.057        1.0    1.0   \n",
       "\n",
       "                 PitOutTime PitInTime            Sector1Time  \\\n",
       "0                       NaT       NaT 0 days 00:00:29.012000   \n",
       "1                       NaT       NaT 0 days 00:00:28.523000   \n",
       "2                       NaT       NaT 0 days 00:00:28.765000   \n",
       "3                       NaT       NaT 0 days 00:00:29.131000   \n",
       "4                       NaT       NaT 0 days 00:00:28.493000   \n",
       "...                     ...       ...                    ...   \n",
       "1083                    NaT       NaT                    NaT   \n",
       "1084                    NaT       NaT                    NaT   \n",
       "1085                    NaT       NaT                    NaT   \n",
       "1086                    NaT       NaT                    NaT   \n",
       "1087 0 days 01:02:54.507000       NaT                    NaT   \n",
       "\n",
       "                Sector2Time            Sector3Time     Sector1SessionTime  \\\n",
       "0    0 days 00:00:43.101000 0 days 00:00:27.845000 0 days 02:48:10.906000   \n",
       "1    0 days 00:00:43.224000 0 days 00:00:27.930000 0 days 02:48:11.520000   \n",
       "2    0 days 00:00:42.817000 0 days 00:00:27.765000 0 days 02:48:12.531000   \n",
       "3    0 days 00:00:43.503000 0 days 00:00:28.312000 0 days 02:48:31.210000   \n",
       "4    0 days 00:00:41.975000 0 days 00:00:27.729000 0 days 02:48:33.582000   \n",
       "...                     ...                    ...                    ...   \n",
       "1083 0 days 00:00:46.249000 0 days 00:00:28.945000                    NaT   \n",
       "1084 0 days 00:00:47.752000 0 days 00:00:28.526000                    NaT   \n",
       "1085 0 days 00:00:48.432000 0 days 00:00:28.675000                    NaT   \n",
       "1086 0 days 00:00:47.958000 0 days 00:00:29.043000                    NaT   \n",
       "1087 0 days 00:00:45.252000 0 days 00:00:28.998000                    NaT   \n",
       "\n",
       "         Sector2SessionTime     Sector3SessionTime  SpeedI1  SpeedI2  SpeedFL  \\\n",
       "0    0 days 02:48:54.007000 0 days 02:49:21.852000    294.0    262.0    249.0   \n",
       "1    0 days 02:48:54.744000 0 days 02:49:22.674000    313.0    278.0    248.0   \n",
       "2    0 days 02:48:55.348000 0 days 02:49:23.113000    317.0    279.0    231.0   \n",
       "3    0 days 02:49:14.713000 0 days 02:49:43.025000      NaN    261.0    244.0   \n",
       "4    0 days 02:49:15.557000 0 days 02:49:43.286000    293.0    267.0    252.0   \n",
       "...                     ...                    ...      ...      ...      ...   \n",
       "1083 0 days 01:04:07.460000 0 days 01:04:36.350000    286.0    264.0    244.0   \n",
       "1084 0 days 01:04:09.022000 0 days 01:04:37.553000    287.0    265.0    241.0   \n",
       "1085 0 days 01:04:09.881000 0 days 01:04:38.475000    301.0    265.0    240.0   \n",
       "1086 0 days 01:04:10.163000 0 days 01:04:39.147000    282.0    259.0    237.0   \n",
       "1087 0 days 01:04:10.569000 0 days 01:04:39.615000    283.0    238.0    243.0   \n",
       "\n",
       "      SpeedST IsPersonalBest Compound  TyreLife  FreshTyre             Team  \\\n",
       "0         NaN          False     HARD      42.0       True          Ferrari   \n",
       "1       289.0          False     HARD      42.0       True          McLaren   \n",
       "2       304.0          False   MEDIUM      18.0       True         Mercedes   \n",
       "3         NaN          False     HARD      42.0       True          Ferrari   \n",
       "4       287.0          False   MEDIUM      22.0       True  Red Bull Racing   \n",
       "...       ...            ...      ...       ...        ...              ...   \n",
       "1083    246.0          False   MEDIUM       1.0      False          McLaren   \n",
       "1084    231.0          False   MEDIUM       1.0       True         Williams   \n",
       "1085    245.0          False   MEDIUM       1.0       True         Williams   \n",
       "1086    237.0          False     HARD       1.0       True       Alfa Romeo   \n",
       "1087      NaN          False     SOFT       1.0       True       Alfa Romeo   \n",
       "\n",
       "               LapStartTime            LapStartDate TrackStatus  Position  \\\n",
       "0    0 days 02:47:41.894000 2023-09-17 13:48:42.405          12       1.0   \n",
       "1    0 days 02:47:42.952000 2023-09-17 13:48:43.463          12       2.0   \n",
       "2    0 days 02:47:43.745000 2023-09-17 13:48:44.256          12       3.0   \n",
       "3    0 days 02:48:02.070000 2023-09-17 13:49:02.581          12       4.0   \n",
       "4    0 days 02:48:05.093000 2023-09-17 13:49:05.604          12       5.0   \n",
       "...                     ...                     ...         ...       ...   \n",
       "1083 0 days 01:02:44.148000 2023-09-17 12:03:44.659          12      15.0   \n",
       "1084 0 days 01:02:44.148000 2023-09-17 12:03:44.659          12      16.0   \n",
       "1085 0 days 01:02:44.148000 2023-09-17 12:03:44.659          12      17.0   \n",
       "1086 0 days 01:02:44.148000 2023-09-17 12:03:44.659          12      18.0   \n",
       "1087 0 days 01:02:44.148000 2023-09-17 12:03:44.659          12      19.0   \n",
       "\n",
       "      Deleted DeletedReason  FastF1Generated  IsAccurate  \n",
       "0       False                          False        True  \n",
       "1       False                          False        True  \n",
       "2       False                          False        True  \n",
       "3       False                          False        True  \n",
       "4       False                          False        True  \n",
       "...       ...           ...              ...         ...  \n",
       "1083    False                          False       False  \n",
       "1084    False                          False       False  \n",
       "1085    False                          False       False  \n",
       "1086    False                          False       False  \n",
       "1087    False                          False       False  \n",
       "\n",
       "[1088 rows x 31 columns]"
      ]
     },
     "execution_count": 4,
     "metadata": {},
     "output_type": "execute_result"
    }
   ],
   "source": [
    "# exploratory data analysis\n",
    "\n",
    "df = race.laps\n",
    "df = df.sort_values(by=['LapNumber','Position'], ascending=[False, True]).reset_index(drop=True)\n",
    "df.LapTime = df.LapTime.fillna(df['Sector1Time']+df['Sector2Time']+df['Sector3Time'])\n",
    "df.LapTime = df.LapTime.dt.total_seconds()\n",
    "df"
   ]
  },
  {
   "cell_type": "markdown",
   "id": "992067ac",
   "metadata": {},
   "source": [
    "## 1. Analysis of Lap Time Distribution by Driver"
   ]
  },
  {
   "cell_type": "code",
   "execution_count": 5,
   "id": "ffbd18d7",
   "metadata": {},
   "outputs": [],
   "source": [
    "# for color palette\n",
    "driver_color = {}\n",
    "for index,lap in df.iterrows():\n",
    "    driver = lap['Driver']\n",
    "    driver_color[driver] = fastf1.plotting.driver_color(driver)\n",
    "\n",
    "# # Plot box whisker plots for lap time distribution of each driver\n",
    "# plt.figure(figsize=(20,10))\n",
    "# sns.boxplot(data = df, x = df.Driver, y=df.LapTime, palette=driver_color)\n",
    "\n",
    "# plt.ylim(min(df.LapTime)-0.5, df.LapTime.median()+10)\n",
    "# plt.ylabel('Lap Time (s)')\n",
    "# plt.title('Lap Time Distribution for Each Driver in Singapore 2023',  fontsize=20)\n",
    "# plt.show()"
   ]
  },
  {
   "cell_type": "code",
   "execution_count": 6,
   "id": "a6ff28eb",
   "metadata": {},
   "outputs": [
    {
     "data": {
      "application/vnd.plotly.v1+json": {
       "config": {
        "plotlyServerURL": "https://plot.ly"
       },
       "data": [
        {
         "alignmentgroup": "True",
         "hovertemplate": "Driver=%{x}<br>Lap Time (s)=%{y}<extra></extra>",
         "legendgroup": "SAI",
         "marker": {
          "color": "#ff8181"
         },
         "name": "SAI",
         "notched": false,
         "offsetgroup": "SAI",
         "orientation": "v",
         "showlegend": true,
         "type": "box",
         "x": [
          "SAI",
          "SAI",
          "SAI",
          "SAI",
          "SAI",
          "SAI",
          "SAI",
          "SAI",
          "SAI",
          "SAI",
          "SAI",
          "SAI",
          "SAI",
          "SAI",
          "SAI",
          "SAI",
          "SAI",
          "SAI",
          "SAI",
          "SAI",
          "SAI",
          "SAI",
          "SAI",
          "SAI",
          "SAI",
          "SAI",
          "SAI",
          "SAI",
          "SAI",
          "SAI",
          "SAI",
          "SAI",
          "SAI",
          "SAI",
          "SAI",
          "SAI",
          "SAI",
          "SAI",
          "SAI",
          "SAI",
          "SAI",
          "SAI",
          "SAI",
          "SAI",
          "SAI",
          "SAI",
          "SAI",
          "SAI",
          "SAI",
          "SAI",
          "SAI",
          "SAI",
          "SAI",
          "SAI",
          "SAI",
          "SAI",
          "SAI",
          "SAI",
          "SAI",
          "SAI",
          "SAI",
          "SAI"
         ],
         "x0": " ",
         "xaxis": "x",
         "y": [
          99.95800000000001,
          99.292,
          100.042,
          99.575,
          99.337,
          98.909,
          98.52000000000001,
          98.54100000000001,
          98.70700000000001,
          98.32700000000001,
          98.218,
          98.04,
          98.637,
          98.221,
          98.2,
          97.66600000000001,
          97.91300000000001,
          121.32400000000001,
          138.57000000000002,
          99.248,
          99.93900000000001,
          99.798,
          99.393,
          99.253,
          99.519,
          99.884,
          99.54400000000001,
          99.97000000000001,
          100.025,
          99.235,
          99.18400000000001,
          99.63300000000001,
          100.21700000000001,
          100.22500000000001,
          101.23,
          99.83500000000001,
          99.185,
          99.72600000000001,
          99.792,
          102.423,
          150.809,
          188.571,
          116.82400000000001,
          99.02900000000001,
          98.992,
          99.44800000000001,
          99.39800000000001,
          99.93700000000001,
          100.39800000000001,
          100.35600000000001,
          100.53,
          100.29700000000001,
          100.369,
          99.626,
          100.503,
          100.17800000000001,
          100.113,
          100.551,
          100.58000000000001,
          100.962,
          101.38300000000001,
          103.30900000000001
         ],
         "y0": " ",
         "yaxis": "y"
        },
        {
         "alignmentgroup": "True",
         "hovertemplate": "Driver=%{x}<br>Lap Time (s)=%{y}<extra></extra>",
         "legendgroup": "NOR",
         "marker": {
          "color": "#eeb370"
         },
         "name": "NOR",
         "notched": false,
         "offsetgroup": "NOR",
         "orientation": "v",
         "showlegend": true,
         "type": "box",
         "x": [
          "NOR",
          "NOR",
          "NOR",
          "NOR",
          "NOR",
          "NOR",
          "NOR",
          "NOR",
          "NOR",
          "NOR",
          "NOR",
          "NOR",
          "NOR",
          "NOR",
          "NOR",
          "NOR",
          "NOR",
          "NOR",
          "NOR",
          "NOR",
          "NOR",
          "NOR",
          "NOR",
          "NOR",
          "NOR",
          "NOR",
          "NOR",
          "NOR",
          "NOR",
          "NOR",
          "NOR",
          "NOR",
          "NOR",
          "NOR",
          "NOR",
          "NOR",
          "NOR",
          "NOR",
          "NOR",
          "NOR",
          "NOR",
          "NOR",
          "NOR",
          "NOR",
          "NOR",
          "NOR",
          "NOR",
          "NOR",
          "NOR",
          "NOR",
          "NOR",
          "NOR",
          "NOR",
          "NOR",
          "NOR",
          "NOR",
          "NOR",
          "NOR",
          "NOR",
          "NOR",
          "NOR",
          "NOR"
         ],
         "x0": " ",
         "xaxis": "x",
         "y": [
          99.677,
          99.51,
          99.396,
          100.41600000000001,
          99.16000000000001,
          98.617,
          98.47300000000001,
          98.492,
          98.423,
          98.39200000000001,
          98.25,
          98.12400000000001,
          98.14800000000001,
          98.173,
          98.049,
          98.15700000000001,
          98.046,
          120.748,
          138.86,
          99.56,
          99.60600000000001,
          99.662,
          99.346,
          99.271,
          99.72000000000001,
          99.83800000000001,
          99.462,
          99.70100000000001,
          100.06,
          99.66300000000001,
          99.29100000000001,
          99.367,
          99.736,
          100.09700000000001,
          100.26700000000001,
          99.406,
          99.48400000000001,
          100.24000000000001,
          100.32000000000001,
          102.789,
          148.267,
          181.311,
          121.158,
          99.88000000000001,
          99.69300000000001,
          100.024,
          100.34200000000001,
          100.247,
          100.421,
          100.372,
          100.46600000000001,
          100.355,
          99.974,
          100.13000000000001,
          100.301,
          99.97200000000001,
          99.992,
          100.28500000000001,
          101.67800000000001,
          101.12400000000001,
          101.82600000000001,
          106.415
         ],
         "y0": " ",
         "yaxis": "y"
        },
        {
         "alignmentgroup": "True",
         "hovertemplate": "Driver=%{x}<br>Lap Time (s)=%{y}<extra></extra>",
         "legendgroup": "HAM",
         "marker": {
          "color": "#00d2be"
         },
         "name": "HAM",
         "notched": false,
         "offsetgroup": "HAM",
         "orientation": "v",
         "showlegend": true,
         "type": "box",
         "x": [
          "HAM",
          "HAM",
          "HAM",
          "HAM",
          "HAM",
          "HAM",
          "HAM",
          "HAM",
          "HAM",
          "HAM",
          "HAM",
          "HAM",
          "HAM",
          "HAM",
          "HAM",
          "HAM",
          "HAM",
          "HAM",
          "HAM",
          "HAM",
          "HAM",
          "HAM",
          "HAM",
          "HAM",
          "HAM",
          "HAM",
          "HAM",
          "HAM",
          "HAM",
          "HAM",
          "HAM",
          "HAM",
          "HAM",
          "HAM",
          "HAM",
          "HAM",
          "HAM",
          "HAM",
          "HAM",
          "HAM",
          "HAM",
          "HAM",
          "HAM",
          "HAM",
          "HAM",
          "HAM",
          "HAM",
          "HAM",
          "HAM",
          "HAM",
          "HAM",
          "HAM",
          "HAM",
          "HAM",
          "HAM",
          "HAM",
          "HAM",
          "HAM",
          "HAM",
          "HAM",
          "HAM",
          "HAM"
         ],
         "x0": " ",
         "xaxis": "x",
         "y": [
          99.34700000000001,
          99.096,
          99.772,
          100.167,
          97.982,
          97.111,
          96.411,
          97.221,
          97.924,
          97.69800000000001,
          96.555,
          96.479,
          96.462,
          96.22000000000001,
          96.122,
          95.867,
          96.953,
          133.606,
          145.716,
          99.29100000000001,
          99.686,
          99.69800000000001,
          99.47200000000001,
          99.26400000000001,
          99.86,
          99.959,
          99.36200000000001,
          99.51,
          99.545,
          100.62,
          99.186,
          99.32000000000001,
          99.14200000000001,
          99.52000000000001,
          99.679,
          99.226,
          99.95400000000001,
          100.44200000000001,
          100.95700000000001,
          103.08000000000001,
          146.23100000000002,
          181.82600000000002,
          121.81500000000001,
          99.394,
          100.364,
          100.38000000000001,
          100.78500000000001,
          100.394,
          100.27300000000001,
          100.081,
          100.218,
          100.241,
          100.144,
          100.31200000000001,
          100.16600000000001,
          99.918,
          100.126,
          100.97800000000001,
          102.861,
          101.08800000000001,
          102.587,
          105.02300000000001
         ],
         "y0": " ",
         "yaxis": "y"
        },
        {
         "alignmentgroup": "True",
         "hovertemplate": "Driver=%{x}<br>Lap Time (s)=%{y}<extra></extra>",
         "legendgroup": "LEC",
         "marker": {
          "color": "#dc0000"
         },
         "name": "LEC",
         "notched": false,
         "offsetgroup": "LEC",
         "orientation": "v",
         "showlegend": true,
         "type": "box",
         "x": [
          "LEC",
          "LEC",
          "LEC",
          "LEC",
          "LEC",
          "LEC",
          "LEC",
          "LEC",
          "LEC",
          "LEC",
          "LEC",
          "LEC",
          "LEC",
          "LEC",
          "LEC",
          "LEC",
          "LEC",
          "LEC",
          "LEC",
          "LEC",
          "LEC",
          "LEC",
          "LEC",
          "LEC",
          "LEC",
          "LEC",
          "LEC",
          "LEC",
          "LEC",
          "LEC",
          "LEC",
          "LEC",
          "LEC",
          "LEC",
          "LEC",
          "LEC",
          "LEC",
          "LEC",
          "LEC",
          "LEC",
          "LEC",
          "LEC",
          "LEC",
          "LEC",
          "LEC",
          "LEC",
          "LEC",
          "LEC",
          "LEC",
          "LEC",
          "LEC",
          "LEC",
          "LEC",
          "LEC",
          "LEC",
          "LEC",
          "LEC",
          "LEC",
          "LEC",
          "LEC",
          "LEC",
          "LEC"
         ],
         "x0": " ",
         "xaxis": "x",
         "y": [
          100.94600000000001,
          100.61500000000001,
          100.105,
          100.545,
          100.22200000000001,
          100.043,
          100.298,
          100.617,
          101.831,
          100.21300000000001,
          98.84800000000001,
          98.80300000000001,
          98.43900000000001,
          98.453,
          98.49600000000001,
          98.403,
          98.275,
          120.846,
          138.447,
          99.99600000000001,
          99.888,
          99.36800000000001,
          99.557,
          99.44800000000001,
          99.94600000000001,
          99.63900000000001,
          99.44300000000001,
          99.747,
          99.518,
          99.485,
          99.391,
          99.433,
          99.20800000000001,
          99.683,
          99.56200000000001,
          99.899,
          99.89200000000001,
          99.748,
          102.668,
          103.95500000000001,
          147.929,
          184.76600000000002,
          121.62400000000001,
          100.236,
          99.613,
          99.80000000000001,
          99.625,
          99.613,
          101.622,
          100.15400000000001,
          100.39200000000001,
          100.403,
          100.79,
          99.646,
          100.396,
          100.27900000000001,
          100.165,
          100.328,
          100.661,
          100.75200000000001,
          101.33800000000001,
          104.54400000000001
         ],
         "y0": " ",
         "yaxis": "y"
        },
        {
         "alignmentgroup": "True",
         "hovertemplate": "Driver=%{x}<br>Lap Time (s)=%{y}<extra></extra>",
         "legendgroup": "VER",
         "marker": {
          "color": "#fcd700"
         },
         "name": "VER",
         "notched": false,
         "offsetgroup": "VER",
         "orientation": "v",
         "showlegend": true,
         "type": "box",
         "x": [
          "VER",
          "VER",
          "VER",
          "VER",
          "VER",
          "VER",
          "VER",
          "VER",
          "VER",
          "VER",
          "VER",
          "VER",
          "VER",
          "VER",
          "VER",
          "VER",
          "VER",
          "VER",
          "VER",
          "VER",
          "VER",
          "VER",
          "VER",
          "VER",
          "VER",
          "VER",
          "VER",
          "VER",
          "VER",
          "VER",
          "VER",
          "VER",
          "VER",
          "VER",
          "VER",
          "VER",
          "VER",
          "VER",
          "VER",
          "VER",
          "VER",
          "VER",
          "VER",
          "VER",
          "VER",
          "VER",
          "VER",
          "VER",
          "VER",
          "VER",
          "VER",
          "VER",
          "VER",
          "VER",
          "VER",
          "VER",
          "VER",
          "VER",
          "VER",
          "VER",
          "VER",
          "VER"
         ],
         "x0": " ",
         "xaxis": "x",
         "y": [
          98.197,
          96.575,
          96.75800000000001,
          96.748,
          96.912,
          99.299,
          97.519,
          96.899,
          98.19600000000001,
          97.132,
          96.83500000000001,
          97.144,
          99.006,
          97.08500000000001,
          98.33300000000001,
          98.09,
          97.57000000000001,
          104.93900000000001,
          137.52200000000002,
          116.35700000000001,
          97.71300000000001,
          119.248,
          108.808,
          101.173,
          100.61,
          100.224,
          100.372,
          100.266,
          100.378,
          100.087,
          100.033,
          100.247,
          100.32600000000001,
          100.43700000000001,
          101.43100000000001,
          101.18,
          100.244,
          100.7,
          101.971,
          103.346,
          149.966,
          172.08200000000002,
          118.29400000000001,
          100.74600000000001,
          100.46400000000001,
          100.48100000000001,
          100.39,
          100.206,
          100.63300000000001,
          100.69300000000001,
          100.602,
          100.423,
          100.408,
          100.26400000000001,
          100.177,
          100.423,
          101.313,
          101.308,
          101.143,
          101.51,
          101.596,
          109.82700000000001
         ],
         "y0": " ",
         "yaxis": "y"
        },
        {
         "alignmentgroup": "True",
         "hovertemplate": "Driver=%{x}<br>Lap Time (s)=%{y}<extra></extra>",
         "legendgroup": "GAS",
         "marker": {
          "color": "#fe86bc"
         },
         "name": "GAS",
         "notched": false,
         "offsetgroup": "GAS",
         "orientation": "v",
         "showlegend": true,
         "type": "box",
         "x": [
          "GAS",
          "GAS",
          "GAS",
          "GAS",
          "GAS",
          "GAS",
          "GAS",
          "GAS",
          "GAS",
          "GAS",
          "GAS",
          "GAS",
          "GAS",
          "GAS",
          "GAS",
          "GAS",
          "GAS",
          "GAS",
          "GAS",
          "GAS",
          "GAS",
          "GAS",
          "GAS",
          "GAS",
          "GAS",
          "GAS",
          "GAS",
          "GAS",
          "GAS",
          "GAS",
          "GAS",
          "GAS",
          "GAS",
          "GAS",
          "GAS",
          "GAS",
          "GAS",
          "GAS",
          "GAS",
          "GAS",
          "GAS",
          "GAS",
          "GAS",
          "GAS",
          "GAS",
          "GAS",
          "GAS",
          "GAS",
          "GAS",
          "GAS",
          "GAS",
          "GAS",
          "GAS",
          "GAS",
          "GAS",
          "GAS",
          "GAS",
          "GAS",
          "GAS",
          "GAS",
          "GAS",
          "GAS"
         ],
         "x0": " ",
         "xaxis": "x",
         "y": [
          102.27300000000001,
          99.71100000000001,
          99.62,
          99.709,
          99.658,
          100.87400000000001,
          99.292,
          99.373,
          98.84400000000001,
          98.718,
          98.75500000000001,
          98.525,
          98.688,
          98.634,
          98.548,
          98.56800000000001,
          98.277,
          111.23800000000001,
          137.976,
          110.49100000000001,
          99.83500000000001,
          99.93400000000001,
          99.885,
          102.86,
          101.26100000000001,
          100.50800000000001,
          99.965,
          102.563,
          101.32100000000001,
          100.15400000000001,
          100.406,
          99.974,
          100.28,
          101.706,
          101.536,
          100.396,
          100.92,
          101.048,
          102.40700000000001,
          103.34400000000001,
          140.73000000000002,
          169.697,
          128.721,
          101.061,
          100.866,
          100.673,
          100.929,
          100.602,
          100.62700000000001,
          100.82900000000001,
          100.43900000000001,
          100.72800000000001,
          100.378,
          101.063,
          100.677,
          101.399,
          101.82900000000001,
          101.292,
          101.334,
          101.44200000000001,
          102.35300000000001,
          110.11500000000001
         ],
         "y0": " ",
         "yaxis": "y"
        },
        {
         "alignmentgroup": "True",
         "hovertemplate": "Driver=%{x}<br>Lap Time (s)=%{y}<extra></extra>",
         "legendgroup": "PIA",
         "marker": {
          "color": "#ff8700"
         },
         "name": "PIA",
         "notched": false,
         "offsetgroup": "PIA",
         "orientation": "v",
         "showlegend": true,
         "type": "box",
         "x": [
          "PIA",
          "PIA",
          "PIA",
          "PIA",
          "PIA",
          "PIA",
          "PIA",
          "PIA",
          "PIA",
          "PIA",
          "PIA",
          "PIA",
          "PIA",
          "PIA",
          "PIA",
          "PIA",
          "PIA",
          "PIA",
          "PIA",
          "PIA",
          "PIA",
          "PIA",
          "PIA",
          "PIA",
          "PIA",
          "PIA",
          "PIA",
          "PIA",
          "PIA",
          "PIA",
          "PIA",
          "PIA",
          "PIA",
          "PIA",
          "PIA",
          "PIA",
          "PIA",
          "PIA",
          "PIA",
          "PIA",
          "PIA",
          "PIA",
          "PIA",
          "PIA",
          "PIA",
          "PIA",
          "PIA",
          "PIA",
          "PIA",
          "PIA",
          "PIA",
          "PIA",
          "PIA",
          "PIA",
          "PIA",
          "PIA",
          "PIA",
          "PIA",
          "PIA",
          "PIA",
          "PIA",
          "PIA"
         ],
         "x0": " ",
         "xaxis": "x",
         "y": [
          101.41000000000001,
          99.616,
          99.18900000000001,
          99.42800000000001,
          99.516,
          99.14,
          99.141,
          100.108,
          100.546,
          98.77300000000001,
          98.793,
          98.656,
          98.83200000000001,
          99.00800000000001,
          98.647,
          98.88900000000001,
          98.492,
          112.685,
          136.298,
          112.35600000000001,
          99.783,
          99.982,
          100.299,
          102.986,
          100.858,
          100.36800000000001,
          100.587,
          102.20400000000001,
          101.59800000000001,
          100.23700000000001,
          100.104,
          100.033,
          100.55300000000001,
          101.74900000000001,
          101.47000000000001,
          100.52900000000001,
          100.802,
          101.272,
          102.238,
          103.549,
          138.79000000000002,
          167.764,
          128.99800000000002,
          101.322,
          100.89500000000001,
          100.846,
          100.60000000000001,
          100.709,
          100.307,
          101.119,
          100.563,
          100.67800000000001,
          100.528,
          100.474,
          101.09100000000001,
          102.30900000000001,
          102.673,
          101.241,
          101.37,
          101.909,
          102.06,
          111.927
         ],
         "y0": " ",
         "yaxis": "y"
        },
        {
         "alignmentgroup": "True",
         "hovertemplate": "Driver=%{x}<br>Lap Time (s)=%{y}<extra></extra>",
         "legendgroup": "PER",
         "marker": {
          "color": "#ffec7b"
         },
         "name": "PER",
         "notched": false,
         "offsetgroup": "PER",
         "orientation": "v",
         "showlegend": true,
         "type": "box",
         "x": [
          "PER",
          "PER",
          "PER",
          "PER",
          "PER",
          "PER",
          "PER",
          "PER",
          "PER",
          "PER",
          "PER",
          "PER",
          "PER",
          "PER",
          "PER",
          "PER",
          "PER",
          "PER",
          "PER",
          "PER",
          "PER",
          "PER",
          "PER",
          "PER",
          "PER",
          "PER",
          "PER",
          "PER",
          "PER",
          "PER",
          "PER",
          "PER",
          "PER",
          "PER",
          "PER",
          "PER",
          "PER",
          "PER",
          "PER",
          "PER",
          "PER",
          "PER",
          "PER",
          "PER",
          "PER",
          "PER",
          "PER",
          "PER",
          "PER",
          "PER",
          "PER",
          "PER",
          "PER",
          "PER",
          "PER",
          "PER",
          "PER",
          "PER",
          "PER",
          "PER",
          "PER",
          "PER"
         ],
         "x0": " ",
         "xaxis": "x",
         "y": [
          98.18900000000001,
          97.108,
          99.147,
          102.042,
          100.912,
          101.36500000000001,
          98.016,
          97.74600000000001,
          98.38600000000001,
          99.32000000000001,
          99.858,
          98.116,
          97.799,
          98.01,
          98.351,
          98.235,
          97.54100000000001,
          100.229,
          137.392,
          120.69000000000001,
          98.709,
          98.551,
          119.337,
          113.087,
          101.32100000000001,
          103.171,
          101.489,
          100.32600000000001,
          100.822,
          100.355,
          100.254,
          100.20500000000001,
          100.319,
          100.29,
          101.83300000000001,
          100.5,
          100.59500000000001,
          101.53200000000001,
          102.735,
          104.19500000000001,
          148.562,
          162.64100000000002,
          121.114,
          101.40400000000001,
          101.07700000000001,
          100.98700000000001,
          100.688,
          100.53800000000001,
          100.31400000000001,
          100.843,
          100.715,
          100.69300000000001,
          100.643,
          100.694,
          100.55600000000001,
          101.35300000000001,
          103.147,
          101.331,
          101.35400000000001,
          101.622,
          102.009,
          111.58900000000001
         ],
         "y0": " ",
         "yaxis": "y"
        },
        {
         "alignmentgroup": "True",
         "hovertemplate": "Driver=%{x}<br>Lap Time (s)=%{y}<extra></extra>",
         "legendgroup": "LAW",
         "marker": {
          "color": "#2b4562"
         },
         "name": "LAW",
         "notched": false,
         "offsetgroup": "LAW",
         "orientation": "v",
         "showlegend": true,
         "type": "box",
         "x": [
          "LAW",
          "LAW",
          "LAW",
          "LAW",
          "LAW",
          "LAW",
          "LAW",
          "LAW",
          "LAW",
          "LAW",
          "LAW",
          "LAW",
          "LAW",
          "LAW",
          "LAW",
          "LAW",
          "LAW",
          "LAW",
          "LAW",
          "LAW",
          "LAW",
          "LAW",
          "LAW",
          "LAW",
          "LAW",
          "LAW",
          "LAW",
          "LAW",
          "LAW",
          "LAW",
          "LAW",
          "LAW",
          "LAW",
          "LAW",
          "LAW",
          "LAW",
          "LAW",
          "LAW",
          "LAW",
          "LAW",
          "LAW",
          "LAW",
          "LAW",
          "LAW",
          "LAW",
          "LAW",
          "LAW",
          "LAW",
          "LAW",
          "LAW",
          "LAW",
          "LAW",
          "LAW",
          "LAW",
          "LAW",
          "LAW",
          "LAW",
          "LAW",
          "LAW",
          "LAW",
          "LAW",
          "LAW"
         ],
         "x0": " ",
         "xaxis": "x",
         "y": [
          102.328,
          101.007,
          103.08900000000001,
          101.91000000000001,
          101.423,
          101.69800000000001,
          99.962,
          99.80300000000001,
          99.884,
          99.99600000000001,
          99.95,
          100.801,
          101.093,
          99.783,
          99.38600000000001,
          99.028,
          99.132,
          110.881,
          138.52800000000002,
          111.885,
          100.18100000000001,
          100.31500000000001,
          101.182,
          101.84500000000001,
          101.10600000000001,
          100.79700000000001,
          101.10000000000001,
          102.14800000000001,
          100.953,
          100.334,
          100.055,
          100.44000000000001,
          100.99900000000001,
          101.515,
          101.5,
          100.23100000000001,
          100.971,
          101.399,
          102.29400000000001,
          103.52300000000001,
          137.71300000000002,
          172.02800000000002,
          128.455,
          101.286,
          101.119,
          100.94000000000001,
          100.941,
          100.72800000000001,
          100.676,
          100.64200000000001,
          100.45400000000001,
          100.82400000000001,
          100.59800000000001,
          100.88600000000001,
          100.893,
          101.468,
          101.933,
          101.35100000000001,
          101.35900000000001,
          101.51400000000001,
          102.13900000000001,
          110.93400000000001
         ],
         "y0": " ",
         "yaxis": "y"
        },
        {
         "alignmentgroup": "True",
         "hovertemplate": "Driver=%{x}<br>Lap Time (s)=%{y}<extra></extra>",
         "legendgroup": "MAG",
         "marker": {
          "color": "#ffffff"
         },
         "name": "MAG",
         "notched": false,
         "offsetgroup": "MAG",
         "orientation": "v",
         "showlegend": true,
         "type": "box",
         "x": [
          "MAG",
          "MAG",
          "MAG",
          "MAG",
          "MAG",
          "MAG",
          "MAG",
          "MAG",
          "MAG",
          "MAG",
          "MAG",
          "MAG",
          "MAG",
          "MAG",
          "MAG",
          "MAG",
          "MAG",
          "MAG",
          "MAG",
          "MAG",
          "MAG",
          "MAG",
          "MAG",
          "MAG",
          "MAG",
          "MAG",
          "MAG",
          "MAG",
          "MAG",
          "MAG",
          "MAG",
          "MAG",
          "MAG",
          "MAG",
          "MAG",
          "MAG",
          "MAG",
          "MAG",
          "MAG",
          "MAG",
          "MAG",
          "MAG",
          "MAG",
          "MAG",
          "MAG",
          "MAG",
          "MAG",
          "MAG",
          "MAG",
          "MAG",
          "MAG",
          "MAG",
          "MAG",
          "MAG",
          "MAG",
          "MAG",
          "MAG",
          "MAG",
          "MAG",
          "MAG",
          "MAG",
          "MAG"
         ],
         "x0": " ",
         "xaxis": "x",
         "y": [
          99.418,
          98.44500000000001,
          99.69500000000001,
          100.39800000000001,
          102.141,
          98.95400000000001,
          98.56700000000001,
          98.29,
          98.495,
          98.69300000000001,
          98.40700000000001,
          98.215,
          98.28,
          98.367,
          98.107,
          99.742,
          100.988,
          99.787,
          157.11100000000002,
          126.00200000000001,
          100.956,
          101.307,
          101.757,
          101.93400000000001,
          101.59100000000001,
          102.352,
          108.13000000000001,
          102.61200000000001,
          101.29100000000001,
          100.096,
          100.46400000000001,
          100.03,
          100.224,
          101.56500000000001,
          101.57900000000001,
          100.48100000000001,
          100.85100000000001,
          101.10900000000001,
          102.343,
          103.438,
          141.983,
          171.598,
          126.536,
          101.007,
          100.99300000000001,
          100.85900000000001,
          100.671,
          100.59800000000001,
          100.515,
          100.828,
          100.70500000000001,
          100.415,
          100.504,
          100.995,
          100.63000000000001,
          100.834,
          102.626,
          101.46900000000001,
          101.004,
          101.539,
          102.668,
          108.34500000000001
         ],
         "y0": " ",
         "yaxis": "y"
        },
        {
         "alignmentgroup": "True",
         "hovertemplate": "Driver=%{x}<br>Lap Time (s)=%{y}<extra></extra>",
         "legendgroup": "ALB",
         "marker": {
          "color": "#005aff"
         },
         "name": "ALB",
         "notched": false,
         "offsetgroup": "ALB",
         "orientation": "v",
         "showlegend": true,
         "type": "box",
         "x": [
          "ALB",
          "ALB",
          "ALB",
          "ALB",
          "ALB",
          "ALB",
          "ALB",
          "ALB",
          "ALB",
          "ALB",
          "ALB",
          "ALB",
          "ALB",
          "ALB",
          "ALB",
          "ALB",
          "ALB",
          "ALB",
          "ALB",
          "ALB",
          "ALB",
          "ALB",
          "ALB",
          "ALB",
          "ALB",
          "ALB",
          "ALB",
          "ALB",
          "ALB",
          "ALB",
          "ALB",
          "ALB",
          "ALB",
          "ALB",
          "ALB",
          "ALB",
          "ALB",
          "ALB",
          "ALB",
          "ALB",
          "ALB",
          "ALB",
          "ALB",
          "ALB",
          "ALB",
          "ALB",
          "ALB",
          "ALB",
          "ALB",
          "ALB",
          "ALB",
          "ALB",
          "ALB",
          "ALB",
          "ALB",
          "ALB",
          "ALB",
          "ALB",
          "ALB",
          "ALB",
          "ALB",
          "ALB"
         ],
         "x0": " ",
         "xaxis": "x",
         "y": [
          99.891,
          98.501,
          99.668,
          100.685,
          117.96400000000001,
          101.555,
          98.387,
          97.656,
          98.226,
          99.613,
          100.048,
          98.21300000000001,
          98.122,
          98.019,
          97.992,
          98.04700000000001,
          97.34200000000001,
          100.91900000000001,
          154.978,
          120.929,
          100.637,
          100.57900000000001,
          100.935,
          101.24600000000001,
          100.837,
          101.028,
          101.94000000000001,
          101.06500000000001,
          100.55000000000001,
          100.772,
          100.542,
          100.98100000000001,
          100.46900000000001,
          101.45500000000001,
          101.44200000000001,
          101.30900000000001,
          100.927,
          100.96100000000001,
          103.087,
          103.117,
          135.18200000000002,
          172.288,
          128.59900000000002,
          101.174,
          100.94900000000001,
          100.68900000000001,
          100.81500000000001,
          100.638,
          100.775,
          100.75500000000001,
          100.45800000000001,
          100.363,
          100.625,
          100.869,
          101.31800000000001,
          103.107,
          102.001,
          101.361,
          101.47300000000001,
          101.783,
          101.902,
          113.07700000000001
         ],
         "y0": " ",
         "yaxis": "y"
        },
        {
         "alignmentgroup": "True",
         "hovertemplate": "Driver=%{x}<br>Lap Time (s)=%{y}<extra></extra>",
         "legendgroup": "ZHO",
         "marker": {
          "color": "#008d01"
         },
         "name": "ZHO",
         "notched": false,
         "offsetgroup": "ZHO",
         "orientation": "v",
         "showlegend": true,
         "type": "box",
         "x": [
          "ZHO",
          "ZHO",
          "ZHO",
          "ZHO",
          "ZHO",
          "ZHO",
          "ZHO",
          "ZHO",
          "ZHO",
          "ZHO",
          "ZHO",
          "ZHO",
          "ZHO",
          "ZHO",
          "ZHO",
          "ZHO",
          "ZHO",
          "ZHO",
          "ZHO",
          "ZHO",
          "ZHO",
          "ZHO",
          "ZHO",
          "ZHO",
          "ZHO",
          "ZHO",
          "ZHO",
          "ZHO",
          "ZHO",
          "ZHO",
          "ZHO",
          "ZHO",
          "ZHO",
          "ZHO",
          "ZHO",
          "ZHO",
          "ZHO",
          "ZHO",
          "ZHO",
          "ZHO",
          "ZHO",
          "ZHO",
          "ZHO",
          "ZHO",
          "ZHO",
          "ZHO",
          "ZHO",
          "ZHO",
          "ZHO",
          "ZHO",
          "ZHO",
          "ZHO",
          "ZHO",
          "ZHO",
          "ZHO",
          "ZHO",
          "ZHO",
          "ZHO",
          "ZHO",
          "ZHO",
          "ZHO",
          "ZHO"
         ],
         "x0": " ",
         "xaxis": "x",
         "y": [
          102.24600000000001,
          102.01,
          101.79400000000001,
          103.77300000000001,
          102.795,
          101.41900000000001,
          101.215,
          100.798,
          101.70800000000001,
          101.753,
          103.70800000000001,
          100.482,
          99.81800000000001,
          100.042,
          99.79,
          100.485,
          99.316,
          110.632,
          137.51600000000002,
          114.35700000000001,
          100.42500000000001,
          100.85300000000001,
          100.80600000000001,
          100.894,
          100.82100000000001,
          101.14800000000001,
          102.747,
          101.18900000000001,
          100.49900000000001,
          100.70800000000001,
          100.57600000000001,
          100.778,
          100.866,
          101.47600000000001,
          101.31,
          100.57000000000001,
          100.97300000000001,
          101.346,
          103.94900000000001,
          102.74900000000001,
          120.733,
          156.24,
          136.69400000000002,
          101.68400000000001,
          100.58200000000001,
          100.424,
          100.42500000000001,
          100.46300000000001,
          100.83300000000001,
          100.397,
          100.316,
          100.534,
          100.566,
          100.555,
          101.24000000000001,
          100.58800000000001,
          100.471,
          100.37100000000001,
          99.869,
          122.71600000000001,
          109.96900000000001,
          115.057
         ],
         "y0": " ",
         "yaxis": "y"
        },
        {
         "alignmentgroup": "True",
         "hovertemplate": "Driver=%{x}<br>Lap Time (s)=%{y}<extra></extra>",
         "legendgroup": "HUL",
         "marker": {
          "color": "#cacaca"
         },
         "name": "HUL",
         "notched": false,
         "offsetgroup": "HUL",
         "orientation": "v",
         "showlegend": true,
         "type": "box",
         "x": [
          "HUL",
          "HUL",
          "HUL",
          "HUL",
          "HUL",
          "HUL",
          "HUL",
          "HUL",
          "HUL",
          "HUL",
          "HUL",
          "HUL",
          "HUL",
          "HUL",
          "HUL",
          "HUL",
          "HUL",
          "HUL",
          "HUL",
          "HUL",
          "HUL",
          "HUL",
          "HUL",
          "HUL",
          "HUL",
          "HUL",
          "HUL",
          "HUL",
          "HUL",
          "HUL",
          "HUL",
          "HUL",
          "HUL",
          "HUL",
          "HUL",
          "HUL",
          "HUL",
          "HUL",
          "HUL",
          "HUL",
          "HUL",
          "HUL",
          "HUL",
          "HUL",
          "HUL",
          "HUL",
          "HUL",
          "HUL",
          "HUL",
          "HUL",
          "HUL",
          "HUL",
          "HUL",
          "HUL",
          "HUL",
          "HUL",
          "HUL",
          "HUL",
          "HUL",
          "HUL",
          "HUL",
          "HUL"
         ],
         "x0": " ",
         "xaxis": "x",
         "y": [
          103.72800000000001,
          103.503,
          104.766,
          101.53800000000001,
          102.177,
          101.41000000000001,
          101.28500000000001,
          101.16000000000001,
          101.918,
          103.808,
          100.94600000000001,
          100.729,
          99.923,
          100.65,
          100.789,
          99.971,
          100.00500000000001,
          111.986,
          136.65300000000002,
          113.224,
          100.52300000000001,
          100.68700000000001,
          101.257,
          102.01,
          101.051,
          100.482,
          101.128,
          101.622,
          100.644,
          100.694,
          101.03800000000001,
          100.07600000000001,
          100.69200000000001,
          101.57000000000001,
          101.78,
          100.42500000000001,
          100.93,
          101.165,
          103.04400000000001,
          103.093,
          136.853,
          175.88000000000002,
          128.679,
          101.096,
          100.87700000000001,
          100.753,
          100.789,
          100.69300000000001,
          100.641,
          100.783,
          100.479,
          100.55900000000001,
          100.63300000000001,
          100.97800000000001,
          100.73400000000001,
          101.117,
          101.94900000000001,
          101.35000000000001,
          101.256,
          101.4,
          102.849,
          109.191
         ],
         "y0": " ",
         "yaxis": "y"
        },
        {
         "alignmentgroup": "True",
         "hovertemplate": "Driver=%{x}<br>Lap Time (s)=%{y}<extra></extra>",
         "legendgroup": "SAR",
         "marker": {
          "color": "#012564"
         },
         "name": "SAR",
         "notched": false,
         "offsetgroup": "SAR",
         "orientation": "v",
         "showlegend": true,
         "type": "box",
         "x": [
          "SAR",
          "SAR",
          "SAR",
          "SAR",
          "SAR",
          "SAR",
          "SAR",
          "SAR",
          "SAR",
          "SAR",
          "SAR",
          "SAR",
          "SAR",
          "SAR",
          "SAR",
          "SAR",
          "SAR",
          "SAR",
          "SAR",
          "SAR",
          "SAR",
          "SAR",
          "SAR",
          "SAR",
          "SAR",
          "SAR",
          "SAR",
          "SAR",
          "SAR",
          "SAR",
          "SAR",
          "SAR",
          "SAR",
          "SAR",
          "SAR",
          "SAR",
          "SAR",
          "SAR",
          "SAR",
          "SAR",
          "SAR",
          "SAR",
          "SAR",
          "SAR",
          "SAR",
          "SAR",
          "SAR",
          "SAR",
          "SAR",
          "SAR",
          "SAR",
          "SAR",
          "SAR",
          "SAR",
          "SAR",
          "SAR",
          "SAR",
          "SAR",
          "SAR",
          "SAR",
          "SAR",
          "SAR"
         ],
         "x0": " ",
         "xaxis": "x",
         "y": [
          103.95500000000001,
          101.938,
          99.786,
          99.37400000000001,
          100.76700000000001,
          99.171,
          98.881,
          98.858,
          98.933,
          98.983,
          98.81200000000001,
          98.62,
          98.65700000000001,
          98.69000000000001,
          98.71100000000001,
          98.58900000000001,
          98.784,
          98.531,
          153.25300000000001,
          128.40800000000002,
          100.602,
          100.29700000000001,
          100.28,
          100.134,
          99.87700000000001,
          99.75200000000001,
          99.878,
          99.76400000000001,
          99.799,
          99.763,
          99.807,
          99.69000000000001,
          99.90400000000001,
          99.748,
          99.97200000000001,
          99.88900000000001,
          100.33800000000001,
          100.30000000000001,
          100.39,
          99.85600000000001,
          100.354,
          135.091,
          null,
          149.645,
          101.57000000000001,
          101.113,
          100.965,
          100.83800000000001,
          100.983,
          100.79700000000001,
          100.554,
          100.71100000000001,
          100.739,
          101.22800000000001,
          101.683,
          102.88600000000001,
          101.63600000000001,
          101.26400000000001,
          101.875,
          101.7,
          101.983,
          114.06
         ],
         "y0": " ",
         "yaxis": "y"
        },
        {
         "alignmentgroup": "True",
         "hovertemplate": "Driver=%{x}<br>Lap Time (s)=%{y}<extra></extra>",
         "legendgroup": "ALO",
         "marker": {
          "color": "#006f62"
         },
         "name": "ALO",
         "notched": false,
         "offsetgroup": "ALO",
         "orientation": "v",
         "showlegend": true,
         "type": "box",
         "x": [
          "ALO",
          "ALO",
          "ALO",
          "ALO",
          "ALO",
          "ALO",
          "ALO",
          "ALO",
          "ALO",
          "ALO",
          "ALO",
          "ALO",
          "ALO",
          "ALO",
          "ALO",
          "ALO",
          "ALO",
          "ALO",
          "ALO",
          "ALO",
          "ALO",
          "ALO",
          "ALO",
          "ALO",
          "ALO",
          "ALO",
          "ALO",
          "ALO",
          "ALO",
          "ALO",
          "ALO",
          "ALO",
          "ALO",
          "ALO",
          "ALO",
          "ALO",
          "ALO",
          "ALO",
          "ALO",
          "ALO",
          "ALO",
          "ALO",
          "ALO",
          "ALO",
          "ALO",
          "ALO",
          "ALO",
          "ALO",
          "ALO",
          "ALO",
          "ALO",
          "ALO",
          "ALO",
          "ALO",
          "ALO",
          "ALO",
          "ALO",
          "ALO",
          "ALO",
          "ALO",
          "ALO",
          "ALO"
         ],
         "x0": " ",
         "xaxis": "x",
         "y": [
          104.29,
          101.542,
          98.72800000000001,
          98.518,
          98.941,
          98.30300000000001,
          98.436,
          98.012,
          98.179,
          98.55900000000001,
          97.94300000000001,
          98.46300000000001,
          98.08800000000001,
          98.787,
          99.79,
          96.456,
          113.33300000000001,
          146.08100000000002,
          144.76000000000002,
          110.179,
          100.146,
          100.18,
          100.15400000000001,
          102.06200000000001,
          101.20800000000001,
          104.09400000000001,
          101.265,
          100.626,
          100.578,
          99.63600000000001,
          100.39,
          100.049,
          100.128,
          101.292,
          101.93100000000001,
          100.185,
          100.896,
          100.68900000000001,
          103.137,
          103.29100000000001,
          145.198,
          177.262,
          124.30000000000001,
          100.346,
          100.316,
          100.49900000000001,
          100.238,
          100.09500000000001,
          100.18,
          100.554,
          100.38300000000001,
          100.147,
          100.555,
          100.42200000000001,
          100.21000000000001,
          100.774,
          100.686,
          101.194,
          101.35600000000001,
          101.349,
          102.25500000000001,
          107.37700000000001
         ],
         "y0": " ",
         "yaxis": "y"
        },
        {
         "alignmentgroup": "True",
         "hovertemplate": "Driver=%{x}<br>Lap Time (s)=%{y}<extra></extra>",
         "legendgroup": "RUS",
         "marker": {
          "color": "#24ffff"
         },
         "name": "RUS",
         "notched": false,
         "offsetgroup": "RUS",
         "orientation": "v",
         "showlegend": true,
         "type": "box",
         "x": [
          "RUS",
          "RUS",
          "RUS",
          "RUS",
          "RUS",
          "RUS",
          "RUS",
          "RUS",
          "RUS",
          "RUS",
          "RUS",
          "RUS",
          "RUS",
          "RUS",
          "RUS",
          "RUS",
          "RUS",
          "RUS",
          "RUS",
          "RUS",
          "RUS",
          "RUS",
          "RUS",
          "RUS",
          "RUS",
          "RUS",
          "RUS",
          "RUS",
          "RUS",
          "RUS",
          "RUS",
          "RUS",
          "RUS",
          "RUS",
          "RUS",
          "RUS",
          "RUS",
          "RUS",
          "RUS",
          "RUS",
          "RUS",
          "RUS",
          "RUS",
          "RUS",
          "RUS",
          "RUS",
          "RUS",
          "RUS",
          "RUS",
          "RUS",
          "RUS",
          "RUS",
          "RUS",
          "RUS",
          "RUS",
          "RUS",
          "RUS",
          "RUS",
          "RUS",
          "RUS",
          "RUS",
          "RUS"
         ],
         "x0": " ",
         "xaxis": "x",
         "y": [
          null,
          99.31400000000001,
          99.51,
          100.239,
          98.686,
          97.24600000000001,
          97.02900000000001,
          96.93700000000001,
          97.396,
          98.56700000000001,
          97.414,
          96.757,
          97.006,
          96.569,
          96.649,
          96.41900000000001,
          96.27300000000001,
          131.669,
          144.887,
          99.482,
          99.84500000000001,
          99.80300000000001,
          99.322,
          99.16900000000001,
          99.635,
          99.77600000000001,
          99.474,
          99.986,
          99.96100000000001,
          99.34800000000001,
          99.319,
          99.45800000000001,
          100.06700000000001,
          100.41300000000001,
          101.18100000000001,
          100.20500000000001,
          99.173,
          99.56,
          99.501,
          102.34100000000001,
          149.33700000000002,
          181.24900000000002,
          120.405,
          99.99600000000001,
          99.686,
          100.02900000000001,
          100.06200000000001,
          99.965,
          100.75800000000001,
          100.34400000000001,
          100.46300000000001,
          100.59500000000001,
          100.093,
          100.039,
          100.46400000000001,
          100.271,
          100.221,
          100.46400000000001,
          101.08600000000001,
          100.944,
          101.10300000000001,
          105.772
         ],
         "y0": " ",
         "yaxis": "y"
        },
        {
         "alignmentgroup": "True",
         "hovertemplate": "Driver=%{x}<br>Lap Time (s)=%{y}<extra></extra>",
         "legendgroup": "BOT",
         "marker": {
          "color": "#00e701"
         },
         "name": "BOT",
         "notched": false,
         "offsetgroup": "BOT",
         "orientation": "v",
         "showlegend": true,
         "type": "box",
         "x": [
          "BOT",
          "BOT",
          "BOT",
          "BOT",
          "BOT",
          "BOT",
          "BOT",
          "BOT",
          "BOT",
          "BOT",
          "BOT",
          "BOT",
          "BOT",
          "BOT",
          "BOT",
          "BOT",
          "BOT",
          "BOT",
          "BOT",
          "BOT",
          "BOT",
          "BOT",
          "BOT",
          "BOT",
          "BOT",
          "BOT",
          "BOT",
          "BOT",
          "BOT",
          "BOT",
          "BOT",
          "BOT",
          "BOT",
          "BOT",
          "BOT",
          "BOT",
          "BOT",
          "BOT",
          "BOT",
          "BOT",
          "BOT",
          "BOT",
          "BOT",
          "BOT",
          "BOT",
          "BOT",
          "BOT",
          "BOT",
          "BOT",
          "BOT",
          "BOT",
          "BOT"
         ],
         "x0": " ",
         "xaxis": "x",
         "y": [
          null,
          98.075,
          98.09200000000001,
          98.525,
          98.57300000000001,
          98.729,
          98.979,
          99.08000000000001,
          134.405,
          126.94900000000001,
          98.39200000000001,
          120.751,
          110.10100000000001,
          102.05900000000001,
          102.28200000000001,
          102.375,
          101.628,
          100.808,
          101.08800000000001,
          101.06,
          101.162,
          100.90700000000001,
          101.369,
          101.47800000000001,
          101.28800000000001,
          101.28800000000001,
          101.366,
          101.759,
          106.415,
          105.486,
          142.499,
          158.073,
          124.66000000000001,
          101.786,
          100.90400000000001,
          100.80900000000001,
          100.92500000000001,
          100.793,
          100.95500000000001,
          101.194,
          101.063,
          101.376,
          101.23,
          101.30300000000001,
          102.153,
          102.397,
          101.27000000000001,
          101.757,
          101.766,
          103.036,
          102.182,
          114.71400000000001
         ],
         "y0": " ",
         "yaxis": "y"
        },
        {
         "alignmentgroup": "True",
         "hovertemplate": "Driver=%{x}<br>Lap Time (s)=%{y}<extra></extra>",
         "legendgroup": "OCO",
         "marker": {
          "color": "#ff117c"
         },
         "name": "OCO",
         "notched": false,
         "offsetgroup": "OCO",
         "orientation": "v",
         "showlegend": true,
         "type": "box",
         "x": [
          "OCO",
          "OCO",
          "OCO",
          "OCO",
          "OCO",
          "OCO",
          "OCO",
          "OCO",
          "OCO",
          "OCO",
          "OCO",
          "OCO",
          "OCO",
          "OCO",
          "OCO",
          "OCO",
          "OCO",
          "OCO",
          "OCO",
          "OCO",
          "OCO",
          "OCO",
          "OCO",
          "OCO",
          "OCO",
          "OCO",
          "OCO",
          "OCO",
          "OCO",
          "OCO",
          "OCO",
          "OCO",
          "OCO",
          "OCO",
          "OCO",
          "OCO",
          "OCO",
          "OCO",
          "OCO",
          "OCO",
          "OCO",
          "OCO",
          "OCO"
         ],
         "x0": " ",
         "xaxis": "x",
         "y": [
          null,
          99.995,
          100.06400000000001,
          99.93100000000001,
          100.875,
          101.319,
          102.599,
          101.21100000000001,
          100.54100000000001,
          100.30300000000001,
          99.93,
          100.36200000000001,
          100.043,
          100.04,
          101.534,
          101.75500000000001,
          100.376,
          100.885,
          100.89500000000001,
          103.09100000000001,
          103.254,
          143.293,
          176.33800000000002,
          125.88700000000001,
          100.49000000000001,
          100.423,
          100.575,
          100.387,
          100.35300000000001,
          100.247,
          100.56200000000001,
          100.388,
          100.08500000000001,
          100.68900000000001,
          100.343,
          100.33900000000001,
          100.732,
          100.908,
          101.32900000000001,
          101.375,
          101.19600000000001,
          102.40100000000001,
          107.795
         ],
         "y0": " ",
         "yaxis": "y"
        },
        {
         "alignmentgroup": "True",
         "hovertemplate": "Driver=%{x}<br>Lap Time (s)=%{y}<extra></extra>",
         "legendgroup": "TSU",
         "marker": {
          "color": "#356cac"
         },
         "name": "TSU",
         "notched": false,
         "offsetgroup": "TSU",
         "orientation": "v",
         "showlegend": true,
         "type": "box",
         "x": [
          "TSU"
         ],
         "x0": " ",
         "xaxis": "x",
         "y": [
          null
         ],
         "y0": " ",
         "yaxis": "y"
        }
       ],
       "layout": {
        "boxmode": "overlay",
        "height": 1000,
        "legend": {
         "title": {
          "text": "Driver"
         },
         "tracegroupgap": 0
        },
        "template": {
         "data": {
          "bar": [
           {
            "error_x": {
             "color": "#f2f5fa"
            },
            "error_y": {
             "color": "#f2f5fa"
            },
            "marker": {
             "line": {
              "color": "rgb(17,17,17)",
              "width": 0.5
             },
             "pattern": {
              "fillmode": "overlay",
              "size": 10,
              "solidity": 0.2
             }
            },
            "type": "bar"
           }
          ],
          "barpolar": [
           {
            "marker": {
             "line": {
              "color": "rgb(17,17,17)",
              "width": 0.5
             },
             "pattern": {
              "fillmode": "overlay",
              "size": 10,
              "solidity": 0.2
             }
            },
            "type": "barpolar"
           }
          ],
          "carpet": [
           {
            "aaxis": {
             "endlinecolor": "#A2B1C6",
             "gridcolor": "#506784",
             "linecolor": "#506784",
             "minorgridcolor": "#506784",
             "startlinecolor": "#A2B1C6"
            },
            "baxis": {
             "endlinecolor": "#A2B1C6",
             "gridcolor": "#506784",
             "linecolor": "#506784",
             "minorgridcolor": "#506784",
             "startlinecolor": "#A2B1C6"
            },
            "type": "carpet"
           }
          ],
          "choropleth": [
           {
            "colorbar": {
             "outlinewidth": 0,
             "ticks": ""
            },
            "type": "choropleth"
           }
          ],
          "contour": [
           {
            "colorbar": {
             "outlinewidth": 0,
             "ticks": ""
            },
            "colorscale": [
             [
              0,
              "#0d0887"
             ],
             [
              0.1111111111111111,
              "#46039f"
             ],
             [
              0.2222222222222222,
              "#7201a8"
             ],
             [
              0.3333333333333333,
              "#9c179e"
             ],
             [
              0.4444444444444444,
              "#bd3786"
             ],
             [
              0.5555555555555556,
              "#d8576b"
             ],
             [
              0.6666666666666666,
              "#ed7953"
             ],
             [
              0.7777777777777778,
              "#fb9f3a"
             ],
             [
              0.8888888888888888,
              "#fdca26"
             ],
             [
              1,
              "#f0f921"
             ]
            ],
            "type": "contour"
           }
          ],
          "contourcarpet": [
           {
            "colorbar": {
             "outlinewidth": 0,
             "ticks": ""
            },
            "type": "contourcarpet"
           }
          ],
          "heatmap": [
           {
            "colorbar": {
             "outlinewidth": 0,
             "ticks": ""
            },
            "colorscale": [
             [
              0,
              "#0d0887"
             ],
             [
              0.1111111111111111,
              "#46039f"
             ],
             [
              0.2222222222222222,
              "#7201a8"
             ],
             [
              0.3333333333333333,
              "#9c179e"
             ],
             [
              0.4444444444444444,
              "#bd3786"
             ],
             [
              0.5555555555555556,
              "#d8576b"
             ],
             [
              0.6666666666666666,
              "#ed7953"
             ],
             [
              0.7777777777777778,
              "#fb9f3a"
             ],
             [
              0.8888888888888888,
              "#fdca26"
             ],
             [
              1,
              "#f0f921"
             ]
            ],
            "type": "heatmap"
           }
          ],
          "heatmapgl": [
           {
            "colorbar": {
             "outlinewidth": 0,
             "ticks": ""
            },
            "colorscale": [
             [
              0,
              "#0d0887"
             ],
             [
              0.1111111111111111,
              "#46039f"
             ],
             [
              0.2222222222222222,
              "#7201a8"
             ],
             [
              0.3333333333333333,
              "#9c179e"
             ],
             [
              0.4444444444444444,
              "#bd3786"
             ],
             [
              0.5555555555555556,
              "#d8576b"
             ],
             [
              0.6666666666666666,
              "#ed7953"
             ],
             [
              0.7777777777777778,
              "#fb9f3a"
             ],
             [
              0.8888888888888888,
              "#fdca26"
             ],
             [
              1,
              "#f0f921"
             ]
            ],
            "type": "heatmapgl"
           }
          ],
          "histogram": [
           {
            "marker": {
             "pattern": {
              "fillmode": "overlay",
              "size": 10,
              "solidity": 0.2
             }
            },
            "type": "histogram"
           }
          ],
          "histogram2d": [
           {
            "colorbar": {
             "outlinewidth": 0,
             "ticks": ""
            },
            "colorscale": [
             [
              0,
              "#0d0887"
             ],
             [
              0.1111111111111111,
              "#46039f"
             ],
             [
              0.2222222222222222,
              "#7201a8"
             ],
             [
              0.3333333333333333,
              "#9c179e"
             ],
             [
              0.4444444444444444,
              "#bd3786"
             ],
             [
              0.5555555555555556,
              "#d8576b"
             ],
             [
              0.6666666666666666,
              "#ed7953"
             ],
             [
              0.7777777777777778,
              "#fb9f3a"
             ],
             [
              0.8888888888888888,
              "#fdca26"
             ],
             [
              1,
              "#f0f921"
             ]
            ],
            "type": "histogram2d"
           }
          ],
          "histogram2dcontour": [
           {
            "colorbar": {
             "outlinewidth": 0,
             "ticks": ""
            },
            "colorscale": [
             [
              0,
              "#0d0887"
             ],
             [
              0.1111111111111111,
              "#46039f"
             ],
             [
              0.2222222222222222,
              "#7201a8"
             ],
             [
              0.3333333333333333,
              "#9c179e"
             ],
             [
              0.4444444444444444,
              "#bd3786"
             ],
             [
              0.5555555555555556,
              "#d8576b"
             ],
             [
              0.6666666666666666,
              "#ed7953"
             ],
             [
              0.7777777777777778,
              "#fb9f3a"
             ],
             [
              0.8888888888888888,
              "#fdca26"
             ],
             [
              1,
              "#f0f921"
             ]
            ],
            "type": "histogram2dcontour"
           }
          ],
          "mesh3d": [
           {
            "colorbar": {
             "outlinewidth": 0,
             "ticks": ""
            },
            "type": "mesh3d"
           }
          ],
          "parcoords": [
           {
            "line": {
             "colorbar": {
              "outlinewidth": 0,
              "ticks": ""
             }
            },
            "type": "parcoords"
           }
          ],
          "pie": [
           {
            "automargin": true,
            "type": "pie"
           }
          ],
          "scatter": [
           {
            "marker": {
             "line": {
              "color": "#283442"
             }
            },
            "type": "scatter"
           }
          ],
          "scatter3d": [
           {
            "line": {
             "colorbar": {
              "outlinewidth": 0,
              "ticks": ""
             }
            },
            "marker": {
             "colorbar": {
              "outlinewidth": 0,
              "ticks": ""
             }
            },
            "type": "scatter3d"
           }
          ],
          "scattercarpet": [
           {
            "marker": {
             "colorbar": {
              "outlinewidth": 0,
              "ticks": ""
             }
            },
            "type": "scattercarpet"
           }
          ],
          "scattergeo": [
           {
            "marker": {
             "colorbar": {
              "outlinewidth": 0,
              "ticks": ""
             }
            },
            "type": "scattergeo"
           }
          ],
          "scattergl": [
           {
            "marker": {
             "line": {
              "color": "#283442"
             }
            },
            "type": "scattergl"
           }
          ],
          "scattermapbox": [
           {
            "marker": {
             "colorbar": {
              "outlinewidth": 0,
              "ticks": ""
             }
            },
            "type": "scattermapbox"
           }
          ],
          "scatterpolar": [
           {
            "marker": {
             "colorbar": {
              "outlinewidth": 0,
              "ticks": ""
             }
            },
            "type": "scatterpolar"
           }
          ],
          "scatterpolargl": [
           {
            "marker": {
             "colorbar": {
              "outlinewidth": 0,
              "ticks": ""
             }
            },
            "type": "scatterpolargl"
           }
          ],
          "scatterternary": [
           {
            "marker": {
             "colorbar": {
              "outlinewidth": 0,
              "ticks": ""
             }
            },
            "type": "scatterternary"
           }
          ],
          "surface": [
           {
            "colorbar": {
             "outlinewidth": 0,
             "ticks": ""
            },
            "colorscale": [
             [
              0,
              "#0d0887"
             ],
             [
              0.1111111111111111,
              "#46039f"
             ],
             [
              0.2222222222222222,
              "#7201a8"
             ],
             [
              0.3333333333333333,
              "#9c179e"
             ],
             [
              0.4444444444444444,
              "#bd3786"
             ],
             [
              0.5555555555555556,
              "#d8576b"
             ],
             [
              0.6666666666666666,
              "#ed7953"
             ],
             [
              0.7777777777777778,
              "#fb9f3a"
             ],
             [
              0.8888888888888888,
              "#fdca26"
             ],
             [
              1,
              "#f0f921"
             ]
            ],
            "type": "surface"
           }
          ],
          "table": [
           {
            "cells": {
             "fill": {
              "color": "#506784"
             },
             "line": {
              "color": "rgb(17,17,17)"
             }
            },
            "header": {
             "fill": {
              "color": "#2a3f5f"
             },
             "line": {
              "color": "rgb(17,17,17)"
             }
            },
            "type": "table"
           }
          ]
         },
         "layout": {
          "annotationdefaults": {
           "arrowcolor": "#f2f5fa",
           "arrowhead": 0,
           "arrowwidth": 1
          },
          "autotypenumbers": "strict",
          "coloraxis": {
           "colorbar": {
            "outlinewidth": 0,
            "ticks": ""
           }
          },
          "colorscale": {
           "diverging": [
            [
             0,
             "#8e0152"
            ],
            [
             0.1,
             "#c51b7d"
            ],
            [
             0.2,
             "#de77ae"
            ],
            [
             0.3,
             "#f1b6da"
            ],
            [
             0.4,
             "#fde0ef"
            ],
            [
             0.5,
             "#f7f7f7"
            ],
            [
             0.6,
             "#e6f5d0"
            ],
            [
             0.7,
             "#b8e186"
            ],
            [
             0.8,
             "#7fbc41"
            ],
            [
             0.9,
             "#4d9221"
            ],
            [
             1,
             "#276419"
            ]
           ],
           "sequential": [
            [
             0,
             "#0d0887"
            ],
            [
             0.1111111111111111,
             "#46039f"
            ],
            [
             0.2222222222222222,
             "#7201a8"
            ],
            [
             0.3333333333333333,
             "#9c179e"
            ],
            [
             0.4444444444444444,
             "#bd3786"
            ],
            [
             0.5555555555555556,
             "#d8576b"
            ],
            [
             0.6666666666666666,
             "#ed7953"
            ],
            [
             0.7777777777777778,
             "#fb9f3a"
            ],
            [
             0.8888888888888888,
             "#fdca26"
            ],
            [
             1,
             "#f0f921"
            ]
           ],
           "sequentialminus": [
            [
             0,
             "#0d0887"
            ],
            [
             0.1111111111111111,
             "#46039f"
            ],
            [
             0.2222222222222222,
             "#7201a8"
            ],
            [
             0.3333333333333333,
             "#9c179e"
            ],
            [
             0.4444444444444444,
             "#bd3786"
            ],
            [
             0.5555555555555556,
             "#d8576b"
            ],
            [
             0.6666666666666666,
             "#ed7953"
            ],
            [
             0.7777777777777778,
             "#fb9f3a"
            ],
            [
             0.8888888888888888,
             "#fdca26"
            ],
            [
             1,
             "#f0f921"
            ]
           ]
          },
          "colorway": [
           "#636efa",
           "#EF553B",
           "#00cc96",
           "#ab63fa",
           "#FFA15A",
           "#19d3f3",
           "#FF6692",
           "#B6E880",
           "#FF97FF",
           "#FECB52"
          ],
          "font": {
           "color": "#f2f5fa"
          },
          "geo": {
           "bgcolor": "rgb(17,17,17)",
           "lakecolor": "rgb(17,17,17)",
           "landcolor": "rgb(17,17,17)",
           "showlakes": true,
           "showland": true,
           "subunitcolor": "#506784"
          },
          "hoverlabel": {
           "align": "left"
          },
          "hovermode": "closest",
          "mapbox": {
           "style": "dark"
          },
          "paper_bgcolor": "rgb(17,17,17)",
          "plot_bgcolor": "rgb(17,17,17)",
          "polar": {
           "angularaxis": {
            "gridcolor": "#506784",
            "linecolor": "#506784",
            "ticks": ""
           },
           "bgcolor": "rgb(17,17,17)",
           "radialaxis": {
            "gridcolor": "#506784",
            "linecolor": "#506784",
            "ticks": ""
           }
          },
          "scene": {
           "xaxis": {
            "backgroundcolor": "rgb(17,17,17)",
            "gridcolor": "#506784",
            "gridwidth": 2,
            "linecolor": "#506784",
            "showbackground": true,
            "ticks": "",
            "zerolinecolor": "#C8D4E3"
           },
           "yaxis": {
            "backgroundcolor": "rgb(17,17,17)",
            "gridcolor": "#506784",
            "gridwidth": 2,
            "linecolor": "#506784",
            "showbackground": true,
            "ticks": "",
            "zerolinecolor": "#C8D4E3"
           },
           "zaxis": {
            "backgroundcolor": "rgb(17,17,17)",
            "gridcolor": "#506784",
            "gridwidth": 2,
            "linecolor": "#506784",
            "showbackground": true,
            "ticks": "",
            "zerolinecolor": "#C8D4E3"
           }
          },
          "shapedefaults": {
           "line": {
            "color": "#f2f5fa"
           }
          },
          "sliderdefaults": {
           "bgcolor": "#C8D4E3",
           "bordercolor": "rgb(17,17,17)",
           "borderwidth": 1,
           "tickwidth": 0
          },
          "ternary": {
           "aaxis": {
            "gridcolor": "#506784",
            "linecolor": "#506784",
            "ticks": ""
           },
           "baxis": {
            "gridcolor": "#506784",
            "linecolor": "#506784",
            "ticks": ""
           },
           "bgcolor": "rgb(17,17,17)",
           "caxis": {
            "gridcolor": "#506784",
            "linecolor": "#506784",
            "ticks": ""
           }
          },
          "title": {
           "x": 0.05
          },
          "updatemenudefaults": {
           "bgcolor": "#506784",
           "borderwidth": 0
          },
          "xaxis": {
           "automargin": true,
           "gridcolor": "#283442",
           "linecolor": "#506784",
           "ticks": "",
           "title": {
            "standoff": 15
           },
           "zerolinecolor": "#283442",
           "zerolinewidth": 2
          },
          "yaxis": {
           "automargin": true,
           "gridcolor": "#283442",
           "linecolor": "#506784",
           "ticks": "",
           "title": {
            "standoff": 15
           },
           "zerolinecolor": "#283442",
           "zerolinewidth": 2
          }
         }
        },
        "title": {
         "text": "Lap Time Distribution for Each Driver in Singapore 2023"
        },
        "width": 2000,
        "xaxis": {
         "anchor": "y",
         "categoryarray": [
          "SAI",
          "NOR",
          "HAM",
          "LEC",
          "VER",
          "GAS",
          "PIA",
          "PER",
          "LAW",
          "MAG",
          "ALB",
          "ZHO",
          "HUL",
          "SAR",
          "ALO",
          "RUS",
          "BOT",
          "OCO",
          "TSU"
         ],
         "categoryorder": "array",
         "domain": [
          0,
          1
         ],
         "title": {
          "text": "Driver"
         }
        },
        "yaxis": {
         "anchor": "x",
         "domain": [
          0,
          1
         ],
         "range": [
          95.367,
          110.554
         ],
         "title": {
          "text": "Lap Time (s)"
         }
        }
       }
      }
     },
     "metadata": {},
     "output_type": "display_data"
    }
   ],
   "source": [
    "color_discrete_map = {driver: color for driver, color in driver_color.items() if driver in df['Driver'].unique()}\n",
    "\n",
    "fig = px.box(df, x='Driver', y='LapTime',\n",
    "             title='Lap Time Distribution for Each Driver in Singapore 2023',\n",
    "             labels={'LapTime': 'Lap Time (s)', 'Driver': 'Driver'},\n",
    "             color='Driver',\n",
    "             color_discrete_map=color_discrete_map,\n",
    "             template=\"plotly_dark\")\n",
    "\n",
    "fig.update_layout(yaxis=dict(range=[min(df['LapTime'])-0.5, df['LapTime'].median()+10]))\n",
    "fig.update_layout(width=2000, height=1000)\n",
    "\n",
    "fig.show()"
   ]
  },
  {
   "cell_type": "markdown",
   "id": "d4178e98",
   "metadata": {},
   "source": [
    "#### Observation 1:\n",
    "SAI (FERRARI) and HAM (MERCEDES), together with NOR (MCLAREN) are in the top 15th percentile of drivers, i.e., top 3.\n",
    "<br><br>"
   ]
  },
  {
   "cell_type": "markdown",
   "id": "4f9dc459",
   "metadata": {},
   "source": [
    "#### Changes in lap times by the Top 15 drivers"
   ]
  },
  {
   "cell_type": "code",
   "execution_count": 7,
   "id": "a714ffcf",
   "metadata": {},
   "outputs": [],
   "source": [
    "# top 3 Drivers (based on final result)\n",
    "all_drivers = list(race.results.Abbreviation.iloc[:20])\n",
    "\n",
    "# data cleaning \n",
    "df_all_drivers = df.loc[df.Driver.isin(all_drivers),['LapTime','LapNumber','Driver']]\n",
    "df_all_drivers = df_all_drivers.reset_index(drop=True)\n",
    "\n",
    "# plt.figure(figsize=(20,6))\n",
    "# sns.lineplot(df_all_drivers, x=df_all_drivers['LapNumber'], y=df_all_drivers['LapTime'], marker = \"o\", hue=df_all_drivers['Driver'], palette = driver_color)\n",
    "# plt.ylabel('Lap Time (s)')\n",
    "# plt.xlabel('Laps')\n",
    "# plt.title('Lap Time of All Drivers across Race \\n Singapore 2023',  fontsize=20)\n",
    "# plt.ylim(min(df_all_drivers.LapTime)-0.5, df_all_drivers.LapTime.median()+5)\n",
    "# plt.show()"
   ]
  },
  {
   "cell_type": "code",
   "execution_count": 8,
   "id": "81a16b05",
   "metadata": {},
   "outputs": [
    {
     "data": {
      "application/vnd.plotly.v1+json": {
       "config": {
        "plotlyServerURL": "https://plot.ly"
       },
       "data": [
        {
         "hovertemplate": "Driver=SAI<br>Laps=%{x}<br>Lap Time (s)=%{y}<extra></extra>",
         "legendgroup": "SAI",
         "line": {
          "color": "#ff8181",
          "dash": "solid"
         },
         "marker": {
          "symbol": "circle"
         },
         "mode": "lines+markers",
         "name": "SAI",
         "showlegend": true,
         "type": "scattergl",
         "x": [
          62,
          61,
          60,
          59,
          58,
          57,
          56,
          55,
          54,
          53,
          52,
          51,
          50,
          49,
          48,
          47,
          46,
          45,
          44,
          43,
          42,
          41,
          40,
          39,
          38,
          37,
          36,
          35,
          34,
          33,
          32,
          31,
          30,
          29,
          28,
          27,
          26,
          25,
          24,
          23,
          22,
          21,
          20,
          19,
          18,
          17,
          16,
          15,
          14,
          13,
          12,
          11,
          10,
          9,
          8,
          7,
          6,
          5,
          4,
          3,
          2,
          1
         ],
         "xaxis": "x",
         "y": [
          99.95800000000001,
          99.292,
          100.042,
          99.575,
          99.337,
          98.909,
          98.52000000000001,
          98.54100000000001,
          98.70700000000001,
          98.32700000000001,
          98.218,
          98.04,
          98.637,
          98.221,
          98.2,
          97.66600000000001,
          97.91300000000001,
          121.32400000000001,
          138.57000000000002,
          99.248,
          99.93900000000001,
          99.798,
          99.393,
          99.253,
          99.519,
          99.884,
          99.54400000000001,
          99.97000000000001,
          100.025,
          99.235,
          99.18400000000001,
          99.63300000000001,
          100.21700000000001,
          100.22500000000001,
          101.23,
          99.83500000000001,
          99.185,
          99.72600000000001,
          99.792,
          102.423,
          150.809,
          188.571,
          116.82400000000001,
          99.02900000000001,
          98.992,
          99.44800000000001,
          99.39800000000001,
          99.93700000000001,
          100.39800000000001,
          100.35600000000001,
          100.53,
          100.29700000000001,
          100.369,
          99.626,
          100.503,
          100.17800000000001,
          100.113,
          100.551,
          100.58000000000001,
          100.962,
          101.38300000000001,
          103.30900000000001
         ],
         "yaxis": "y"
        },
        {
         "hovertemplate": "Driver=NOR<br>Laps=%{x}<br>Lap Time (s)=%{y}<extra></extra>",
         "legendgroup": "NOR",
         "line": {
          "color": "#eeb370",
          "dash": "solid"
         },
         "marker": {
          "symbol": "circle"
         },
         "mode": "lines+markers",
         "name": "NOR",
         "showlegend": true,
         "type": "scattergl",
         "x": [
          62,
          61,
          60,
          59,
          58,
          57,
          56,
          55,
          54,
          53,
          52,
          51,
          50,
          49,
          48,
          47,
          46,
          45,
          44,
          43,
          42,
          41,
          40,
          39,
          38,
          37,
          36,
          35,
          34,
          33,
          32,
          31,
          30,
          29,
          28,
          27,
          26,
          25,
          24,
          23,
          22,
          21,
          20,
          19,
          18,
          17,
          16,
          15,
          14,
          13,
          12,
          11,
          10,
          9,
          8,
          7,
          6,
          5,
          4,
          3,
          2,
          1
         ],
         "xaxis": "x",
         "y": [
          99.677,
          99.51,
          99.396,
          100.41600000000001,
          99.16000000000001,
          98.617,
          98.47300000000001,
          98.492,
          98.423,
          98.39200000000001,
          98.25,
          98.12400000000001,
          98.14800000000001,
          98.173,
          98.049,
          98.15700000000001,
          98.046,
          120.748,
          138.86,
          99.56,
          99.60600000000001,
          99.662,
          99.346,
          99.271,
          99.72000000000001,
          99.83800000000001,
          99.462,
          99.70100000000001,
          100.06,
          99.66300000000001,
          99.29100000000001,
          99.367,
          99.736,
          100.09700000000001,
          100.26700000000001,
          99.406,
          99.48400000000001,
          100.24000000000001,
          100.32000000000001,
          102.789,
          148.267,
          181.311,
          121.158,
          99.88000000000001,
          99.69300000000001,
          100.024,
          100.34200000000001,
          100.247,
          100.421,
          100.372,
          100.46600000000001,
          100.355,
          99.974,
          100.13000000000001,
          100.301,
          99.97200000000001,
          99.992,
          100.28500000000001,
          101.67800000000001,
          101.12400000000001,
          101.82600000000001,
          106.415
         ],
         "yaxis": "y"
        },
        {
         "hovertemplate": "Driver=HAM<br>Laps=%{x}<br>Lap Time (s)=%{y}<extra></extra>",
         "legendgroup": "HAM",
         "line": {
          "color": "#00d2be",
          "dash": "solid"
         },
         "marker": {
          "symbol": "circle"
         },
         "mode": "lines+markers",
         "name": "HAM",
         "showlegend": true,
         "type": "scattergl",
         "x": [
          62,
          61,
          60,
          59,
          58,
          57,
          56,
          55,
          54,
          53,
          52,
          51,
          50,
          49,
          48,
          47,
          46,
          45,
          44,
          43,
          42,
          41,
          40,
          39,
          38,
          37,
          36,
          35,
          34,
          33,
          32,
          31,
          30,
          29,
          28,
          27,
          26,
          25,
          24,
          23,
          22,
          21,
          20,
          19,
          18,
          17,
          16,
          15,
          14,
          13,
          12,
          11,
          10,
          9,
          8,
          7,
          6,
          5,
          4,
          3,
          2,
          1
         ],
         "xaxis": "x",
         "y": [
          99.34700000000001,
          99.096,
          99.772,
          100.167,
          97.982,
          97.111,
          96.411,
          97.221,
          97.924,
          97.69800000000001,
          96.555,
          96.479,
          96.462,
          96.22000000000001,
          96.122,
          95.867,
          96.953,
          133.606,
          145.716,
          99.29100000000001,
          99.686,
          99.69800000000001,
          99.47200000000001,
          99.26400000000001,
          99.86,
          99.959,
          99.36200000000001,
          99.51,
          99.545,
          100.62,
          99.186,
          99.32000000000001,
          99.14200000000001,
          99.52000000000001,
          99.679,
          99.226,
          99.95400000000001,
          100.44200000000001,
          100.95700000000001,
          103.08000000000001,
          146.23100000000002,
          181.82600000000002,
          121.81500000000001,
          99.394,
          100.364,
          100.38000000000001,
          100.78500000000001,
          100.394,
          100.27300000000001,
          100.081,
          100.218,
          100.241,
          100.144,
          100.31200000000001,
          100.16600000000001,
          99.918,
          100.126,
          100.97800000000001,
          102.861,
          101.08800000000001,
          102.587,
          105.02300000000001
         ],
         "yaxis": "y"
        },
        {
         "hovertemplate": "Driver=LEC<br>Laps=%{x}<br>Lap Time (s)=%{y}<extra></extra>",
         "legendgroup": "LEC",
         "line": {
          "color": "#dc0000",
          "dash": "solid"
         },
         "marker": {
          "symbol": "circle"
         },
         "mode": "lines+markers",
         "name": "LEC",
         "showlegend": true,
         "type": "scattergl",
         "x": [
          62,
          61,
          60,
          59,
          58,
          57,
          56,
          55,
          54,
          53,
          52,
          51,
          50,
          49,
          48,
          47,
          46,
          45,
          44,
          43,
          42,
          41,
          40,
          39,
          38,
          37,
          36,
          35,
          34,
          33,
          32,
          31,
          30,
          29,
          28,
          27,
          26,
          25,
          24,
          23,
          22,
          21,
          20,
          19,
          18,
          17,
          16,
          15,
          14,
          13,
          12,
          11,
          10,
          9,
          8,
          7,
          6,
          5,
          4,
          3,
          2,
          1
         ],
         "xaxis": "x",
         "y": [
          100.94600000000001,
          100.61500000000001,
          100.105,
          100.545,
          100.22200000000001,
          100.043,
          100.298,
          100.617,
          101.831,
          100.21300000000001,
          98.84800000000001,
          98.80300000000001,
          98.43900000000001,
          98.453,
          98.49600000000001,
          98.403,
          98.275,
          120.846,
          138.447,
          99.99600000000001,
          99.888,
          99.36800000000001,
          99.557,
          99.44800000000001,
          99.94600000000001,
          99.63900000000001,
          99.44300000000001,
          99.747,
          99.518,
          99.485,
          99.391,
          99.433,
          99.20800000000001,
          99.683,
          99.56200000000001,
          99.899,
          99.89200000000001,
          99.748,
          102.668,
          103.95500000000001,
          147.929,
          184.76600000000002,
          121.62400000000001,
          100.236,
          99.613,
          99.80000000000001,
          99.625,
          99.613,
          101.622,
          100.15400000000001,
          100.39200000000001,
          100.403,
          100.79,
          99.646,
          100.396,
          100.27900000000001,
          100.165,
          100.328,
          100.661,
          100.75200000000001,
          101.33800000000001,
          104.54400000000001
         ],
         "yaxis": "y"
        },
        {
         "hovertemplate": "Driver=VER<br>Laps=%{x}<br>Lap Time (s)=%{y}<extra></extra>",
         "legendgroup": "VER",
         "line": {
          "color": "#fcd700",
          "dash": "solid"
         },
         "marker": {
          "symbol": "circle"
         },
         "mode": "lines+markers",
         "name": "VER",
         "showlegend": true,
         "type": "scattergl",
         "x": [
          62,
          61,
          60,
          59,
          58,
          57,
          56,
          55,
          54,
          53,
          52,
          51,
          50,
          49,
          48,
          47,
          46,
          45,
          44,
          43,
          42,
          41,
          40,
          39,
          38,
          37,
          36,
          35,
          34,
          33,
          32,
          31,
          30,
          29,
          28,
          27,
          26,
          25,
          24,
          23,
          22,
          21,
          20,
          19,
          18,
          17,
          16,
          15,
          14,
          13,
          12,
          11,
          10,
          9,
          8,
          7,
          6,
          5,
          4,
          3,
          2,
          1
         ],
         "xaxis": "x",
         "y": [
          98.197,
          96.575,
          96.75800000000001,
          96.748,
          96.912,
          99.299,
          97.519,
          96.899,
          98.19600000000001,
          97.132,
          96.83500000000001,
          97.144,
          99.006,
          97.08500000000001,
          98.33300000000001,
          98.09,
          97.57000000000001,
          104.93900000000001,
          137.52200000000002,
          116.35700000000001,
          97.71300000000001,
          119.248,
          108.808,
          101.173,
          100.61,
          100.224,
          100.372,
          100.266,
          100.378,
          100.087,
          100.033,
          100.247,
          100.32600000000001,
          100.43700000000001,
          101.43100000000001,
          101.18,
          100.244,
          100.7,
          101.971,
          103.346,
          149.966,
          172.08200000000002,
          118.29400000000001,
          100.74600000000001,
          100.46400000000001,
          100.48100000000001,
          100.39,
          100.206,
          100.63300000000001,
          100.69300000000001,
          100.602,
          100.423,
          100.408,
          100.26400000000001,
          100.177,
          100.423,
          101.313,
          101.308,
          101.143,
          101.51,
          101.596,
          109.82700000000001
         ],
         "yaxis": "y"
        },
        {
         "hovertemplate": "Driver=GAS<br>Laps=%{x}<br>Lap Time (s)=%{y}<extra></extra>",
         "legendgroup": "GAS",
         "line": {
          "color": "#fe86bc",
          "dash": "solid"
         },
         "marker": {
          "symbol": "circle"
         },
         "mode": "lines+markers",
         "name": "GAS",
         "showlegend": true,
         "type": "scattergl",
         "x": [
          62,
          61,
          60,
          59,
          58,
          57,
          56,
          55,
          54,
          53,
          52,
          51,
          50,
          49,
          48,
          47,
          46,
          45,
          44,
          43,
          42,
          41,
          40,
          39,
          38,
          37,
          36,
          35,
          34,
          33,
          32,
          31,
          30,
          29,
          28,
          27,
          26,
          25,
          24,
          23,
          22,
          21,
          20,
          19,
          18,
          17,
          16,
          15,
          14,
          13,
          12,
          11,
          10,
          9,
          8,
          7,
          6,
          5,
          4,
          3,
          2,
          1
         ],
         "xaxis": "x",
         "y": [
          102.27300000000001,
          99.71100000000001,
          99.62,
          99.709,
          99.658,
          100.87400000000001,
          99.292,
          99.373,
          98.84400000000001,
          98.718,
          98.75500000000001,
          98.525,
          98.688,
          98.634,
          98.548,
          98.56800000000001,
          98.277,
          111.23800000000001,
          137.976,
          110.49100000000001,
          99.83500000000001,
          99.93400000000001,
          99.885,
          102.86,
          101.26100000000001,
          100.50800000000001,
          99.965,
          102.563,
          101.32100000000001,
          100.15400000000001,
          100.406,
          99.974,
          100.28,
          101.706,
          101.536,
          100.396,
          100.92,
          101.048,
          102.40700000000001,
          103.34400000000001,
          140.73000000000002,
          169.697,
          128.721,
          101.061,
          100.866,
          100.673,
          100.929,
          100.602,
          100.62700000000001,
          100.82900000000001,
          100.43900000000001,
          100.72800000000001,
          100.378,
          101.063,
          100.677,
          101.399,
          101.82900000000001,
          101.292,
          101.334,
          101.44200000000001,
          102.35300000000001,
          110.11500000000001
         ],
         "yaxis": "y"
        },
        {
         "hovertemplate": "Driver=PIA<br>Laps=%{x}<br>Lap Time (s)=%{y}<extra></extra>",
         "legendgroup": "PIA",
         "line": {
          "color": "#ff8700",
          "dash": "solid"
         },
         "marker": {
          "symbol": "circle"
         },
         "mode": "lines+markers",
         "name": "PIA",
         "showlegend": true,
         "type": "scattergl",
         "x": [
          62,
          61,
          60,
          59,
          58,
          57,
          56,
          55,
          54,
          53,
          52,
          51,
          50,
          49,
          48,
          47,
          46,
          45,
          44,
          43,
          42,
          41,
          40,
          39,
          38,
          37,
          36,
          35,
          34,
          33,
          32,
          31,
          30,
          29,
          28,
          27,
          26,
          25,
          24,
          23,
          22,
          21,
          20,
          19,
          18,
          17,
          16,
          15,
          14,
          13,
          12,
          11,
          10,
          9,
          8,
          7,
          6,
          5,
          4,
          3,
          2,
          1
         ],
         "xaxis": "x",
         "y": [
          101.41000000000001,
          99.616,
          99.18900000000001,
          99.42800000000001,
          99.516,
          99.14,
          99.141,
          100.108,
          100.546,
          98.77300000000001,
          98.793,
          98.656,
          98.83200000000001,
          99.00800000000001,
          98.647,
          98.88900000000001,
          98.492,
          112.685,
          136.298,
          112.35600000000001,
          99.783,
          99.982,
          100.299,
          102.986,
          100.858,
          100.36800000000001,
          100.587,
          102.20400000000001,
          101.59800000000001,
          100.23700000000001,
          100.104,
          100.033,
          100.55300000000001,
          101.74900000000001,
          101.47000000000001,
          100.52900000000001,
          100.802,
          101.272,
          102.238,
          103.549,
          138.79000000000002,
          167.764,
          128.99800000000002,
          101.322,
          100.89500000000001,
          100.846,
          100.60000000000001,
          100.709,
          100.307,
          101.119,
          100.563,
          100.67800000000001,
          100.528,
          100.474,
          101.09100000000001,
          102.30900000000001,
          102.673,
          101.241,
          101.37,
          101.909,
          102.06,
          111.927
         ],
         "yaxis": "y"
        },
        {
         "hovertemplate": "Driver=PER<br>Laps=%{x}<br>Lap Time (s)=%{y}<extra></extra>",
         "legendgroup": "PER",
         "line": {
          "color": "#ffec7b",
          "dash": "solid"
         },
         "marker": {
          "symbol": "circle"
         },
         "mode": "lines+markers",
         "name": "PER",
         "showlegend": true,
         "type": "scattergl",
         "x": [
          62,
          61,
          60,
          59,
          58,
          57,
          56,
          55,
          54,
          53,
          52,
          51,
          50,
          49,
          48,
          47,
          46,
          45,
          44,
          43,
          42,
          41,
          40,
          39,
          38,
          37,
          36,
          35,
          34,
          33,
          32,
          31,
          30,
          29,
          28,
          27,
          26,
          25,
          24,
          23,
          22,
          21,
          20,
          19,
          18,
          17,
          16,
          15,
          14,
          13,
          12,
          11,
          10,
          9,
          8,
          7,
          6,
          5,
          4,
          3,
          2,
          1
         ],
         "xaxis": "x",
         "y": [
          98.18900000000001,
          97.108,
          99.147,
          102.042,
          100.912,
          101.36500000000001,
          98.016,
          97.74600000000001,
          98.38600000000001,
          99.32000000000001,
          99.858,
          98.116,
          97.799,
          98.01,
          98.351,
          98.235,
          97.54100000000001,
          100.229,
          137.392,
          120.69000000000001,
          98.709,
          98.551,
          119.337,
          113.087,
          101.32100000000001,
          103.171,
          101.489,
          100.32600000000001,
          100.822,
          100.355,
          100.254,
          100.20500000000001,
          100.319,
          100.29,
          101.83300000000001,
          100.5,
          100.59500000000001,
          101.53200000000001,
          102.735,
          104.19500000000001,
          148.562,
          162.64100000000002,
          121.114,
          101.40400000000001,
          101.07700000000001,
          100.98700000000001,
          100.688,
          100.53800000000001,
          100.31400000000001,
          100.843,
          100.715,
          100.69300000000001,
          100.643,
          100.694,
          100.55600000000001,
          101.35300000000001,
          103.147,
          101.331,
          101.35400000000001,
          101.622,
          102.009,
          111.58900000000001
         ],
         "yaxis": "y"
        },
        {
         "hovertemplate": "Driver=LAW<br>Laps=%{x}<br>Lap Time (s)=%{y}<extra></extra>",
         "legendgroup": "LAW",
         "line": {
          "color": "#2b4562",
          "dash": "solid"
         },
         "marker": {
          "symbol": "circle"
         },
         "mode": "lines+markers",
         "name": "LAW",
         "showlegend": true,
         "type": "scattergl",
         "x": [
          62,
          61,
          60,
          59,
          58,
          57,
          56,
          55,
          54,
          53,
          52,
          51,
          50,
          49,
          48,
          47,
          46,
          45,
          44,
          43,
          42,
          41,
          40,
          39,
          38,
          37,
          36,
          35,
          34,
          33,
          32,
          31,
          30,
          29,
          28,
          27,
          26,
          25,
          24,
          23,
          22,
          21,
          20,
          19,
          18,
          17,
          16,
          15,
          14,
          13,
          12,
          11,
          10,
          9,
          8,
          7,
          6,
          5,
          4,
          3,
          2,
          1
         ],
         "xaxis": "x",
         "y": [
          102.328,
          101.007,
          103.08900000000001,
          101.91000000000001,
          101.423,
          101.69800000000001,
          99.962,
          99.80300000000001,
          99.884,
          99.99600000000001,
          99.95,
          100.801,
          101.093,
          99.783,
          99.38600000000001,
          99.028,
          99.132,
          110.881,
          138.52800000000002,
          111.885,
          100.18100000000001,
          100.31500000000001,
          101.182,
          101.84500000000001,
          101.10600000000001,
          100.79700000000001,
          101.10000000000001,
          102.14800000000001,
          100.953,
          100.334,
          100.055,
          100.44000000000001,
          100.99900000000001,
          101.515,
          101.5,
          100.23100000000001,
          100.971,
          101.399,
          102.29400000000001,
          103.52300000000001,
          137.71300000000002,
          172.02800000000002,
          128.455,
          101.286,
          101.119,
          100.94000000000001,
          100.941,
          100.72800000000001,
          100.676,
          100.64200000000001,
          100.45400000000001,
          100.82400000000001,
          100.59800000000001,
          100.88600000000001,
          100.893,
          101.468,
          101.933,
          101.35100000000001,
          101.35900000000001,
          101.51400000000001,
          102.13900000000001,
          110.93400000000001
         ],
         "yaxis": "y"
        },
        {
         "hovertemplate": "Driver=MAG<br>Laps=%{x}<br>Lap Time (s)=%{y}<extra></extra>",
         "legendgroup": "MAG",
         "line": {
          "color": "#ffffff",
          "dash": "solid"
         },
         "marker": {
          "symbol": "circle"
         },
         "mode": "lines+markers",
         "name": "MAG",
         "showlegend": true,
         "type": "scattergl",
         "x": [
          62,
          61,
          60,
          59,
          58,
          57,
          56,
          55,
          54,
          53,
          52,
          51,
          50,
          49,
          48,
          47,
          46,
          45,
          44,
          43,
          42,
          41,
          40,
          39,
          38,
          37,
          36,
          35,
          34,
          33,
          32,
          31,
          30,
          29,
          28,
          27,
          26,
          25,
          24,
          23,
          22,
          21,
          20,
          19,
          18,
          17,
          16,
          15,
          14,
          13,
          12,
          11,
          10,
          9,
          8,
          7,
          6,
          5,
          4,
          3,
          2,
          1
         ],
         "xaxis": "x",
         "y": [
          99.418,
          98.44500000000001,
          99.69500000000001,
          100.39800000000001,
          102.141,
          98.95400000000001,
          98.56700000000001,
          98.29,
          98.495,
          98.69300000000001,
          98.40700000000001,
          98.215,
          98.28,
          98.367,
          98.107,
          99.742,
          100.988,
          99.787,
          157.11100000000002,
          126.00200000000001,
          100.956,
          101.307,
          101.757,
          101.93400000000001,
          101.59100000000001,
          102.352,
          108.13000000000001,
          102.61200000000001,
          101.29100000000001,
          100.096,
          100.46400000000001,
          100.03,
          100.224,
          101.56500000000001,
          101.57900000000001,
          100.48100000000001,
          100.85100000000001,
          101.10900000000001,
          102.343,
          103.438,
          141.983,
          171.598,
          126.536,
          101.007,
          100.99300000000001,
          100.85900000000001,
          100.671,
          100.59800000000001,
          100.515,
          100.828,
          100.70500000000001,
          100.415,
          100.504,
          100.995,
          100.63000000000001,
          100.834,
          102.626,
          101.46900000000001,
          101.004,
          101.539,
          102.668,
          108.34500000000001
         ],
         "yaxis": "y"
        },
        {
         "hovertemplate": "Driver=ALB<br>Laps=%{x}<br>Lap Time (s)=%{y}<extra></extra>",
         "legendgroup": "ALB",
         "line": {
          "color": "#005aff",
          "dash": "solid"
         },
         "marker": {
          "symbol": "circle"
         },
         "mode": "lines+markers",
         "name": "ALB",
         "showlegend": true,
         "type": "scattergl",
         "x": [
          62,
          61,
          60,
          59,
          58,
          57,
          56,
          55,
          54,
          53,
          52,
          51,
          50,
          49,
          48,
          47,
          46,
          45,
          44,
          43,
          42,
          41,
          40,
          39,
          38,
          37,
          36,
          35,
          34,
          33,
          32,
          31,
          30,
          29,
          28,
          27,
          26,
          25,
          24,
          23,
          22,
          21,
          20,
          19,
          18,
          17,
          16,
          15,
          14,
          13,
          12,
          11,
          10,
          9,
          8,
          7,
          6,
          5,
          4,
          3,
          2,
          1
         ],
         "xaxis": "x",
         "y": [
          99.891,
          98.501,
          99.668,
          100.685,
          117.96400000000001,
          101.555,
          98.387,
          97.656,
          98.226,
          99.613,
          100.048,
          98.21300000000001,
          98.122,
          98.019,
          97.992,
          98.04700000000001,
          97.34200000000001,
          100.91900000000001,
          154.978,
          120.929,
          100.637,
          100.57900000000001,
          100.935,
          101.24600000000001,
          100.837,
          101.028,
          101.94000000000001,
          101.06500000000001,
          100.55000000000001,
          100.772,
          100.542,
          100.98100000000001,
          100.46900000000001,
          101.45500000000001,
          101.44200000000001,
          101.30900000000001,
          100.927,
          100.96100000000001,
          103.087,
          103.117,
          135.18200000000002,
          172.288,
          128.59900000000002,
          101.174,
          100.94900000000001,
          100.68900000000001,
          100.81500000000001,
          100.638,
          100.775,
          100.75500000000001,
          100.45800000000001,
          100.363,
          100.625,
          100.869,
          101.31800000000001,
          103.107,
          102.001,
          101.361,
          101.47300000000001,
          101.783,
          101.902,
          113.07700000000001
         ],
         "yaxis": "y"
        },
        {
         "hovertemplate": "Driver=ZHO<br>Laps=%{x}<br>Lap Time (s)=%{y}<extra></extra>",
         "legendgroup": "ZHO",
         "line": {
          "color": "#008d01",
          "dash": "solid"
         },
         "marker": {
          "symbol": "circle"
         },
         "mode": "lines+markers",
         "name": "ZHO",
         "showlegend": true,
         "type": "scattergl",
         "x": [
          62,
          61,
          60,
          59,
          58,
          57,
          56,
          55,
          54,
          53,
          52,
          51,
          50,
          49,
          48,
          47,
          46,
          45,
          44,
          43,
          42,
          41,
          40,
          39,
          38,
          37,
          36,
          35,
          34,
          33,
          32,
          31,
          30,
          29,
          28,
          27,
          26,
          25,
          24,
          23,
          22,
          21,
          20,
          19,
          18,
          17,
          16,
          15,
          14,
          13,
          12,
          11,
          10,
          9,
          8,
          7,
          6,
          5,
          4,
          3,
          2,
          1
         ],
         "xaxis": "x",
         "y": [
          102.24600000000001,
          102.01,
          101.79400000000001,
          103.77300000000001,
          102.795,
          101.41900000000001,
          101.215,
          100.798,
          101.70800000000001,
          101.753,
          103.70800000000001,
          100.482,
          99.81800000000001,
          100.042,
          99.79,
          100.485,
          99.316,
          110.632,
          137.51600000000002,
          114.35700000000001,
          100.42500000000001,
          100.85300000000001,
          100.80600000000001,
          100.894,
          100.82100000000001,
          101.14800000000001,
          102.747,
          101.18900000000001,
          100.49900000000001,
          100.70800000000001,
          100.57600000000001,
          100.778,
          100.866,
          101.47600000000001,
          101.31,
          100.57000000000001,
          100.97300000000001,
          101.346,
          103.94900000000001,
          102.74900000000001,
          120.733,
          156.24,
          136.69400000000002,
          101.68400000000001,
          100.58200000000001,
          100.424,
          100.42500000000001,
          100.46300000000001,
          100.83300000000001,
          100.397,
          100.316,
          100.534,
          100.566,
          100.555,
          101.24000000000001,
          100.58800000000001,
          100.471,
          100.37100000000001,
          99.869,
          122.71600000000001,
          109.96900000000001,
          115.057
         ],
         "yaxis": "y"
        },
        {
         "hovertemplate": "Driver=HUL<br>Laps=%{x}<br>Lap Time (s)=%{y}<extra></extra>",
         "legendgroup": "HUL",
         "line": {
          "color": "#cacaca",
          "dash": "solid"
         },
         "marker": {
          "symbol": "circle"
         },
         "mode": "lines+markers",
         "name": "HUL",
         "showlegend": true,
         "type": "scattergl",
         "x": [
          62,
          61,
          60,
          59,
          58,
          57,
          56,
          55,
          54,
          53,
          52,
          51,
          50,
          49,
          48,
          47,
          46,
          45,
          44,
          43,
          42,
          41,
          40,
          39,
          38,
          37,
          36,
          35,
          34,
          33,
          32,
          31,
          30,
          29,
          28,
          27,
          26,
          25,
          24,
          23,
          22,
          21,
          20,
          19,
          18,
          17,
          16,
          15,
          14,
          13,
          12,
          11,
          10,
          9,
          8,
          7,
          6,
          5,
          4,
          3,
          2,
          1
         ],
         "xaxis": "x",
         "y": [
          103.72800000000001,
          103.503,
          104.766,
          101.53800000000001,
          102.177,
          101.41000000000001,
          101.28500000000001,
          101.16000000000001,
          101.918,
          103.808,
          100.94600000000001,
          100.729,
          99.923,
          100.65,
          100.789,
          99.971,
          100.00500000000001,
          111.986,
          136.65300000000002,
          113.224,
          100.52300000000001,
          100.68700000000001,
          101.257,
          102.01,
          101.051,
          100.482,
          101.128,
          101.622,
          100.644,
          100.694,
          101.03800000000001,
          100.07600000000001,
          100.69200000000001,
          101.57000000000001,
          101.78,
          100.42500000000001,
          100.93,
          101.165,
          103.04400000000001,
          103.093,
          136.853,
          175.88000000000002,
          128.679,
          101.096,
          100.87700000000001,
          100.753,
          100.789,
          100.69300000000001,
          100.641,
          100.783,
          100.479,
          100.55900000000001,
          100.63300000000001,
          100.97800000000001,
          100.73400000000001,
          101.117,
          101.94900000000001,
          101.35000000000001,
          101.256,
          101.4,
          102.849,
          109.191
         ],
         "yaxis": "y"
        },
        {
         "hovertemplate": "Driver=SAR<br>Laps=%{x}<br>Lap Time (s)=%{y}<extra></extra>",
         "legendgroup": "SAR",
         "line": {
          "color": "#012564",
          "dash": "solid"
         },
         "marker": {
          "symbol": "circle"
         },
         "mode": "lines+markers",
         "name": "SAR",
         "showlegend": true,
         "type": "scattergl",
         "x": [
          62,
          61,
          60,
          59,
          58,
          57,
          56,
          55,
          54,
          53,
          52,
          51,
          50,
          49,
          48,
          47,
          46,
          45,
          44,
          43,
          42,
          41,
          40,
          39,
          38,
          37,
          36,
          35,
          34,
          33,
          32,
          31,
          30,
          29,
          28,
          27,
          26,
          25,
          24,
          23,
          22,
          21,
          20,
          19,
          18,
          17,
          16,
          15,
          14,
          13,
          12,
          11,
          10,
          9,
          8,
          7,
          6,
          5,
          4,
          3,
          2,
          1
         ],
         "xaxis": "x",
         "y": [
          103.95500000000001,
          101.938,
          99.786,
          99.37400000000001,
          100.76700000000001,
          99.171,
          98.881,
          98.858,
          98.933,
          98.983,
          98.81200000000001,
          98.62,
          98.65700000000001,
          98.69000000000001,
          98.71100000000001,
          98.58900000000001,
          98.784,
          98.531,
          153.25300000000001,
          128.40800000000002,
          100.602,
          100.29700000000001,
          100.28,
          100.134,
          99.87700000000001,
          99.75200000000001,
          99.878,
          99.76400000000001,
          99.799,
          99.763,
          99.807,
          99.69000000000001,
          99.90400000000001,
          99.748,
          99.97200000000001,
          99.88900000000001,
          100.33800000000001,
          100.30000000000001,
          100.39,
          99.85600000000001,
          100.354,
          135.091,
          null,
          149.645,
          101.57000000000001,
          101.113,
          100.965,
          100.83800000000001,
          100.983,
          100.79700000000001,
          100.554,
          100.71100000000001,
          100.739,
          101.22800000000001,
          101.683,
          102.88600000000001,
          101.63600000000001,
          101.26400000000001,
          101.875,
          101.7,
          101.983,
          114.06
         ],
         "yaxis": "y"
        },
        {
         "hovertemplate": "Driver=ALO<br>Laps=%{x}<br>Lap Time (s)=%{y}<extra></extra>",
         "legendgroup": "ALO",
         "line": {
          "color": "#006f62",
          "dash": "solid"
         },
         "marker": {
          "symbol": "circle"
         },
         "mode": "lines+markers",
         "name": "ALO",
         "showlegend": true,
         "type": "scattergl",
         "x": [
          62,
          61,
          60,
          59,
          58,
          57,
          56,
          55,
          54,
          53,
          52,
          51,
          50,
          49,
          48,
          47,
          46,
          45,
          44,
          43,
          42,
          41,
          40,
          39,
          38,
          37,
          36,
          35,
          34,
          33,
          32,
          31,
          30,
          29,
          28,
          27,
          26,
          25,
          24,
          23,
          22,
          21,
          20,
          19,
          18,
          17,
          16,
          15,
          14,
          13,
          12,
          11,
          10,
          9,
          8,
          7,
          6,
          5,
          4,
          3,
          2,
          1
         ],
         "xaxis": "x",
         "y": [
          104.29,
          101.542,
          98.72800000000001,
          98.518,
          98.941,
          98.30300000000001,
          98.436,
          98.012,
          98.179,
          98.55900000000001,
          97.94300000000001,
          98.46300000000001,
          98.08800000000001,
          98.787,
          99.79,
          96.456,
          113.33300000000001,
          146.08100000000002,
          144.76000000000002,
          110.179,
          100.146,
          100.18,
          100.15400000000001,
          102.06200000000001,
          101.20800000000001,
          104.09400000000001,
          101.265,
          100.626,
          100.578,
          99.63600000000001,
          100.39,
          100.049,
          100.128,
          101.292,
          101.93100000000001,
          100.185,
          100.896,
          100.68900000000001,
          103.137,
          103.29100000000001,
          145.198,
          177.262,
          124.30000000000001,
          100.346,
          100.316,
          100.49900000000001,
          100.238,
          100.09500000000001,
          100.18,
          100.554,
          100.38300000000001,
          100.147,
          100.555,
          100.42200000000001,
          100.21000000000001,
          100.774,
          100.686,
          101.194,
          101.35600000000001,
          101.349,
          102.25500000000001,
          107.37700000000001
         ],
         "yaxis": "y"
        },
        {
         "hovertemplate": "Driver=RUS<br>Laps=%{x}<br>Lap Time (s)=%{y}<extra></extra>",
         "legendgroup": "RUS",
         "line": {
          "color": "#24ffff",
          "dash": "solid"
         },
         "marker": {
          "symbol": "circle"
         },
         "mode": "lines+markers",
         "name": "RUS",
         "showlegend": true,
         "type": "scattergl",
         "x": [
          62,
          61,
          60,
          59,
          58,
          57,
          56,
          55,
          54,
          53,
          52,
          51,
          50,
          49,
          48,
          47,
          46,
          45,
          44,
          43,
          42,
          41,
          40,
          39,
          38,
          37,
          36,
          35,
          34,
          33,
          32,
          31,
          30,
          29,
          28,
          27,
          26,
          25,
          24,
          23,
          22,
          21,
          20,
          19,
          18,
          17,
          16,
          15,
          14,
          13,
          12,
          11,
          10,
          9,
          8,
          7,
          6,
          5,
          4,
          3,
          2,
          1
         ],
         "xaxis": "x",
         "y": [
          null,
          99.31400000000001,
          99.51,
          100.239,
          98.686,
          97.24600000000001,
          97.02900000000001,
          96.93700000000001,
          97.396,
          98.56700000000001,
          97.414,
          96.757,
          97.006,
          96.569,
          96.649,
          96.41900000000001,
          96.27300000000001,
          131.669,
          144.887,
          99.482,
          99.84500000000001,
          99.80300000000001,
          99.322,
          99.16900000000001,
          99.635,
          99.77600000000001,
          99.474,
          99.986,
          99.96100000000001,
          99.34800000000001,
          99.319,
          99.45800000000001,
          100.06700000000001,
          100.41300000000001,
          101.18100000000001,
          100.20500000000001,
          99.173,
          99.56,
          99.501,
          102.34100000000001,
          149.33700000000002,
          181.24900000000002,
          120.405,
          99.99600000000001,
          99.686,
          100.02900000000001,
          100.06200000000001,
          99.965,
          100.75800000000001,
          100.34400000000001,
          100.46300000000001,
          100.59500000000001,
          100.093,
          100.039,
          100.46400000000001,
          100.271,
          100.221,
          100.46400000000001,
          101.08600000000001,
          100.944,
          101.10300000000001,
          105.772
         ],
         "yaxis": "y"
        },
        {
         "hovertemplate": "Driver=BOT<br>Laps=%{x}<br>Lap Time (s)=%{y}<extra></extra>",
         "legendgroup": "BOT",
         "line": {
          "color": "#00e701",
          "dash": "solid"
         },
         "marker": {
          "symbol": "circle"
         },
         "mode": "lines+markers",
         "name": "BOT",
         "showlegend": true,
         "type": "scattergl",
         "x": [
          52,
          51,
          50,
          49,
          48,
          47,
          46,
          45,
          44,
          43,
          42,
          41,
          40,
          39,
          38,
          37,
          36,
          35,
          34,
          33,
          32,
          31,
          30,
          29,
          28,
          27,
          26,
          25,
          24,
          23,
          22,
          21,
          20,
          19,
          18,
          17,
          16,
          15,
          14,
          13,
          12,
          11,
          10,
          9,
          8,
          7,
          6,
          5,
          4,
          3,
          2,
          1
         ],
         "xaxis": "x",
         "y": [
          null,
          98.075,
          98.09200000000001,
          98.525,
          98.57300000000001,
          98.729,
          98.979,
          99.08000000000001,
          134.405,
          126.94900000000001,
          98.39200000000001,
          120.751,
          110.10100000000001,
          102.05900000000001,
          102.28200000000001,
          102.375,
          101.628,
          100.808,
          101.08800000000001,
          101.06,
          101.162,
          100.90700000000001,
          101.369,
          101.47800000000001,
          101.28800000000001,
          101.28800000000001,
          101.366,
          101.759,
          106.415,
          105.486,
          142.499,
          158.073,
          124.66000000000001,
          101.786,
          100.90400000000001,
          100.80900000000001,
          100.92500000000001,
          100.793,
          100.95500000000001,
          101.194,
          101.063,
          101.376,
          101.23,
          101.30300000000001,
          102.153,
          102.397,
          101.27000000000001,
          101.757,
          101.766,
          103.036,
          102.182,
          114.71400000000001
         ],
         "yaxis": "y"
        },
        {
         "hovertemplate": "Driver=OCO<br>Laps=%{x}<br>Lap Time (s)=%{y}<extra></extra>",
         "legendgroup": "OCO",
         "line": {
          "color": "#ff117c",
          "dash": "solid"
         },
         "marker": {
          "symbol": "circle"
         },
         "mode": "lines+markers",
         "name": "OCO",
         "showlegend": true,
         "type": "scattergl",
         "x": [
          43,
          42,
          41,
          40,
          39,
          38,
          37,
          36,
          35,
          34,
          33,
          32,
          31,
          30,
          29,
          28,
          27,
          26,
          25,
          24,
          23,
          22,
          21,
          20,
          19,
          18,
          17,
          16,
          15,
          14,
          13,
          12,
          11,
          10,
          9,
          8,
          7,
          6,
          5,
          4,
          3,
          2,
          1
         ],
         "xaxis": "x",
         "y": [
          null,
          99.995,
          100.06400000000001,
          99.93100000000001,
          100.875,
          101.319,
          102.599,
          101.21100000000001,
          100.54100000000001,
          100.30300000000001,
          99.93,
          100.36200000000001,
          100.043,
          100.04,
          101.534,
          101.75500000000001,
          100.376,
          100.885,
          100.89500000000001,
          103.09100000000001,
          103.254,
          143.293,
          176.33800000000002,
          125.88700000000001,
          100.49000000000001,
          100.423,
          100.575,
          100.387,
          100.35300000000001,
          100.247,
          100.56200000000001,
          100.388,
          100.08500000000001,
          100.68900000000001,
          100.343,
          100.33900000000001,
          100.732,
          100.908,
          101.32900000000001,
          101.375,
          101.19600000000001,
          102.40100000000001,
          107.795
         ],
         "yaxis": "y"
        },
        {
         "hovertemplate": "Driver=TSU<br>Laps=%{x}<br>Lap Time (s)=%{y}<extra></extra>",
         "legendgroup": "TSU",
         "line": {
          "color": "#356cac",
          "dash": "solid"
         },
         "marker": {
          "symbol": "circle"
         },
         "mode": "lines+markers",
         "name": "TSU",
         "showlegend": true,
         "type": "scattergl",
         "x": [
          1
         ],
         "xaxis": "x",
         "y": [
          null
         ],
         "yaxis": "y"
        }
       ],
       "layout": {
        "height": 600,
        "legend": {
         "title": {
          "text": "Driver"
         },
         "tracegroupgap": 0
        },
        "template": {
         "data": {
          "bar": [
           {
            "error_x": {
             "color": "#f2f5fa"
            },
            "error_y": {
             "color": "#f2f5fa"
            },
            "marker": {
             "line": {
              "color": "rgb(17,17,17)",
              "width": 0.5
             },
             "pattern": {
              "fillmode": "overlay",
              "size": 10,
              "solidity": 0.2
             }
            },
            "type": "bar"
           }
          ],
          "barpolar": [
           {
            "marker": {
             "line": {
              "color": "rgb(17,17,17)",
              "width": 0.5
             },
             "pattern": {
              "fillmode": "overlay",
              "size": 10,
              "solidity": 0.2
             }
            },
            "type": "barpolar"
           }
          ],
          "carpet": [
           {
            "aaxis": {
             "endlinecolor": "#A2B1C6",
             "gridcolor": "#506784",
             "linecolor": "#506784",
             "minorgridcolor": "#506784",
             "startlinecolor": "#A2B1C6"
            },
            "baxis": {
             "endlinecolor": "#A2B1C6",
             "gridcolor": "#506784",
             "linecolor": "#506784",
             "minorgridcolor": "#506784",
             "startlinecolor": "#A2B1C6"
            },
            "type": "carpet"
           }
          ],
          "choropleth": [
           {
            "colorbar": {
             "outlinewidth": 0,
             "ticks": ""
            },
            "type": "choropleth"
           }
          ],
          "contour": [
           {
            "colorbar": {
             "outlinewidth": 0,
             "ticks": ""
            },
            "colorscale": [
             [
              0,
              "#0d0887"
             ],
             [
              0.1111111111111111,
              "#46039f"
             ],
             [
              0.2222222222222222,
              "#7201a8"
             ],
             [
              0.3333333333333333,
              "#9c179e"
             ],
             [
              0.4444444444444444,
              "#bd3786"
             ],
             [
              0.5555555555555556,
              "#d8576b"
             ],
             [
              0.6666666666666666,
              "#ed7953"
             ],
             [
              0.7777777777777778,
              "#fb9f3a"
             ],
             [
              0.8888888888888888,
              "#fdca26"
             ],
             [
              1,
              "#f0f921"
             ]
            ],
            "type": "contour"
           }
          ],
          "contourcarpet": [
           {
            "colorbar": {
             "outlinewidth": 0,
             "ticks": ""
            },
            "type": "contourcarpet"
           }
          ],
          "heatmap": [
           {
            "colorbar": {
             "outlinewidth": 0,
             "ticks": ""
            },
            "colorscale": [
             [
              0,
              "#0d0887"
             ],
             [
              0.1111111111111111,
              "#46039f"
             ],
             [
              0.2222222222222222,
              "#7201a8"
             ],
             [
              0.3333333333333333,
              "#9c179e"
             ],
             [
              0.4444444444444444,
              "#bd3786"
             ],
             [
              0.5555555555555556,
              "#d8576b"
             ],
             [
              0.6666666666666666,
              "#ed7953"
             ],
             [
              0.7777777777777778,
              "#fb9f3a"
             ],
             [
              0.8888888888888888,
              "#fdca26"
             ],
             [
              1,
              "#f0f921"
             ]
            ],
            "type": "heatmap"
           }
          ],
          "heatmapgl": [
           {
            "colorbar": {
             "outlinewidth": 0,
             "ticks": ""
            },
            "colorscale": [
             [
              0,
              "#0d0887"
             ],
             [
              0.1111111111111111,
              "#46039f"
             ],
             [
              0.2222222222222222,
              "#7201a8"
             ],
             [
              0.3333333333333333,
              "#9c179e"
             ],
             [
              0.4444444444444444,
              "#bd3786"
             ],
             [
              0.5555555555555556,
              "#d8576b"
             ],
             [
              0.6666666666666666,
              "#ed7953"
             ],
             [
              0.7777777777777778,
              "#fb9f3a"
             ],
             [
              0.8888888888888888,
              "#fdca26"
             ],
             [
              1,
              "#f0f921"
             ]
            ],
            "type": "heatmapgl"
           }
          ],
          "histogram": [
           {
            "marker": {
             "pattern": {
              "fillmode": "overlay",
              "size": 10,
              "solidity": 0.2
             }
            },
            "type": "histogram"
           }
          ],
          "histogram2d": [
           {
            "colorbar": {
             "outlinewidth": 0,
             "ticks": ""
            },
            "colorscale": [
             [
              0,
              "#0d0887"
             ],
             [
              0.1111111111111111,
              "#46039f"
             ],
             [
              0.2222222222222222,
              "#7201a8"
             ],
             [
              0.3333333333333333,
              "#9c179e"
             ],
             [
              0.4444444444444444,
              "#bd3786"
             ],
             [
              0.5555555555555556,
              "#d8576b"
             ],
             [
              0.6666666666666666,
              "#ed7953"
             ],
             [
              0.7777777777777778,
              "#fb9f3a"
             ],
             [
              0.8888888888888888,
              "#fdca26"
             ],
             [
              1,
              "#f0f921"
             ]
            ],
            "type": "histogram2d"
           }
          ],
          "histogram2dcontour": [
           {
            "colorbar": {
             "outlinewidth": 0,
             "ticks": ""
            },
            "colorscale": [
             [
              0,
              "#0d0887"
             ],
             [
              0.1111111111111111,
              "#46039f"
             ],
             [
              0.2222222222222222,
              "#7201a8"
             ],
             [
              0.3333333333333333,
              "#9c179e"
             ],
             [
              0.4444444444444444,
              "#bd3786"
             ],
             [
              0.5555555555555556,
              "#d8576b"
             ],
             [
              0.6666666666666666,
              "#ed7953"
             ],
             [
              0.7777777777777778,
              "#fb9f3a"
             ],
             [
              0.8888888888888888,
              "#fdca26"
             ],
             [
              1,
              "#f0f921"
             ]
            ],
            "type": "histogram2dcontour"
           }
          ],
          "mesh3d": [
           {
            "colorbar": {
             "outlinewidth": 0,
             "ticks": ""
            },
            "type": "mesh3d"
           }
          ],
          "parcoords": [
           {
            "line": {
             "colorbar": {
              "outlinewidth": 0,
              "ticks": ""
             }
            },
            "type": "parcoords"
           }
          ],
          "pie": [
           {
            "automargin": true,
            "type": "pie"
           }
          ],
          "scatter": [
           {
            "marker": {
             "line": {
              "color": "#283442"
             }
            },
            "type": "scatter"
           }
          ],
          "scatter3d": [
           {
            "line": {
             "colorbar": {
              "outlinewidth": 0,
              "ticks": ""
             }
            },
            "marker": {
             "colorbar": {
              "outlinewidth": 0,
              "ticks": ""
             }
            },
            "type": "scatter3d"
           }
          ],
          "scattercarpet": [
           {
            "marker": {
             "colorbar": {
              "outlinewidth": 0,
              "ticks": ""
             }
            },
            "type": "scattercarpet"
           }
          ],
          "scattergeo": [
           {
            "marker": {
             "colorbar": {
              "outlinewidth": 0,
              "ticks": ""
             }
            },
            "type": "scattergeo"
           }
          ],
          "scattergl": [
           {
            "marker": {
             "line": {
              "color": "#283442"
             }
            },
            "type": "scattergl"
           }
          ],
          "scattermapbox": [
           {
            "marker": {
             "colorbar": {
              "outlinewidth": 0,
              "ticks": ""
             }
            },
            "type": "scattermapbox"
           }
          ],
          "scatterpolar": [
           {
            "marker": {
             "colorbar": {
              "outlinewidth": 0,
              "ticks": ""
             }
            },
            "type": "scatterpolar"
           }
          ],
          "scatterpolargl": [
           {
            "marker": {
             "colorbar": {
              "outlinewidth": 0,
              "ticks": ""
             }
            },
            "type": "scatterpolargl"
           }
          ],
          "scatterternary": [
           {
            "marker": {
             "colorbar": {
              "outlinewidth": 0,
              "ticks": ""
             }
            },
            "type": "scatterternary"
           }
          ],
          "surface": [
           {
            "colorbar": {
             "outlinewidth": 0,
             "ticks": ""
            },
            "colorscale": [
             [
              0,
              "#0d0887"
             ],
             [
              0.1111111111111111,
              "#46039f"
             ],
             [
              0.2222222222222222,
              "#7201a8"
             ],
             [
              0.3333333333333333,
              "#9c179e"
             ],
             [
              0.4444444444444444,
              "#bd3786"
             ],
             [
              0.5555555555555556,
              "#d8576b"
             ],
             [
              0.6666666666666666,
              "#ed7953"
             ],
             [
              0.7777777777777778,
              "#fb9f3a"
             ],
             [
              0.8888888888888888,
              "#fdca26"
             ],
             [
              1,
              "#f0f921"
             ]
            ],
            "type": "surface"
           }
          ],
          "table": [
           {
            "cells": {
             "fill": {
              "color": "#506784"
             },
             "line": {
              "color": "rgb(17,17,17)"
             }
            },
            "header": {
             "fill": {
              "color": "#2a3f5f"
             },
             "line": {
              "color": "rgb(17,17,17)"
             }
            },
            "type": "table"
           }
          ]
         },
         "layout": {
          "annotationdefaults": {
           "arrowcolor": "#f2f5fa",
           "arrowhead": 0,
           "arrowwidth": 1
          },
          "autotypenumbers": "strict",
          "coloraxis": {
           "colorbar": {
            "outlinewidth": 0,
            "ticks": ""
           }
          },
          "colorscale": {
           "diverging": [
            [
             0,
             "#8e0152"
            ],
            [
             0.1,
             "#c51b7d"
            ],
            [
             0.2,
             "#de77ae"
            ],
            [
             0.3,
             "#f1b6da"
            ],
            [
             0.4,
             "#fde0ef"
            ],
            [
             0.5,
             "#f7f7f7"
            ],
            [
             0.6,
             "#e6f5d0"
            ],
            [
             0.7,
             "#b8e186"
            ],
            [
             0.8,
             "#7fbc41"
            ],
            [
             0.9,
             "#4d9221"
            ],
            [
             1,
             "#276419"
            ]
           ],
           "sequential": [
            [
             0,
             "#0d0887"
            ],
            [
             0.1111111111111111,
             "#46039f"
            ],
            [
             0.2222222222222222,
             "#7201a8"
            ],
            [
             0.3333333333333333,
             "#9c179e"
            ],
            [
             0.4444444444444444,
             "#bd3786"
            ],
            [
             0.5555555555555556,
             "#d8576b"
            ],
            [
             0.6666666666666666,
             "#ed7953"
            ],
            [
             0.7777777777777778,
             "#fb9f3a"
            ],
            [
             0.8888888888888888,
             "#fdca26"
            ],
            [
             1,
             "#f0f921"
            ]
           ],
           "sequentialminus": [
            [
             0,
             "#0d0887"
            ],
            [
             0.1111111111111111,
             "#46039f"
            ],
            [
             0.2222222222222222,
             "#7201a8"
            ],
            [
             0.3333333333333333,
             "#9c179e"
            ],
            [
             0.4444444444444444,
             "#bd3786"
            ],
            [
             0.5555555555555556,
             "#d8576b"
            ],
            [
             0.6666666666666666,
             "#ed7953"
            ],
            [
             0.7777777777777778,
             "#fb9f3a"
            ],
            [
             0.8888888888888888,
             "#fdca26"
            ],
            [
             1,
             "#f0f921"
            ]
           ]
          },
          "colorway": [
           "#636efa",
           "#EF553B",
           "#00cc96",
           "#ab63fa",
           "#FFA15A",
           "#19d3f3",
           "#FF6692",
           "#B6E880",
           "#FF97FF",
           "#FECB52"
          ],
          "font": {
           "color": "#f2f5fa"
          },
          "geo": {
           "bgcolor": "rgb(17,17,17)",
           "lakecolor": "rgb(17,17,17)",
           "landcolor": "rgb(17,17,17)",
           "showlakes": true,
           "showland": true,
           "subunitcolor": "#506784"
          },
          "hoverlabel": {
           "align": "left"
          },
          "hovermode": "closest",
          "mapbox": {
           "style": "dark"
          },
          "paper_bgcolor": "rgb(17,17,17)",
          "plot_bgcolor": "rgb(17,17,17)",
          "polar": {
           "angularaxis": {
            "gridcolor": "#506784",
            "linecolor": "#506784",
            "ticks": ""
           },
           "bgcolor": "rgb(17,17,17)",
           "radialaxis": {
            "gridcolor": "#506784",
            "linecolor": "#506784",
            "ticks": ""
           }
          },
          "scene": {
           "xaxis": {
            "backgroundcolor": "rgb(17,17,17)",
            "gridcolor": "#506784",
            "gridwidth": 2,
            "linecolor": "#506784",
            "showbackground": true,
            "ticks": "",
            "zerolinecolor": "#C8D4E3"
           },
           "yaxis": {
            "backgroundcolor": "rgb(17,17,17)",
            "gridcolor": "#506784",
            "gridwidth": 2,
            "linecolor": "#506784",
            "showbackground": true,
            "ticks": "",
            "zerolinecolor": "#C8D4E3"
           },
           "zaxis": {
            "backgroundcolor": "rgb(17,17,17)",
            "gridcolor": "#506784",
            "gridwidth": 2,
            "linecolor": "#506784",
            "showbackground": true,
            "ticks": "",
            "zerolinecolor": "#C8D4E3"
           }
          },
          "shapedefaults": {
           "line": {
            "color": "#f2f5fa"
           }
          },
          "sliderdefaults": {
           "bgcolor": "#C8D4E3",
           "bordercolor": "rgb(17,17,17)",
           "borderwidth": 1,
           "tickwidth": 0
          },
          "ternary": {
           "aaxis": {
            "gridcolor": "#506784",
            "linecolor": "#506784",
            "ticks": ""
           },
           "baxis": {
            "gridcolor": "#506784",
            "linecolor": "#506784",
            "ticks": ""
           },
           "bgcolor": "rgb(17,17,17)",
           "caxis": {
            "gridcolor": "#506784",
            "linecolor": "#506784",
            "ticks": ""
           }
          },
          "title": {
           "x": 0.05
          },
          "updatemenudefaults": {
           "bgcolor": "#506784",
           "borderwidth": 0
          },
          "xaxis": {
           "automargin": true,
           "gridcolor": "#283442",
           "linecolor": "#506784",
           "ticks": "",
           "title": {
            "standoff": 15
           },
           "zerolinecolor": "#283442",
           "zerolinewidth": 2
          },
          "yaxis": {
           "automargin": true,
           "gridcolor": "#283442",
           "linecolor": "#506784",
           "ticks": "",
           "title": {
            "standoff": 15
           },
           "zerolinecolor": "#283442",
           "zerolinewidth": 2
          }
         }
        },
        "title": {
         "text": "Lap Time of All Drivers across Race - Singapore 2023"
        },
        "width": 2000,
        "xaxis": {
         "anchor": "y",
         "domain": [
          0,
          1
         ],
         "title": {
          "text": "Laps"
         }
        },
        "yaxis": {
         "anchor": "x",
         "domain": [
          0,
          1
         ],
         "range": [
          95.367,
          105.554
         ],
         "title": {
          "text": "Lap Time (s)"
         }
        }
       }
      }
     },
     "metadata": {},
     "output_type": "display_data"
    }
   ],
   "source": [
    "color_discrete_map = {driver: color for driver, color in driver_color.items() if driver in df_all_drivers['Driver'].unique()}\n",
    "\n",
    "fig = px.line(df_all_drivers, x='LapNumber', y='LapTime', color='Driver',\n",
    "              title='Lap Time of All Drivers across Race - Singapore 2023',\n",
    "              labels={'LapTime': 'Lap Time (s)', 'LapNumber': 'Laps', 'Driver': 'Driver'},\n",
    "              color_discrete_map=color_discrete_map,\n",
    "              template=\"plotly_dark\",\n",
    "              markers=True) # Adds markers to the line plot\n",
    "\n",
    "# Setting the y-axis limits\n",
    "fig.update_yaxes(range=[min(df_all_drivers['LapTime'])-0.5, df_all_drivers['LapTime'].median()+5])\n",
    "\n",
    "# Adjusting the plot size\n",
    "fig.update_layout(width=2000, height=600)\n",
    "\n",
    "fig.show()"
   ]
  },
  {
   "cell_type": "code",
   "execution_count": 9,
   "id": "eca556f5",
   "metadata": {},
   "outputs": [],
   "source": [
    "# top 3 Drivers (based on final result)\n",
    "top_3_drivers = list(race.results.Abbreviation.iloc[:3])\n",
    "\n",
    "# data cleaning \n",
    "df_top3 = df.loc[df.Driver.isin(top_3_drivers),['LapTime','LapNumber','Driver']]\n",
    "df_top3 = df_top3.reset_index(drop=True)\n",
    "\n",
    "# plt.figure(figsize=(20,6))\n",
    "# sns.lineplot(df_top3, x=df_top3['LapNumber'], y=df_top3['LapTime'], marker = \"o\", hue=df_top3['Driver'], palette = driver_color)\n",
    "# plt.ylabel('Lap Time (s)')\n",
    "# plt.xlabel('Laps')\n",
    "# plt.title('Lap Time of Top 3 Drivers across Race \\n Singapore 2023',  fontsize=20)\n",
    "# plt.ylim(min(df_top3.LapTime)-0.5, df_top3.LapTime.median()+5)\n",
    "# plt.show()"
   ]
  },
  {
   "cell_type": "code",
   "execution_count": 10,
   "id": "73a4744f",
   "metadata": {},
   "outputs": [
    {
     "data": {
      "application/vnd.plotly.v1+json": {
       "config": {
        "plotlyServerURL": "https://plot.ly"
       },
       "data": [
        {
         "hovertemplate": "Driver=SAI<br>Laps=%{x}<br>Lap Time (s)=%{y}<extra></extra>",
         "legendgroup": "SAI",
         "line": {
          "color": "#ff8181",
          "dash": "solid"
         },
         "marker": {
          "symbol": "circle"
         },
         "mode": "lines+markers",
         "name": "SAI",
         "orientation": "v",
         "showlegend": true,
         "type": "scatter",
         "x": [
          62,
          61,
          60,
          59,
          58,
          57,
          56,
          55,
          54,
          53,
          52,
          51,
          50,
          49,
          48,
          47,
          46,
          45,
          44,
          43,
          42,
          41,
          40,
          39,
          38,
          37,
          36,
          35,
          34,
          33,
          32,
          31,
          30,
          29,
          28,
          27,
          26,
          25,
          24,
          23,
          22,
          21,
          20,
          19,
          18,
          17,
          16,
          15,
          14,
          13,
          12,
          11,
          10,
          9,
          8,
          7,
          6,
          5,
          4,
          3,
          2,
          1
         ],
         "xaxis": "x",
         "y": [
          99.95800000000001,
          99.292,
          100.042,
          99.575,
          99.337,
          98.909,
          98.52000000000001,
          98.54100000000001,
          98.70700000000001,
          98.32700000000001,
          98.218,
          98.04,
          98.637,
          98.221,
          98.2,
          97.66600000000001,
          97.91300000000001,
          121.32400000000001,
          138.57000000000002,
          99.248,
          99.93900000000001,
          99.798,
          99.393,
          99.253,
          99.519,
          99.884,
          99.54400000000001,
          99.97000000000001,
          100.025,
          99.235,
          99.18400000000001,
          99.63300000000001,
          100.21700000000001,
          100.22500000000001,
          101.23,
          99.83500000000001,
          99.185,
          99.72600000000001,
          99.792,
          102.423,
          150.809,
          188.571,
          116.82400000000001,
          99.02900000000001,
          98.992,
          99.44800000000001,
          99.39800000000001,
          99.93700000000001,
          100.39800000000001,
          100.35600000000001,
          100.53,
          100.29700000000001,
          100.369,
          99.626,
          100.503,
          100.17800000000001,
          100.113,
          100.551,
          100.58000000000001,
          100.962,
          101.38300000000001,
          103.30900000000001
         ],
         "yaxis": "y"
        },
        {
         "hovertemplate": "Driver=NOR<br>Laps=%{x}<br>Lap Time (s)=%{y}<extra></extra>",
         "legendgroup": "NOR",
         "line": {
          "color": "#eeb370",
          "dash": "solid"
         },
         "marker": {
          "symbol": "circle"
         },
         "mode": "lines+markers",
         "name": "NOR",
         "orientation": "v",
         "showlegend": true,
         "type": "scatter",
         "x": [
          62,
          61,
          60,
          59,
          58,
          57,
          56,
          55,
          54,
          53,
          52,
          51,
          50,
          49,
          48,
          47,
          46,
          45,
          44,
          43,
          42,
          41,
          40,
          39,
          38,
          37,
          36,
          35,
          34,
          33,
          32,
          31,
          30,
          29,
          28,
          27,
          26,
          25,
          24,
          23,
          22,
          21,
          20,
          19,
          18,
          17,
          16,
          15,
          14,
          13,
          12,
          11,
          10,
          9,
          8,
          7,
          6,
          5,
          4,
          3,
          2,
          1
         ],
         "xaxis": "x",
         "y": [
          99.677,
          99.51,
          99.396,
          100.41600000000001,
          99.16000000000001,
          98.617,
          98.47300000000001,
          98.492,
          98.423,
          98.39200000000001,
          98.25,
          98.12400000000001,
          98.14800000000001,
          98.173,
          98.049,
          98.15700000000001,
          98.046,
          120.748,
          138.86,
          99.56,
          99.60600000000001,
          99.662,
          99.346,
          99.271,
          99.72000000000001,
          99.83800000000001,
          99.462,
          99.70100000000001,
          100.06,
          99.66300000000001,
          99.29100000000001,
          99.367,
          99.736,
          100.09700000000001,
          100.26700000000001,
          99.406,
          99.48400000000001,
          100.24000000000001,
          100.32000000000001,
          102.789,
          148.267,
          181.311,
          121.158,
          99.88000000000001,
          99.69300000000001,
          100.024,
          100.34200000000001,
          100.247,
          100.421,
          100.372,
          100.46600000000001,
          100.355,
          99.974,
          100.13000000000001,
          100.301,
          99.97200000000001,
          99.992,
          100.28500000000001,
          101.67800000000001,
          101.12400000000001,
          101.82600000000001,
          106.415
         ],
         "yaxis": "y"
        },
        {
         "hovertemplate": "Driver=HAM<br>Laps=%{x}<br>Lap Time (s)=%{y}<extra></extra>",
         "legendgroup": "HAM",
         "line": {
          "color": "#00d2be",
          "dash": "solid"
         },
         "marker": {
          "symbol": "circle"
         },
         "mode": "lines+markers",
         "name": "HAM",
         "orientation": "v",
         "showlegend": true,
         "type": "scatter",
         "x": [
          62,
          61,
          60,
          59,
          58,
          57,
          56,
          55,
          54,
          53,
          52,
          51,
          50,
          49,
          48,
          47,
          46,
          45,
          44,
          43,
          42,
          41,
          40,
          39,
          38,
          37,
          36,
          35,
          34,
          33,
          32,
          31,
          30,
          29,
          28,
          27,
          26,
          25,
          24,
          23,
          22,
          21,
          20,
          19,
          18,
          17,
          16,
          15,
          14,
          13,
          12,
          11,
          10,
          9,
          8,
          7,
          6,
          5,
          4,
          3,
          2,
          1
         ],
         "xaxis": "x",
         "y": [
          99.34700000000001,
          99.096,
          99.772,
          100.167,
          97.982,
          97.111,
          96.411,
          97.221,
          97.924,
          97.69800000000001,
          96.555,
          96.479,
          96.462,
          96.22000000000001,
          96.122,
          95.867,
          96.953,
          133.606,
          145.716,
          99.29100000000001,
          99.686,
          99.69800000000001,
          99.47200000000001,
          99.26400000000001,
          99.86,
          99.959,
          99.36200000000001,
          99.51,
          99.545,
          100.62,
          99.186,
          99.32000000000001,
          99.14200000000001,
          99.52000000000001,
          99.679,
          99.226,
          99.95400000000001,
          100.44200000000001,
          100.95700000000001,
          103.08000000000001,
          146.23100000000002,
          181.82600000000002,
          121.81500000000001,
          99.394,
          100.364,
          100.38000000000001,
          100.78500000000001,
          100.394,
          100.27300000000001,
          100.081,
          100.218,
          100.241,
          100.144,
          100.31200000000001,
          100.16600000000001,
          99.918,
          100.126,
          100.97800000000001,
          102.861,
          101.08800000000001,
          102.587,
          105.02300000000001
         ],
         "yaxis": "y"
        }
       ],
       "layout": {
        "height": 600,
        "legend": {
         "title": {
          "text": "Driver"
         },
         "tracegroupgap": 0
        },
        "template": {
         "data": {
          "bar": [
           {
            "error_x": {
             "color": "#f2f5fa"
            },
            "error_y": {
             "color": "#f2f5fa"
            },
            "marker": {
             "line": {
              "color": "rgb(17,17,17)",
              "width": 0.5
             },
             "pattern": {
              "fillmode": "overlay",
              "size": 10,
              "solidity": 0.2
             }
            },
            "type": "bar"
           }
          ],
          "barpolar": [
           {
            "marker": {
             "line": {
              "color": "rgb(17,17,17)",
              "width": 0.5
             },
             "pattern": {
              "fillmode": "overlay",
              "size": 10,
              "solidity": 0.2
             }
            },
            "type": "barpolar"
           }
          ],
          "carpet": [
           {
            "aaxis": {
             "endlinecolor": "#A2B1C6",
             "gridcolor": "#506784",
             "linecolor": "#506784",
             "minorgridcolor": "#506784",
             "startlinecolor": "#A2B1C6"
            },
            "baxis": {
             "endlinecolor": "#A2B1C6",
             "gridcolor": "#506784",
             "linecolor": "#506784",
             "minorgridcolor": "#506784",
             "startlinecolor": "#A2B1C6"
            },
            "type": "carpet"
           }
          ],
          "choropleth": [
           {
            "colorbar": {
             "outlinewidth": 0,
             "ticks": ""
            },
            "type": "choropleth"
           }
          ],
          "contour": [
           {
            "colorbar": {
             "outlinewidth": 0,
             "ticks": ""
            },
            "colorscale": [
             [
              0,
              "#0d0887"
             ],
             [
              0.1111111111111111,
              "#46039f"
             ],
             [
              0.2222222222222222,
              "#7201a8"
             ],
             [
              0.3333333333333333,
              "#9c179e"
             ],
             [
              0.4444444444444444,
              "#bd3786"
             ],
             [
              0.5555555555555556,
              "#d8576b"
             ],
             [
              0.6666666666666666,
              "#ed7953"
             ],
             [
              0.7777777777777778,
              "#fb9f3a"
             ],
             [
              0.8888888888888888,
              "#fdca26"
             ],
             [
              1,
              "#f0f921"
             ]
            ],
            "type": "contour"
           }
          ],
          "contourcarpet": [
           {
            "colorbar": {
             "outlinewidth": 0,
             "ticks": ""
            },
            "type": "contourcarpet"
           }
          ],
          "heatmap": [
           {
            "colorbar": {
             "outlinewidth": 0,
             "ticks": ""
            },
            "colorscale": [
             [
              0,
              "#0d0887"
             ],
             [
              0.1111111111111111,
              "#46039f"
             ],
             [
              0.2222222222222222,
              "#7201a8"
             ],
             [
              0.3333333333333333,
              "#9c179e"
             ],
             [
              0.4444444444444444,
              "#bd3786"
             ],
             [
              0.5555555555555556,
              "#d8576b"
             ],
             [
              0.6666666666666666,
              "#ed7953"
             ],
             [
              0.7777777777777778,
              "#fb9f3a"
             ],
             [
              0.8888888888888888,
              "#fdca26"
             ],
             [
              1,
              "#f0f921"
             ]
            ],
            "type": "heatmap"
           }
          ],
          "heatmapgl": [
           {
            "colorbar": {
             "outlinewidth": 0,
             "ticks": ""
            },
            "colorscale": [
             [
              0,
              "#0d0887"
             ],
             [
              0.1111111111111111,
              "#46039f"
             ],
             [
              0.2222222222222222,
              "#7201a8"
             ],
             [
              0.3333333333333333,
              "#9c179e"
             ],
             [
              0.4444444444444444,
              "#bd3786"
             ],
             [
              0.5555555555555556,
              "#d8576b"
             ],
             [
              0.6666666666666666,
              "#ed7953"
             ],
             [
              0.7777777777777778,
              "#fb9f3a"
             ],
             [
              0.8888888888888888,
              "#fdca26"
             ],
             [
              1,
              "#f0f921"
             ]
            ],
            "type": "heatmapgl"
           }
          ],
          "histogram": [
           {
            "marker": {
             "pattern": {
              "fillmode": "overlay",
              "size": 10,
              "solidity": 0.2
             }
            },
            "type": "histogram"
           }
          ],
          "histogram2d": [
           {
            "colorbar": {
             "outlinewidth": 0,
             "ticks": ""
            },
            "colorscale": [
             [
              0,
              "#0d0887"
             ],
             [
              0.1111111111111111,
              "#46039f"
             ],
             [
              0.2222222222222222,
              "#7201a8"
             ],
             [
              0.3333333333333333,
              "#9c179e"
             ],
             [
              0.4444444444444444,
              "#bd3786"
             ],
             [
              0.5555555555555556,
              "#d8576b"
             ],
             [
              0.6666666666666666,
              "#ed7953"
             ],
             [
              0.7777777777777778,
              "#fb9f3a"
             ],
             [
              0.8888888888888888,
              "#fdca26"
             ],
             [
              1,
              "#f0f921"
             ]
            ],
            "type": "histogram2d"
           }
          ],
          "histogram2dcontour": [
           {
            "colorbar": {
             "outlinewidth": 0,
             "ticks": ""
            },
            "colorscale": [
             [
              0,
              "#0d0887"
             ],
             [
              0.1111111111111111,
              "#46039f"
             ],
             [
              0.2222222222222222,
              "#7201a8"
             ],
             [
              0.3333333333333333,
              "#9c179e"
             ],
             [
              0.4444444444444444,
              "#bd3786"
             ],
             [
              0.5555555555555556,
              "#d8576b"
             ],
             [
              0.6666666666666666,
              "#ed7953"
             ],
             [
              0.7777777777777778,
              "#fb9f3a"
             ],
             [
              0.8888888888888888,
              "#fdca26"
             ],
             [
              1,
              "#f0f921"
             ]
            ],
            "type": "histogram2dcontour"
           }
          ],
          "mesh3d": [
           {
            "colorbar": {
             "outlinewidth": 0,
             "ticks": ""
            },
            "type": "mesh3d"
           }
          ],
          "parcoords": [
           {
            "line": {
             "colorbar": {
              "outlinewidth": 0,
              "ticks": ""
             }
            },
            "type": "parcoords"
           }
          ],
          "pie": [
           {
            "automargin": true,
            "type": "pie"
           }
          ],
          "scatter": [
           {
            "marker": {
             "line": {
              "color": "#283442"
             }
            },
            "type": "scatter"
           }
          ],
          "scatter3d": [
           {
            "line": {
             "colorbar": {
              "outlinewidth": 0,
              "ticks": ""
             }
            },
            "marker": {
             "colorbar": {
              "outlinewidth": 0,
              "ticks": ""
             }
            },
            "type": "scatter3d"
           }
          ],
          "scattercarpet": [
           {
            "marker": {
             "colorbar": {
              "outlinewidth": 0,
              "ticks": ""
             }
            },
            "type": "scattercarpet"
           }
          ],
          "scattergeo": [
           {
            "marker": {
             "colorbar": {
              "outlinewidth": 0,
              "ticks": ""
             }
            },
            "type": "scattergeo"
           }
          ],
          "scattergl": [
           {
            "marker": {
             "line": {
              "color": "#283442"
             }
            },
            "type": "scattergl"
           }
          ],
          "scattermapbox": [
           {
            "marker": {
             "colorbar": {
              "outlinewidth": 0,
              "ticks": ""
             }
            },
            "type": "scattermapbox"
           }
          ],
          "scatterpolar": [
           {
            "marker": {
             "colorbar": {
              "outlinewidth": 0,
              "ticks": ""
             }
            },
            "type": "scatterpolar"
           }
          ],
          "scatterpolargl": [
           {
            "marker": {
             "colorbar": {
              "outlinewidth": 0,
              "ticks": ""
             }
            },
            "type": "scatterpolargl"
           }
          ],
          "scatterternary": [
           {
            "marker": {
             "colorbar": {
              "outlinewidth": 0,
              "ticks": ""
             }
            },
            "type": "scatterternary"
           }
          ],
          "surface": [
           {
            "colorbar": {
             "outlinewidth": 0,
             "ticks": ""
            },
            "colorscale": [
             [
              0,
              "#0d0887"
             ],
             [
              0.1111111111111111,
              "#46039f"
             ],
             [
              0.2222222222222222,
              "#7201a8"
             ],
             [
              0.3333333333333333,
              "#9c179e"
             ],
             [
              0.4444444444444444,
              "#bd3786"
             ],
             [
              0.5555555555555556,
              "#d8576b"
             ],
             [
              0.6666666666666666,
              "#ed7953"
             ],
             [
              0.7777777777777778,
              "#fb9f3a"
             ],
             [
              0.8888888888888888,
              "#fdca26"
             ],
             [
              1,
              "#f0f921"
             ]
            ],
            "type": "surface"
           }
          ],
          "table": [
           {
            "cells": {
             "fill": {
              "color": "#506784"
             },
             "line": {
              "color": "rgb(17,17,17)"
             }
            },
            "header": {
             "fill": {
              "color": "#2a3f5f"
             },
             "line": {
              "color": "rgb(17,17,17)"
             }
            },
            "type": "table"
           }
          ]
         },
         "layout": {
          "annotationdefaults": {
           "arrowcolor": "#f2f5fa",
           "arrowhead": 0,
           "arrowwidth": 1
          },
          "autotypenumbers": "strict",
          "coloraxis": {
           "colorbar": {
            "outlinewidth": 0,
            "ticks": ""
           }
          },
          "colorscale": {
           "diverging": [
            [
             0,
             "#8e0152"
            ],
            [
             0.1,
             "#c51b7d"
            ],
            [
             0.2,
             "#de77ae"
            ],
            [
             0.3,
             "#f1b6da"
            ],
            [
             0.4,
             "#fde0ef"
            ],
            [
             0.5,
             "#f7f7f7"
            ],
            [
             0.6,
             "#e6f5d0"
            ],
            [
             0.7,
             "#b8e186"
            ],
            [
             0.8,
             "#7fbc41"
            ],
            [
             0.9,
             "#4d9221"
            ],
            [
             1,
             "#276419"
            ]
           ],
           "sequential": [
            [
             0,
             "#0d0887"
            ],
            [
             0.1111111111111111,
             "#46039f"
            ],
            [
             0.2222222222222222,
             "#7201a8"
            ],
            [
             0.3333333333333333,
             "#9c179e"
            ],
            [
             0.4444444444444444,
             "#bd3786"
            ],
            [
             0.5555555555555556,
             "#d8576b"
            ],
            [
             0.6666666666666666,
             "#ed7953"
            ],
            [
             0.7777777777777778,
             "#fb9f3a"
            ],
            [
             0.8888888888888888,
             "#fdca26"
            ],
            [
             1,
             "#f0f921"
            ]
           ],
           "sequentialminus": [
            [
             0,
             "#0d0887"
            ],
            [
             0.1111111111111111,
             "#46039f"
            ],
            [
             0.2222222222222222,
             "#7201a8"
            ],
            [
             0.3333333333333333,
             "#9c179e"
            ],
            [
             0.4444444444444444,
             "#bd3786"
            ],
            [
             0.5555555555555556,
             "#d8576b"
            ],
            [
             0.6666666666666666,
             "#ed7953"
            ],
            [
             0.7777777777777778,
             "#fb9f3a"
            ],
            [
             0.8888888888888888,
             "#fdca26"
            ],
            [
             1,
             "#f0f921"
            ]
           ]
          },
          "colorway": [
           "#636efa",
           "#EF553B",
           "#00cc96",
           "#ab63fa",
           "#FFA15A",
           "#19d3f3",
           "#FF6692",
           "#B6E880",
           "#FF97FF",
           "#FECB52"
          ],
          "font": {
           "color": "#f2f5fa"
          },
          "geo": {
           "bgcolor": "rgb(17,17,17)",
           "lakecolor": "rgb(17,17,17)",
           "landcolor": "rgb(17,17,17)",
           "showlakes": true,
           "showland": true,
           "subunitcolor": "#506784"
          },
          "hoverlabel": {
           "align": "left"
          },
          "hovermode": "closest",
          "mapbox": {
           "style": "dark"
          },
          "paper_bgcolor": "rgb(17,17,17)",
          "plot_bgcolor": "rgb(17,17,17)",
          "polar": {
           "angularaxis": {
            "gridcolor": "#506784",
            "linecolor": "#506784",
            "ticks": ""
           },
           "bgcolor": "rgb(17,17,17)",
           "radialaxis": {
            "gridcolor": "#506784",
            "linecolor": "#506784",
            "ticks": ""
           }
          },
          "scene": {
           "xaxis": {
            "backgroundcolor": "rgb(17,17,17)",
            "gridcolor": "#506784",
            "gridwidth": 2,
            "linecolor": "#506784",
            "showbackground": true,
            "ticks": "",
            "zerolinecolor": "#C8D4E3"
           },
           "yaxis": {
            "backgroundcolor": "rgb(17,17,17)",
            "gridcolor": "#506784",
            "gridwidth": 2,
            "linecolor": "#506784",
            "showbackground": true,
            "ticks": "",
            "zerolinecolor": "#C8D4E3"
           },
           "zaxis": {
            "backgroundcolor": "rgb(17,17,17)",
            "gridcolor": "#506784",
            "gridwidth": 2,
            "linecolor": "#506784",
            "showbackground": true,
            "ticks": "",
            "zerolinecolor": "#C8D4E3"
           }
          },
          "shapedefaults": {
           "line": {
            "color": "#f2f5fa"
           }
          },
          "sliderdefaults": {
           "bgcolor": "#C8D4E3",
           "bordercolor": "rgb(17,17,17)",
           "borderwidth": 1,
           "tickwidth": 0
          },
          "ternary": {
           "aaxis": {
            "gridcolor": "#506784",
            "linecolor": "#506784",
            "ticks": ""
           },
           "baxis": {
            "gridcolor": "#506784",
            "linecolor": "#506784",
            "ticks": ""
           },
           "bgcolor": "rgb(17,17,17)",
           "caxis": {
            "gridcolor": "#506784",
            "linecolor": "#506784",
            "ticks": ""
           }
          },
          "title": {
           "x": 0.05
          },
          "updatemenudefaults": {
           "bgcolor": "#506784",
           "borderwidth": 0
          },
          "xaxis": {
           "automargin": true,
           "gridcolor": "#283442",
           "linecolor": "#506784",
           "ticks": "",
           "title": {
            "standoff": 15
           },
           "zerolinecolor": "#283442",
           "zerolinewidth": 2
          },
          "yaxis": {
           "automargin": true,
           "gridcolor": "#283442",
           "linecolor": "#506784",
           "ticks": "",
           "title": {
            "standoff": 15
           },
           "zerolinecolor": "#283442",
           "zerolinewidth": 2
          }
         }
        },
        "title": {
         "text": "Lap Time of Top 3 Drivers across Race - Singapore 2023"
        },
        "width": 2000,
        "xaxis": {
         "anchor": "y",
         "domain": [
          0,
          1
         ],
         "title": {
          "text": "Laps"
         }
        },
        "yaxis": {
         "anchor": "x",
         "domain": [
          0,
          1
         ],
         "range": [
          95.367,
          104.795
         ],
         "title": {
          "text": "Lap Time (s)"
         }
        }
       }
      }
     },
     "metadata": {},
     "output_type": "display_data"
    }
   ],
   "source": [
    "color_discrete_map = {driver: color for driver, color in driver_color.items() if driver in df_top3['Driver'].unique()}\n",
    "\n",
    "fig = px.line(df_top3, x='LapNumber', y='LapTime', color='Driver',\n",
    "              title='Lap Time of Top 3 Drivers across Race - Singapore 2023',\n",
    "              labels={'LapTime': 'Lap Time (s)', 'LapNumber': 'Laps', 'Driver': 'Driver'},\n",
    "              color_discrete_map=color_discrete_map,\n",
    "              template=\"plotly_dark\",\n",
    "              markers=True) # Adds markers to the line plot for each data point\n",
    "\n",
    "fig.update_yaxes(range=[min(df_top3['LapTime'])-0.5, df_top3['LapTime'].median()+5])\n",
    "fig.update_layout(width=2000, height=600)\n",
    "\n",
    "fig.show()\n"
   ]
  },
  {
   "cell_type": "markdown",
   "id": "8eb8508a",
   "metadata": {},
   "source": [
    "#### Observation 2:\n",
    "Race pace of HAM on new Medium tyres is significantly faster than those of NOR and SAI on used Hard tyres between Laps 45 to 57. This has allowed HAM to close the gap to SAI. Yet, we see that there is a bunching up of lap times from Lap 58 onwards despite HAM being on faster Medium tyres. This suggests that race pace is not the sole factor in deciding the win, with defensive strategy in play by SAI to prevent HAM from overtaking.\n",
    "\n",
    "Additionally, the race pace of the Top 3 is at least a second faster than the rest of the pack - thus lap time distribution when accounting for the three drivers will be skewed."
   ]
  },
  {
   "cell_type": "markdown",
   "id": "bbcf2893",
   "metadata": {},
   "source": [
    "## 2. Analysis of Lap Time Distribution by Tyre Strategy"
   ]
  },
  {
   "cell_type": "markdown",
   "id": "0c39b46f",
   "metadata": {},
   "source": [
    "#### Tyre strategy of each driver"
   ]
  },
  {
   "cell_type": "code",
   "execution_count": 11,
   "id": "f173c70a",
   "metadata": {},
   "outputs": [],
   "source": [
    "# fig, ax = plt.subplots(figsize=(20, 10))\n",
    "# plt.title('Tyre Strategy \\n'+\"Singapore 2023\",  fontsize=30)\n",
    "# plt.xlabel('Laps')\n",
    "# plt.grid(False)\n",
    "\n",
    "# Tyre Stint\n",
    "compound_color = {key: value for key,value in fastf1.plotting.COMPOUND_COLORS.items()}\n",
    "tyre_stint = df.groupby(['Driver','Stint','Compound','FreshTyre']).agg({'LapNumber': 'min', 'TyreLife': 'count'}).reset_index()\n",
    "\n",
    "for drv in list(race.results.Abbreviation)[::-1]:\n",
    "    driver_stints = tyre_stint[tyre_stint['Driver']== drv]\n",
    "\n",
    "    # for idx, row in driver_stints.iterrows():\n",
    "    #     plt.barh(\n",
    "    #         y=drv,\n",
    "    #         width=row[\"TyreLife\"],\n",
    "    #         left=row['LapNumber']-1,\n",
    "    #         color=compound_color[row.Compound],\n",
    "    #         edgecolor=\"black\",\n",
    "    #         fill=True,\n",
    "    #         alpha = 0.4 if not row.FreshTyre else 1,\n",
    "    #         label = row.Compound\n",
    "    #     )\n",
    "\n",
    "    #     if not row['LapNumber'] == 1.0:\n",
    "    #         plt.text(row['LapNumber']-1.25, drv, round(row['LapNumber']-1), fontweight='extra bold', backgroundcolor='black', color = 'white')\n",
    "\n",
    "    # plt.text(df.LapNumber.max()+1, drv, driver_stints['TyreLife'].sum(), fontweight='extra bold', backgroundcolor='black', color = 'white')"
   ]
  },
  {
   "cell_type": "code",
   "execution_count": 12,
   "id": "6e1cb027",
   "metadata": {},
   "outputs": [
    {
     "data": {
      "application/vnd.plotly.v1+json": {
       "config": {
        "plotlyServerURL": "https://plot.ly"
       },
       "data": [
        {
         "base": 0,
         "legendgroup": "SOFT",
         "marker": {
          "color": "#da291c"
         },
         "name": "SOFT",
         "opacity": 1,
         "orientation": "h",
         "showlegend": false,
         "type": "bar",
         "x": [
          1
         ],
         "y": [
          "TSU"
         ]
        },
        {
         "base": 0,
         "legendgroup": "MEDIUM",
         "marker": {
          "color": "#ffd12e"
         },
         "name": "MEDIUM",
         "opacity": 1,
         "orientation": "h",
         "showlegend": false,
         "type": "bar",
         "x": [
          20
         ],
         "y": [
          "OCO"
         ]
        },
        {
         "base": 20,
         "legendgroup": "HARD",
         "marker": {
          "color": "#f0f0ec"
         },
         "name": "HARD",
         "opacity": 1,
         "orientation": "h",
         "showlegend": false,
         "type": "bar",
         "x": [
          23
         ],
         "y": [
          "OCO"
         ]
        },
        {
         "base": 0,
         "legendgroup": "HARD",
         "marker": {
          "color": "#f0f0ec"
         },
         "name": "HARD",
         "opacity": 1,
         "orientation": "h",
         "showlegend": false,
         "type": "bar",
         "x": [
          40
         ],
         "y": [
          "BOT"
         ]
        },
        {
         "base": 40,
         "legendgroup": "MEDIUM",
         "marker": {
          "color": "#ffd12e"
         },
         "name": "MEDIUM",
         "opacity": 1,
         "orientation": "h",
         "showlegend": false,
         "type": "bar",
         "x": [
          12
         ],
         "y": [
          "BOT"
         ]
        },
        {
         "base": 0,
         "legendgroup": "MEDIUM",
         "marker": {
          "color": "#ffd12e"
         },
         "name": "MEDIUM",
         "opacity": 1,
         "orientation": "h",
         "showlegend": false,
         "type": "bar",
         "x": [
          20
         ],
         "y": [
          "RUS"
         ]
        },
        {
         "base": 20,
         "legendgroup": "HARD",
         "marker": {
          "color": "#f0f0ec"
         },
         "name": "HARD",
         "opacity": 1,
         "orientation": "h",
         "showlegend": false,
         "type": "bar",
         "x": [
          24
         ],
         "y": [
          "RUS"
         ]
        },
        {
         "base": 44,
         "legendgroup": "MEDIUM",
         "marker": {
          "color": "#ffd12e"
         },
         "name": "MEDIUM",
         "opacity": 1,
         "orientation": "h",
         "showlegend": false,
         "type": "bar",
         "x": [
          18
         ],
         "y": [
          "RUS"
         ]
        },
        {
         "base": 0,
         "legendgroup": "MEDIUM",
         "marker": {
          "color": "#ffd12e"
         },
         "name": "MEDIUM",
         "opacity": 1,
         "orientation": "h",
         "showlegend": false,
         "type": "bar",
         "x": [
          20
         ],
         "y": [
          "ALO"
         ]
        },
        {
         "base": 20,
         "legendgroup": "HARD",
         "marker": {
          "color": "#f0f0ec"
         },
         "name": "HARD",
         "opacity": 1,
         "orientation": "h",
         "showlegend": false,
         "type": "bar",
         "x": [
          24
         ],
         "y": [
          "ALO"
         ]
        },
        {
         "base": 44,
         "legendgroup": "SOFT",
         "marker": {
          "color": "#da291c"
         },
         "name": "SOFT",
         "opacity": 0.4,
         "orientation": "h",
         "showlegend": false,
         "type": "bar",
         "x": [
          18
         ],
         "y": [
          "ALO"
         ]
        },
        {
         "base": 0,
         "legendgroup": "MEDIUM",
         "marker": {
          "color": "#ffd12e"
         },
         "name": "MEDIUM",
         "opacity": 1,
         "orientation": "h",
         "showlegend": false,
         "type": "bar",
         "x": [
          19
         ],
         "y": [
          "SAR"
         ]
        },
        {
         "base": 19,
         "legendgroup": "HARD",
         "marker": {
          "color": "#f0f0ec"
         },
         "name": "HARD",
         "opacity": 1,
         "orientation": "h",
         "showlegend": false,
         "type": "bar",
         "x": [
          24
         ],
         "y": [
          "SAR"
         ]
        },
        {
         "base": 43,
         "legendgroup": "MEDIUM",
         "marker": {
          "color": "#ffd12e"
         },
         "name": "MEDIUM",
         "opacity": 1,
         "orientation": "h",
         "showlegend": false,
         "type": "bar",
         "x": [
          19
         ],
         "y": [
          "SAR"
         ]
        },
        {
         "base": 0,
         "legendgroup": "MEDIUM",
         "marker": {
          "color": "#ffd12e"
         },
         "name": "MEDIUM",
         "opacity": 1,
         "orientation": "h",
         "showlegend": false,
         "type": "bar",
         "x": [
          20
         ],
         "y": [
          "HUL"
         ]
        },
        {
         "base": 20,
         "legendgroup": "HARD",
         "marker": {
          "color": "#f0f0ec"
         },
         "name": "HARD",
         "opacity": 1,
         "orientation": "h",
         "showlegend": false,
         "type": "bar",
         "x": [
          42
         ],
         "y": [
          "HUL"
         ]
        },
        {
         "base": 0,
         "legendgroup": "SOFT",
         "marker": {
          "color": "#da291c"
         },
         "name": "SOFT",
         "opacity": 1,
         "orientation": "h",
         "showlegend": false,
         "type": "bar",
         "x": [
          2
         ],
         "y": [
          "ZHO"
         ]
        },
        {
         "base": 2,
         "legendgroup": "HARD",
         "marker": {
          "color": "#f0f0ec"
         },
         "name": "HARD",
         "opacity": 1,
         "orientation": "h",
         "showlegend": false,
         "type": "bar",
         "x": [
          18
         ],
         "y": [
          "ZHO"
         ]
        },
        {
         "base": 20,
         "legendgroup": "MEDIUM",
         "marker": {
          "color": "#ffd12e"
         },
         "name": "MEDIUM",
         "opacity": 1,
         "orientation": "h",
         "showlegend": false,
         "type": "bar",
         "x": [
          42
         ],
         "y": [
          "ZHO"
         ]
        },
        {
         "base": 0,
         "legendgroup": "MEDIUM",
         "marker": {
          "color": "#ffd12e"
         },
         "name": "MEDIUM",
         "opacity": 1,
         "orientation": "h",
         "showlegend": false,
         "type": "bar",
         "x": [
          20
         ],
         "y": [
          "ALB"
         ]
        },
        {
         "base": 20,
         "legendgroup": "HARD",
         "marker": {
          "color": "#f0f0ec"
         },
         "name": "HARD",
         "opacity": 1,
         "orientation": "h",
         "showlegend": false,
         "type": "bar",
         "x": [
          23
         ],
         "y": [
          "ALB"
         ]
        },
        {
         "base": 43,
         "legendgroup": "MEDIUM",
         "marker": {
          "color": "#ffd12e"
         },
         "name": "MEDIUM",
         "opacity": 1,
         "orientation": "h",
         "showlegend": false,
         "type": "bar",
         "x": [
          19
         ],
         "y": [
          "ALB"
         ]
        },
        {
         "base": 0,
         "legendgroup": "MEDIUM",
         "marker": {
          "color": "#ffd12e"
         },
         "name": "MEDIUM",
         "opacity": 1,
         "orientation": "h",
         "showlegend": false,
         "type": "bar",
         "x": [
          20
         ],
         "y": [
          "MAG"
         ]
        },
        {
         "base": 20,
         "legendgroup": "HARD",
         "marker": {
          "color": "#f0f0ec"
         },
         "name": "HARD",
         "opacity": 1,
         "orientation": "h",
         "showlegend": false,
         "type": "bar",
         "x": [
          23
         ],
         "y": [
          "MAG"
         ]
        },
        {
         "base": 43,
         "legendgroup": "SOFT",
         "marker": {
          "color": "#da291c"
         },
         "name": "SOFT",
         "opacity": 0.4,
         "orientation": "h",
         "showlegend": false,
         "type": "bar",
         "x": [
          19
         ],
         "y": [
          "MAG"
         ]
        },
        {
         "base": 0,
         "legendgroup": "MEDIUM",
         "marker": {
          "color": "#ffd12e"
         },
         "name": "MEDIUM",
         "opacity": 1,
         "orientation": "h",
         "showlegend": false,
         "type": "bar",
         "x": [
          20
         ],
         "y": [
          "LAW"
         ]
        },
        {
         "base": 20,
         "legendgroup": "HARD",
         "marker": {
          "color": "#f0f0ec"
         },
         "name": "HARD",
         "opacity": 1,
         "orientation": "h",
         "showlegend": false,
         "type": "bar",
         "x": [
          42
         ],
         "y": [
          "LAW"
         ]
        },
        {
         "base": 0,
         "legendgroup": "HARD",
         "marker": {
          "color": "#f0f0ec"
         },
         "name": "HARD",
         "opacity": 1,
         "orientation": "h",
         "showlegend": false,
         "type": "bar",
         "x": [
          39
         ],
         "y": [
          "PER"
         ]
        },
        {
         "base": 39,
         "legendgroup": "MEDIUM",
         "marker": {
          "color": "#ffd12e"
         },
         "name": "MEDIUM",
         "opacity": 1,
         "orientation": "h",
         "showlegend": false,
         "type": "bar",
         "x": [
          23
         ],
         "y": [
          "PER"
         ]
        },
        {
         "base": 0,
         "legendgroup": "MEDIUM",
         "marker": {
          "color": "#ffd12e"
         },
         "name": "MEDIUM",
         "opacity": 0.4,
         "orientation": "h",
         "showlegend": false,
         "type": "bar",
         "x": [
          20
         ],
         "y": [
          "PIA"
         ]
        },
        {
         "base": 20,
         "legendgroup": "HARD",
         "marker": {
          "color": "#f0f0ec"
         },
         "name": "HARD",
         "opacity": 1,
         "orientation": "h",
         "showlegend": false,
         "type": "bar",
         "x": [
          42
         ],
         "y": [
          "PIA"
         ]
        },
        {
         "base": 0,
         "legendgroup": "MEDIUM",
         "marker": {
          "color": "#ffd12e"
         },
         "name": "MEDIUM",
         "opacity": 1,
         "orientation": "h",
         "showlegend": false,
         "type": "bar",
         "x": [
          20
         ],
         "y": [
          "GAS"
         ]
        },
        {
         "base": 20,
         "legendgroup": "HARD",
         "marker": {
          "color": "#f0f0ec"
         },
         "name": "HARD",
         "opacity": 1,
         "orientation": "h",
         "showlegend": false,
         "type": "bar",
         "x": [
          42
         ],
         "y": [
          "GAS"
         ]
        },
        {
         "base": 0,
         "legendgroup": "HARD",
         "marker": {
          "color": "#f0f0ec"
         },
         "name": "HARD",
         "opacity": 1,
         "orientation": "h",
         "showlegend": false,
         "type": "bar",
         "x": [
          40
         ],
         "y": [
          "VER"
         ]
        },
        {
         "base": 40,
         "legendgroup": "MEDIUM",
         "marker": {
          "color": "#ffd12e"
         },
         "name": "MEDIUM",
         "opacity": 1,
         "orientation": "h",
         "showlegend": false,
         "type": "bar",
         "x": [
          22
         ],
         "y": [
          "VER"
         ]
        },
        {
         "base": 0,
         "legendgroup": "SOFT",
         "marker": {
          "color": "#da291c"
         },
         "name": "SOFT",
         "opacity": 0.4,
         "orientation": "h",
         "showlegend": false,
         "type": "bar",
         "x": [
          20
         ],
         "y": [
          "LEC"
         ]
        },
        {
         "base": 20,
         "legendgroup": "HARD",
         "marker": {
          "color": "#f0f0ec"
         },
         "name": "HARD",
         "opacity": 1,
         "orientation": "h",
         "showlegend": false,
         "type": "bar",
         "x": [
          42
         ],
         "y": [
          "LEC"
         ]
        },
        {
         "base": 0,
         "legendgroup": "MEDIUM",
         "marker": {
          "color": "#ffd12e"
         },
         "name": "MEDIUM",
         "opacity": 1,
         "orientation": "h",
         "showlegend": false,
         "type": "bar",
         "x": [
          20
         ],
         "y": [
          "HAM"
         ]
        },
        {
         "base": 20,
         "legendgroup": "HARD",
         "marker": {
          "color": "#f0f0ec"
         },
         "name": "HARD",
         "opacity": 1,
         "orientation": "h",
         "showlegend": false,
         "type": "bar",
         "x": [
          24
         ],
         "y": [
          "HAM"
         ]
        },
        {
         "base": 44,
         "legendgroup": "MEDIUM",
         "marker": {
          "color": "#ffd12e"
         },
         "name": "MEDIUM",
         "opacity": 1,
         "orientation": "h",
         "showlegend": false,
         "type": "bar",
         "x": [
          18
         ],
         "y": [
          "HAM"
         ]
        },
        {
         "base": 0,
         "legendgroup": "MEDIUM",
         "marker": {
          "color": "#ffd12e"
         },
         "name": "MEDIUM",
         "opacity": 1,
         "orientation": "h",
         "showlegend": false,
         "type": "bar",
         "x": [
          20
         ],
         "y": [
          "NOR"
         ]
        },
        {
         "base": 20,
         "legendgroup": "HARD",
         "marker": {
          "color": "#f0f0ec"
         },
         "name": "HARD",
         "opacity": 1,
         "orientation": "h",
         "showlegend": false,
         "type": "bar",
         "x": [
          42
         ],
         "y": [
          "NOR"
         ]
        },
        {
         "base": 0,
         "legendgroup": "MEDIUM",
         "marker": {
          "color": "#ffd12e"
         },
         "name": "MEDIUM",
         "opacity": 1,
         "orientation": "h",
         "showlegend": false,
         "type": "bar",
         "x": [
          20
         ],
         "y": [
          "SAI"
         ]
        },
        {
         "base": 20,
         "legendgroup": "HARD",
         "marker": {
          "color": "#f0f0ec"
         },
         "name": "HARD",
         "opacity": 1,
         "orientation": "h",
         "showlegend": false,
         "type": "bar",
         "x": [
          42
         ],
         "y": [
          "SAI"
         ]
        }
       ],
       "layout": {
        "annotations": [
         {
          "bgcolor": "black",
          "font": {
           "color": "white",
           "size": 10
          },
          "showarrow": false,
          "text": "0",
          "x": 63,
          "y": "STR"
         },
         {
          "bgcolor": "black",
          "font": {
           "color": "white",
           "size": 10
          },
          "showarrow": false,
          "text": "1",
          "x": 63,
          "y": "TSU"
         },
         {
          "bgcolor": "black",
          "font": {
           "color": "white",
           "size": 10
          },
          "showarrow": false,
          "text": "20",
          "x": 19.75,
          "y": "OCO"
         },
         {
          "bgcolor": "black",
          "font": {
           "color": "white",
           "size": 10
          },
          "showarrow": false,
          "text": "43",
          "x": 63,
          "y": "OCO"
         },
         {
          "bgcolor": "black",
          "font": {
           "color": "white",
           "size": 10
          },
          "showarrow": false,
          "text": "40",
          "x": 39.75,
          "y": "BOT"
         },
         {
          "bgcolor": "black",
          "font": {
           "color": "white",
           "size": 10
          },
          "showarrow": false,
          "text": "52",
          "x": 63,
          "y": "BOT"
         },
         {
          "bgcolor": "black",
          "font": {
           "color": "white",
           "size": 10
          },
          "showarrow": false,
          "text": "20",
          "x": 19.75,
          "y": "RUS"
         },
         {
          "bgcolor": "black",
          "font": {
           "color": "white",
           "size": 10
          },
          "showarrow": false,
          "text": "44",
          "x": 43.75,
          "y": "RUS"
         },
         {
          "bgcolor": "black",
          "font": {
           "color": "white",
           "size": 10
          },
          "showarrow": false,
          "text": "62",
          "x": 63,
          "y": "RUS"
         },
         {
          "bgcolor": "black",
          "font": {
           "color": "white",
           "size": 10
          },
          "showarrow": false,
          "text": "20",
          "x": 19.75,
          "y": "ALO"
         },
         {
          "bgcolor": "black",
          "font": {
           "color": "white",
           "size": 10
          },
          "showarrow": false,
          "text": "44",
          "x": 43.75,
          "y": "ALO"
         },
         {
          "bgcolor": "black",
          "font": {
           "color": "white",
           "size": 10
          },
          "showarrow": false,
          "text": "62",
          "x": 63,
          "y": "ALO"
         },
         {
          "bgcolor": "black",
          "font": {
           "color": "white",
           "size": 10
          },
          "showarrow": false,
          "text": "19",
          "x": 18.75,
          "y": "SAR"
         },
         {
          "bgcolor": "black",
          "font": {
           "color": "white",
           "size": 10
          },
          "showarrow": false,
          "text": "43",
          "x": 42.75,
          "y": "SAR"
         },
         {
          "bgcolor": "black",
          "font": {
           "color": "white",
           "size": 10
          },
          "showarrow": false,
          "text": "62",
          "x": 63,
          "y": "SAR"
         },
         {
          "bgcolor": "black",
          "font": {
           "color": "white",
           "size": 10
          },
          "showarrow": false,
          "text": "20",
          "x": 19.75,
          "y": "HUL"
         },
         {
          "bgcolor": "black",
          "font": {
           "color": "white",
           "size": 10
          },
          "showarrow": false,
          "text": "62",
          "x": 63,
          "y": "HUL"
         },
         {
          "bgcolor": "black",
          "font": {
           "color": "white",
           "size": 10
          },
          "showarrow": false,
          "text": "2",
          "x": 1.75,
          "y": "ZHO"
         },
         {
          "bgcolor": "black",
          "font": {
           "color": "white",
           "size": 10
          },
          "showarrow": false,
          "text": "20",
          "x": 19.75,
          "y": "ZHO"
         },
         {
          "bgcolor": "black",
          "font": {
           "color": "white",
           "size": 10
          },
          "showarrow": false,
          "text": "62",
          "x": 63,
          "y": "ZHO"
         },
         {
          "bgcolor": "black",
          "font": {
           "color": "white",
           "size": 10
          },
          "showarrow": false,
          "text": "20",
          "x": 19.75,
          "y": "ALB"
         },
         {
          "bgcolor": "black",
          "font": {
           "color": "white",
           "size": 10
          },
          "showarrow": false,
          "text": "43",
          "x": 42.75,
          "y": "ALB"
         },
         {
          "bgcolor": "black",
          "font": {
           "color": "white",
           "size": 10
          },
          "showarrow": false,
          "text": "62",
          "x": 63,
          "y": "ALB"
         },
         {
          "bgcolor": "black",
          "font": {
           "color": "white",
           "size": 10
          },
          "showarrow": false,
          "text": "20",
          "x": 19.75,
          "y": "MAG"
         },
         {
          "bgcolor": "black",
          "font": {
           "color": "white",
           "size": 10
          },
          "showarrow": false,
          "text": "43",
          "x": 42.75,
          "y": "MAG"
         },
         {
          "bgcolor": "black",
          "font": {
           "color": "white",
           "size": 10
          },
          "showarrow": false,
          "text": "62",
          "x": 63,
          "y": "MAG"
         },
         {
          "bgcolor": "black",
          "font": {
           "color": "white",
           "size": 10
          },
          "showarrow": false,
          "text": "20",
          "x": 19.75,
          "y": "LAW"
         },
         {
          "bgcolor": "black",
          "font": {
           "color": "white",
           "size": 10
          },
          "showarrow": false,
          "text": "62",
          "x": 63,
          "y": "LAW"
         },
         {
          "bgcolor": "black",
          "font": {
           "color": "white",
           "size": 10
          },
          "showarrow": false,
          "text": "39",
          "x": 38.75,
          "y": "PER"
         },
         {
          "bgcolor": "black",
          "font": {
           "color": "white",
           "size": 10
          },
          "showarrow": false,
          "text": "62",
          "x": 63,
          "y": "PER"
         },
         {
          "bgcolor": "black",
          "font": {
           "color": "white",
           "size": 10
          },
          "showarrow": false,
          "text": "20",
          "x": 19.75,
          "y": "PIA"
         },
         {
          "bgcolor": "black",
          "font": {
           "color": "white",
           "size": 10
          },
          "showarrow": false,
          "text": "62",
          "x": 63,
          "y": "PIA"
         },
         {
          "bgcolor": "black",
          "font": {
           "color": "white",
           "size": 10
          },
          "showarrow": false,
          "text": "20",
          "x": 19.75,
          "y": "GAS"
         },
         {
          "bgcolor": "black",
          "font": {
           "color": "white",
           "size": 10
          },
          "showarrow": false,
          "text": "62",
          "x": 63,
          "y": "GAS"
         },
         {
          "bgcolor": "black",
          "font": {
           "color": "white",
           "size": 10
          },
          "showarrow": false,
          "text": "40",
          "x": 39.75,
          "y": "VER"
         },
         {
          "bgcolor": "black",
          "font": {
           "color": "white",
           "size": 10
          },
          "showarrow": false,
          "text": "62",
          "x": 63,
          "y": "VER"
         },
         {
          "bgcolor": "black",
          "font": {
           "color": "white",
           "size": 10
          },
          "showarrow": false,
          "text": "20",
          "x": 19.75,
          "y": "LEC"
         },
         {
          "bgcolor": "black",
          "font": {
           "color": "white",
           "size": 10
          },
          "showarrow": false,
          "text": "62",
          "x": 63,
          "y": "LEC"
         },
         {
          "bgcolor": "black",
          "font": {
           "color": "white",
           "size": 10
          },
          "showarrow": false,
          "text": "20",
          "x": 19.75,
          "y": "HAM"
         },
         {
          "bgcolor": "black",
          "font": {
           "color": "white",
           "size": 10
          },
          "showarrow": false,
          "text": "44",
          "x": 43.75,
          "y": "HAM"
         },
         {
          "bgcolor": "black",
          "font": {
           "color": "white",
           "size": 10
          },
          "showarrow": false,
          "text": "62",
          "x": 63,
          "y": "HAM"
         },
         {
          "bgcolor": "black",
          "font": {
           "color": "white",
           "size": 10
          },
          "showarrow": false,
          "text": "20",
          "x": 19.75,
          "y": "NOR"
         },
         {
          "bgcolor": "black",
          "font": {
           "color": "white",
           "size": 10
          },
          "showarrow": false,
          "text": "62",
          "x": 63,
          "y": "NOR"
         },
         {
          "bgcolor": "black",
          "font": {
           "color": "white",
           "size": 10
          },
          "showarrow": false,
          "text": "20",
          "x": 19.75,
          "y": "SAI"
         },
         {
          "bgcolor": "black",
          "font": {
           "color": "white",
           "size": 10
          },
          "showarrow": false,
          "text": "62",
          "x": 63,
          "y": "SAI"
         }
        ],
        "barmode": "stack",
        "height": 600,
        "legend": {
         "title": {
          "text": "Compound"
         }
        },
        "template": {
         "data": {
          "bar": [
           {
            "error_x": {
             "color": "#f2f5fa"
            },
            "error_y": {
             "color": "#f2f5fa"
            },
            "marker": {
             "line": {
              "color": "rgb(17,17,17)",
              "width": 0.5
             },
             "pattern": {
              "fillmode": "overlay",
              "size": 10,
              "solidity": 0.2
             }
            },
            "type": "bar"
           }
          ],
          "barpolar": [
           {
            "marker": {
             "line": {
              "color": "rgb(17,17,17)",
              "width": 0.5
             },
             "pattern": {
              "fillmode": "overlay",
              "size": 10,
              "solidity": 0.2
             }
            },
            "type": "barpolar"
           }
          ],
          "carpet": [
           {
            "aaxis": {
             "endlinecolor": "#A2B1C6",
             "gridcolor": "#506784",
             "linecolor": "#506784",
             "minorgridcolor": "#506784",
             "startlinecolor": "#A2B1C6"
            },
            "baxis": {
             "endlinecolor": "#A2B1C6",
             "gridcolor": "#506784",
             "linecolor": "#506784",
             "minorgridcolor": "#506784",
             "startlinecolor": "#A2B1C6"
            },
            "type": "carpet"
           }
          ],
          "choropleth": [
           {
            "colorbar": {
             "outlinewidth": 0,
             "ticks": ""
            },
            "type": "choropleth"
           }
          ],
          "contour": [
           {
            "colorbar": {
             "outlinewidth": 0,
             "ticks": ""
            },
            "colorscale": [
             [
              0,
              "#0d0887"
             ],
             [
              0.1111111111111111,
              "#46039f"
             ],
             [
              0.2222222222222222,
              "#7201a8"
             ],
             [
              0.3333333333333333,
              "#9c179e"
             ],
             [
              0.4444444444444444,
              "#bd3786"
             ],
             [
              0.5555555555555556,
              "#d8576b"
             ],
             [
              0.6666666666666666,
              "#ed7953"
             ],
             [
              0.7777777777777778,
              "#fb9f3a"
             ],
             [
              0.8888888888888888,
              "#fdca26"
             ],
             [
              1,
              "#f0f921"
             ]
            ],
            "type": "contour"
           }
          ],
          "contourcarpet": [
           {
            "colorbar": {
             "outlinewidth": 0,
             "ticks": ""
            },
            "type": "contourcarpet"
           }
          ],
          "heatmap": [
           {
            "colorbar": {
             "outlinewidth": 0,
             "ticks": ""
            },
            "colorscale": [
             [
              0,
              "#0d0887"
             ],
             [
              0.1111111111111111,
              "#46039f"
             ],
             [
              0.2222222222222222,
              "#7201a8"
             ],
             [
              0.3333333333333333,
              "#9c179e"
             ],
             [
              0.4444444444444444,
              "#bd3786"
             ],
             [
              0.5555555555555556,
              "#d8576b"
             ],
             [
              0.6666666666666666,
              "#ed7953"
             ],
             [
              0.7777777777777778,
              "#fb9f3a"
             ],
             [
              0.8888888888888888,
              "#fdca26"
             ],
             [
              1,
              "#f0f921"
             ]
            ],
            "type": "heatmap"
           }
          ],
          "heatmapgl": [
           {
            "colorbar": {
             "outlinewidth": 0,
             "ticks": ""
            },
            "colorscale": [
             [
              0,
              "#0d0887"
             ],
             [
              0.1111111111111111,
              "#46039f"
             ],
             [
              0.2222222222222222,
              "#7201a8"
             ],
             [
              0.3333333333333333,
              "#9c179e"
             ],
             [
              0.4444444444444444,
              "#bd3786"
             ],
             [
              0.5555555555555556,
              "#d8576b"
             ],
             [
              0.6666666666666666,
              "#ed7953"
             ],
             [
              0.7777777777777778,
              "#fb9f3a"
             ],
             [
              0.8888888888888888,
              "#fdca26"
             ],
             [
              1,
              "#f0f921"
             ]
            ],
            "type": "heatmapgl"
           }
          ],
          "histogram": [
           {
            "marker": {
             "pattern": {
              "fillmode": "overlay",
              "size": 10,
              "solidity": 0.2
             }
            },
            "type": "histogram"
           }
          ],
          "histogram2d": [
           {
            "colorbar": {
             "outlinewidth": 0,
             "ticks": ""
            },
            "colorscale": [
             [
              0,
              "#0d0887"
             ],
             [
              0.1111111111111111,
              "#46039f"
             ],
             [
              0.2222222222222222,
              "#7201a8"
             ],
             [
              0.3333333333333333,
              "#9c179e"
             ],
             [
              0.4444444444444444,
              "#bd3786"
             ],
             [
              0.5555555555555556,
              "#d8576b"
             ],
             [
              0.6666666666666666,
              "#ed7953"
             ],
             [
              0.7777777777777778,
              "#fb9f3a"
             ],
             [
              0.8888888888888888,
              "#fdca26"
             ],
             [
              1,
              "#f0f921"
             ]
            ],
            "type": "histogram2d"
           }
          ],
          "histogram2dcontour": [
           {
            "colorbar": {
             "outlinewidth": 0,
             "ticks": ""
            },
            "colorscale": [
             [
              0,
              "#0d0887"
             ],
             [
              0.1111111111111111,
              "#46039f"
             ],
             [
              0.2222222222222222,
              "#7201a8"
             ],
             [
              0.3333333333333333,
              "#9c179e"
             ],
             [
              0.4444444444444444,
              "#bd3786"
             ],
             [
              0.5555555555555556,
              "#d8576b"
             ],
             [
              0.6666666666666666,
              "#ed7953"
             ],
             [
              0.7777777777777778,
              "#fb9f3a"
             ],
             [
              0.8888888888888888,
              "#fdca26"
             ],
             [
              1,
              "#f0f921"
             ]
            ],
            "type": "histogram2dcontour"
           }
          ],
          "mesh3d": [
           {
            "colorbar": {
             "outlinewidth": 0,
             "ticks": ""
            },
            "type": "mesh3d"
           }
          ],
          "parcoords": [
           {
            "line": {
             "colorbar": {
              "outlinewidth": 0,
              "ticks": ""
             }
            },
            "type": "parcoords"
           }
          ],
          "pie": [
           {
            "automargin": true,
            "type": "pie"
           }
          ],
          "scatter": [
           {
            "marker": {
             "line": {
              "color": "#283442"
             }
            },
            "type": "scatter"
           }
          ],
          "scatter3d": [
           {
            "line": {
             "colorbar": {
              "outlinewidth": 0,
              "ticks": ""
             }
            },
            "marker": {
             "colorbar": {
              "outlinewidth": 0,
              "ticks": ""
             }
            },
            "type": "scatter3d"
           }
          ],
          "scattercarpet": [
           {
            "marker": {
             "colorbar": {
              "outlinewidth": 0,
              "ticks": ""
             }
            },
            "type": "scattercarpet"
           }
          ],
          "scattergeo": [
           {
            "marker": {
             "colorbar": {
              "outlinewidth": 0,
              "ticks": ""
             }
            },
            "type": "scattergeo"
           }
          ],
          "scattergl": [
           {
            "marker": {
             "line": {
              "color": "#283442"
             }
            },
            "type": "scattergl"
           }
          ],
          "scattermapbox": [
           {
            "marker": {
             "colorbar": {
              "outlinewidth": 0,
              "ticks": ""
             }
            },
            "type": "scattermapbox"
           }
          ],
          "scatterpolar": [
           {
            "marker": {
             "colorbar": {
              "outlinewidth": 0,
              "ticks": ""
             }
            },
            "type": "scatterpolar"
           }
          ],
          "scatterpolargl": [
           {
            "marker": {
             "colorbar": {
              "outlinewidth": 0,
              "ticks": ""
             }
            },
            "type": "scatterpolargl"
           }
          ],
          "scatterternary": [
           {
            "marker": {
             "colorbar": {
              "outlinewidth": 0,
              "ticks": ""
             }
            },
            "type": "scatterternary"
           }
          ],
          "surface": [
           {
            "colorbar": {
             "outlinewidth": 0,
             "ticks": ""
            },
            "colorscale": [
             [
              0,
              "#0d0887"
             ],
             [
              0.1111111111111111,
              "#46039f"
             ],
             [
              0.2222222222222222,
              "#7201a8"
             ],
             [
              0.3333333333333333,
              "#9c179e"
             ],
             [
              0.4444444444444444,
              "#bd3786"
             ],
             [
              0.5555555555555556,
              "#d8576b"
             ],
             [
              0.6666666666666666,
              "#ed7953"
             ],
             [
              0.7777777777777778,
              "#fb9f3a"
             ],
             [
              0.8888888888888888,
              "#fdca26"
             ],
             [
              1,
              "#f0f921"
             ]
            ],
            "type": "surface"
           }
          ],
          "table": [
           {
            "cells": {
             "fill": {
              "color": "#506784"
             },
             "line": {
              "color": "rgb(17,17,17)"
             }
            },
            "header": {
             "fill": {
              "color": "#2a3f5f"
             },
             "line": {
              "color": "rgb(17,17,17)"
             }
            },
            "type": "table"
           }
          ]
         },
         "layout": {
          "annotationdefaults": {
           "arrowcolor": "#f2f5fa",
           "arrowhead": 0,
           "arrowwidth": 1
          },
          "autotypenumbers": "strict",
          "coloraxis": {
           "colorbar": {
            "outlinewidth": 0,
            "ticks": ""
           }
          },
          "colorscale": {
           "diverging": [
            [
             0,
             "#8e0152"
            ],
            [
             0.1,
             "#c51b7d"
            ],
            [
             0.2,
             "#de77ae"
            ],
            [
             0.3,
             "#f1b6da"
            ],
            [
             0.4,
             "#fde0ef"
            ],
            [
             0.5,
             "#f7f7f7"
            ],
            [
             0.6,
             "#e6f5d0"
            ],
            [
             0.7,
             "#b8e186"
            ],
            [
             0.8,
             "#7fbc41"
            ],
            [
             0.9,
             "#4d9221"
            ],
            [
             1,
             "#276419"
            ]
           ],
           "sequential": [
            [
             0,
             "#0d0887"
            ],
            [
             0.1111111111111111,
             "#46039f"
            ],
            [
             0.2222222222222222,
             "#7201a8"
            ],
            [
             0.3333333333333333,
             "#9c179e"
            ],
            [
             0.4444444444444444,
             "#bd3786"
            ],
            [
             0.5555555555555556,
             "#d8576b"
            ],
            [
             0.6666666666666666,
             "#ed7953"
            ],
            [
             0.7777777777777778,
             "#fb9f3a"
            ],
            [
             0.8888888888888888,
             "#fdca26"
            ],
            [
             1,
             "#f0f921"
            ]
           ],
           "sequentialminus": [
            [
             0,
             "#0d0887"
            ],
            [
             0.1111111111111111,
             "#46039f"
            ],
            [
             0.2222222222222222,
             "#7201a8"
            ],
            [
             0.3333333333333333,
             "#9c179e"
            ],
            [
             0.4444444444444444,
             "#bd3786"
            ],
            [
             0.5555555555555556,
             "#d8576b"
            ],
            [
             0.6666666666666666,
             "#ed7953"
            ],
            [
             0.7777777777777778,
             "#fb9f3a"
            ],
            [
             0.8888888888888888,
             "#fdca26"
            ],
            [
             1,
             "#f0f921"
            ]
           ]
          },
          "colorway": [
           "#636efa",
           "#EF553B",
           "#00cc96",
           "#ab63fa",
           "#FFA15A",
           "#19d3f3",
           "#FF6692",
           "#B6E880",
           "#FF97FF",
           "#FECB52"
          ],
          "font": {
           "color": "#f2f5fa"
          },
          "geo": {
           "bgcolor": "rgb(17,17,17)",
           "lakecolor": "rgb(17,17,17)",
           "landcolor": "rgb(17,17,17)",
           "showlakes": true,
           "showland": true,
           "subunitcolor": "#506784"
          },
          "hoverlabel": {
           "align": "left"
          },
          "hovermode": "closest",
          "mapbox": {
           "style": "dark"
          },
          "paper_bgcolor": "rgb(17,17,17)",
          "plot_bgcolor": "rgb(17,17,17)",
          "polar": {
           "angularaxis": {
            "gridcolor": "#506784",
            "linecolor": "#506784",
            "ticks": ""
           },
           "bgcolor": "rgb(17,17,17)",
           "radialaxis": {
            "gridcolor": "#506784",
            "linecolor": "#506784",
            "ticks": ""
           }
          },
          "scene": {
           "xaxis": {
            "backgroundcolor": "rgb(17,17,17)",
            "gridcolor": "#506784",
            "gridwidth": 2,
            "linecolor": "#506784",
            "showbackground": true,
            "ticks": "",
            "zerolinecolor": "#C8D4E3"
           },
           "yaxis": {
            "backgroundcolor": "rgb(17,17,17)",
            "gridcolor": "#506784",
            "gridwidth": 2,
            "linecolor": "#506784",
            "showbackground": true,
            "ticks": "",
            "zerolinecolor": "#C8D4E3"
           },
           "zaxis": {
            "backgroundcolor": "rgb(17,17,17)",
            "gridcolor": "#506784",
            "gridwidth": 2,
            "linecolor": "#506784",
            "showbackground": true,
            "ticks": "",
            "zerolinecolor": "#C8D4E3"
           }
          },
          "shapedefaults": {
           "line": {
            "color": "#f2f5fa"
           }
          },
          "sliderdefaults": {
           "bgcolor": "#C8D4E3",
           "bordercolor": "rgb(17,17,17)",
           "borderwidth": 1,
           "tickwidth": 0
          },
          "ternary": {
           "aaxis": {
            "gridcolor": "#506784",
            "linecolor": "#506784",
            "ticks": ""
           },
           "baxis": {
            "gridcolor": "#506784",
            "linecolor": "#506784",
            "ticks": ""
           },
           "bgcolor": "rgb(17,17,17)",
           "caxis": {
            "gridcolor": "#506784",
            "linecolor": "#506784",
            "ticks": ""
           }
          },
          "title": {
           "x": 0.05
          },
          "updatemenudefaults": {
           "bgcolor": "#506784",
           "borderwidth": 0
          },
          "xaxis": {
           "automargin": true,
           "gridcolor": "#283442",
           "linecolor": "#506784",
           "ticks": "",
           "title": {
            "standoff": 15
           },
           "zerolinecolor": "#283442",
           "zerolinewidth": 2
          },
          "yaxis": {
           "automargin": true,
           "gridcolor": "#283442",
           "linecolor": "#506784",
           "ticks": "",
           "title": {
            "standoff": 15
           },
           "zerolinecolor": "#283442",
           "zerolinewidth": 2
          }
         }
        },
        "title": {
         "font": {
          "size": 30
         },
         "text": "Tyre Strategy\nSingapore 2023"
        },
        "width": 1000,
        "xaxis": {
         "title": {
          "text": "Laps"
         }
        },
        "yaxis": {
         "title": {
          "text": "Driver"
         }
        }
       }
      }
     },
     "metadata": {},
     "output_type": "display_data"
    }
   ],
   "source": [
    "fig = go.Figure()\n",
    "\n",
    "# Tyre Stint\n",
    "compound_color = {key: value for key, value in fastf1.plotting.COMPOUND_COLORS.items()}\n",
    "tyre_stint = df.groupby(['Driver', 'Stint', 'Compound', 'FreshTyre']).agg({'LapNumber': 'min', 'TyreLife': 'count'}).reset_index()\n",
    "\n",
    "# List of drivers\n",
    "drivers = list(race.results.Abbreviation)[::-1]\n",
    "\n",
    "for drv in drivers:\n",
    "    driver_stints = tyre_stint[tyre_stint['Driver'] == drv]\n",
    "\n",
    "    # Loop through each stint of the driver\n",
    "    for idx, row in driver_stints.iterrows():\n",
    "        # Add bar trace for each stint\n",
    "        fig.add_trace(go.Bar(\n",
    "            y=[drv],\n",
    "            x=[row[\"TyreLife\"]],\n",
    "            orientation='h',\n",
    "            base=row['LapNumber'] - 1,\n",
    "            marker=dict(color=compound_color[row.Compound]),\n",
    "            opacity=0.4 if not row.FreshTyre else 1,\n",
    "            name=row.Compound,\n",
    "            legendgroup=row.Compound,  # Group bars by Compound for legend\n",
    "            showlegend=False  # Only show one legend entry for each Compound\n",
    "        ))\n",
    "\n",
    "        # Add annotation for lap number\n",
    "        if not row['LapNumber'] == 1.0:\n",
    "            fig.add_annotation(\n",
    "                x=row['LapNumber'] - 1.25,\n",
    "                y=drv,\n",
    "                text=str(round(row['LapNumber'] - 1)),\n",
    "                font=dict(color='white', size=10),\n",
    "                showarrow=False,\n",
    "                bgcolor='black'\n",
    "            )\n",
    "\n",
    "    # Add annotation for total tyre life\n",
    "    fig.add_annotation(\n",
    "        x=df.LapNumber.max() + 1,\n",
    "        y=drv,\n",
    "        text=str(driver_stints['TyreLife'].sum()),\n",
    "        font=dict(color='white', size=10),\n",
    "        showarrow=False,\n",
    "        bgcolor='black'\n",
    "    )\n",
    "\n",
    "fig.update_layout(\n",
    "    title='Tyre Strategy\\nSingapore 2023',\n",
    "    title_font_size=30,\n",
    "    xaxis_title='Laps',\n",
    "    yaxis=dict(title='Driver'),  \n",
    "    legend_title_text='Compound',\n",
    "    # plot_bgcolor='white',  \n",
    "    barmode='stack',  # Stack bars horizontally\n",
    "    height=600,\n",
    "    width=1000,\n",
    "    template=\"plotly_dark\"\n",
    ")\n",
    "\n",
    "fig.show()"
   ]
  },
  {
   "cell_type": "markdown",
   "id": "4ce49a7e",
   "metadata": {},
   "source": [
    "#### Lap time distribution of each tyre compound"
   ]
  },
  {
   "cell_type": "code",
   "execution_count": 13,
   "id": "1e513591",
   "metadata": {},
   "outputs": [],
   "source": [
    "# # Lap Time distribution by tyre compound\n",
    "# compound_color = {key: value for key,value in fastf1.plotting.COMPOUND_COLORS.items()}\n",
    "\n",
    "# # Plot box whisker plots for lap time distribution of each driver\n",
    "# plt.figure(figsize=(20,10))\n",
    "# sns.boxplot(data = df, x = df.Compound, y=df.LapTime, palette=compound_color)\n",
    "\n",
    "# plt.ylim(min(df.LapTime)-0.5, df.LapTime.median()+10)\n",
    "# plt.ylabel('Lap Time (s)')\n",
    "# plt.title('Lap Time Distribution for each Tyre Compound in Singapore 2023',  fontsize=20)\n",
    "# plt.show()"
   ]
  },
  {
   "cell_type": "code",
   "execution_count": 14,
   "id": "145f03c2",
   "metadata": {},
   "outputs": [
    {
     "data": {
      "application/vnd.plotly.v1+json": {
       "config": {
        "plotlyServerURL": "https://plot.ly"
       },
       "data": [
        {
         "alignmentgroup": "True",
         "hovertemplate": "Compound=%{x}<br>LapTime=%{y}<extra></extra>",
         "legendgroup": "HARD",
         "marker": {
          "color": "#f0f0ec"
         },
         "name": "HARD",
         "notched": false,
         "offsetgroup": "HARD",
         "orientation": "v",
         "showlegend": true,
         "type": "box",
         "x": [
          "HARD",
          "HARD",
          "HARD",
          "HARD",
          "HARD",
          "HARD",
          "HARD",
          "HARD",
          "HARD",
          "HARD",
          "HARD",
          "HARD",
          "HARD",
          "HARD",
          "HARD",
          "HARD",
          "HARD",
          "HARD",
          "HARD",
          "HARD",
          "HARD",
          "HARD",
          "HARD",
          "HARD",
          "HARD",
          "HARD",
          "HARD",
          "HARD",
          "HARD",
          "HARD",
          "HARD",
          "HARD",
          "HARD",
          "HARD",
          "HARD",
          "HARD",
          "HARD",
          "HARD",
          "HARD",
          "HARD",
          "HARD",
          "HARD",
          "HARD",
          "HARD",
          "HARD",
          "HARD",
          "HARD",
          "HARD",
          "HARD",
          "HARD",
          "HARD",
          "HARD",
          "HARD",
          "HARD",
          "HARD",
          "HARD",
          "HARD",
          "HARD",
          "HARD",
          "HARD",
          "HARD",
          "HARD",
          "HARD",
          "HARD",
          "HARD",
          "HARD",
          "HARD",
          "HARD",
          "HARD",
          "HARD",
          "HARD",
          "HARD",
          "HARD",
          "HARD",
          "HARD",
          "HARD",
          "HARD",
          "HARD",
          "HARD",
          "HARD",
          "HARD",
          "HARD",
          "HARD",
          "HARD",
          "HARD",
          "HARD",
          "HARD",
          "HARD",
          "HARD",
          "HARD",
          "HARD",
          "HARD",
          "HARD",
          "HARD",
          "HARD",
          "HARD",
          "HARD",
          "HARD",
          "HARD",
          "HARD",
          "HARD",
          "HARD",
          "HARD",
          "HARD",
          "HARD",
          "HARD",
          "HARD",
          "HARD",
          "HARD",
          "HARD",
          "HARD",
          "HARD",
          "HARD",
          "HARD",
          "HARD",
          "HARD",
          "HARD",
          "HARD",
          "HARD",
          "HARD",
          "HARD",
          "HARD",
          "HARD",
          "HARD",
          "HARD",
          "HARD",
          "HARD",
          "HARD",
          "HARD",
          "HARD",
          "HARD",
          "HARD",
          "HARD",
          "HARD",
          "HARD",
          "HARD",
          "HARD",
          "HARD",
          "HARD",
          "HARD",
          "HARD",
          "HARD",
          "HARD",
          "HARD",
          "HARD",
          "HARD",
          "HARD",
          "HARD",
          "HARD",
          "HARD",
          "HARD",
          "HARD",
          "HARD",
          "HARD",
          "HARD",
          "HARD",
          "HARD",
          "HARD",
          "HARD",
          "HARD",
          "HARD",
          "HARD",
          "HARD",
          "HARD",
          "HARD",
          "HARD",
          "HARD",
          "HARD",
          "HARD",
          "HARD",
          "HARD",
          "HARD",
          "HARD",
          "HARD",
          "HARD",
          "HARD",
          "HARD",
          "HARD",
          "HARD",
          "HARD",
          "HARD",
          "HARD",
          "HARD",
          "HARD",
          "HARD",
          "HARD",
          "HARD",
          "HARD",
          "HARD",
          "HARD",
          "HARD",
          "HARD",
          "HARD",
          "HARD",
          "HARD",
          "HARD",
          "HARD",
          "HARD",
          "HARD",
          "HARD",
          "HARD",
          "HARD",
          "HARD",
          "HARD",
          "HARD",
          "HARD",
          "HARD",
          "HARD",
          "HARD",
          "HARD",
          "HARD",
          "HARD",
          "HARD",
          "HARD",
          "HARD",
          "HARD",
          "HARD",
          "HARD",
          "HARD",
          "HARD",
          "HARD",
          "HARD",
          "HARD",
          "HARD",
          "HARD",
          "HARD",
          "HARD",
          "HARD",
          "HARD",
          "HARD",
          "HARD",
          "HARD",
          "HARD",
          "HARD",
          "HARD",
          "HARD",
          "HARD",
          "HARD",
          "HARD",
          "HARD",
          "HARD",
          "HARD",
          "HARD",
          "HARD",
          "HARD",
          "HARD",
          "HARD",
          "HARD",
          "HARD",
          "HARD",
          "HARD",
          "HARD",
          "HARD",
          "HARD",
          "HARD",
          "HARD",
          "HARD",
          "HARD",
          "HARD",
          "HARD",
          "HARD",
          "HARD",
          "HARD",
          "HARD",
          "HARD",
          "HARD",
          "HARD",
          "HARD",
          "HARD",
          "HARD",
          "HARD",
          "HARD",
          "HARD",
          "HARD",
          "HARD",
          "HARD",
          "HARD",
          "HARD",
          "HARD",
          "HARD",
          "HARD",
          "HARD",
          "HARD",
          "HARD",
          "HARD",
          "HARD",
          "HARD",
          "HARD",
          "HARD",
          "HARD",
          "HARD",
          "HARD",
          "HARD",
          "HARD",
          "HARD",
          "HARD",
          "HARD",
          "HARD",
          "HARD",
          "HARD",
          "HARD",
          "HARD",
          "HARD",
          "HARD",
          "HARD",
          "HARD",
          "HARD",
          "HARD",
          "HARD",
          "HARD",
          "HARD",
          "HARD",
          "HARD",
          "HARD",
          "HARD",
          "HARD",
          "HARD",
          "HARD",
          "HARD",
          "HARD",
          "HARD",
          "HARD",
          "HARD",
          "HARD",
          "HARD",
          "HARD",
          "HARD",
          "HARD",
          "HARD",
          "HARD",
          "HARD",
          "HARD",
          "HARD",
          "HARD",
          "HARD",
          "HARD",
          "HARD",
          "HARD",
          "HARD",
          "HARD",
          "HARD",
          "HARD",
          "HARD",
          "HARD",
          "HARD",
          "HARD",
          "HARD",
          "HARD",
          "HARD",
          "HARD",
          "HARD",
          "HARD",
          "HARD",
          "HARD",
          "HARD",
          "HARD",
          "HARD",
          "HARD",
          "HARD",
          "HARD",
          "HARD",
          "HARD",
          "HARD",
          "HARD",
          "HARD",
          "HARD",
          "HARD",
          "HARD",
          "HARD",
          "HARD",
          "HARD",
          "HARD",
          "HARD",
          "HARD",
          "HARD",
          "HARD",
          "HARD",
          "HARD",
          "HARD",
          "HARD",
          "HARD",
          "HARD",
          "HARD",
          "HARD",
          "HARD",
          "HARD",
          "HARD",
          "HARD",
          "HARD",
          "HARD",
          "HARD",
          "HARD",
          "HARD",
          "HARD",
          "HARD",
          "HARD",
          "HARD",
          "HARD",
          "HARD",
          "HARD",
          "HARD",
          "HARD",
          "HARD",
          "HARD",
          "HARD",
          "HARD",
          "HARD",
          "HARD",
          "HARD",
          "HARD",
          "HARD",
          "HARD",
          "HARD",
          "HARD",
          "HARD",
          "HARD",
          "HARD",
          "HARD",
          "HARD",
          "HARD",
          "HARD",
          "HARD",
          "HARD",
          "HARD",
          "HARD",
          "HARD",
          "HARD",
          "HARD",
          "HARD",
          "HARD",
          "HARD",
          "HARD",
          "HARD",
          "HARD",
          "HARD",
          "HARD",
          "HARD",
          "HARD",
          "HARD",
          "HARD",
          "HARD",
          "HARD",
          "HARD",
          "HARD",
          "HARD",
          "HARD",
          "HARD",
          "HARD",
          "HARD",
          "HARD",
          "HARD",
          "HARD",
          "HARD",
          "HARD",
          "HARD",
          "HARD",
          "HARD",
          "HARD",
          "HARD",
          "HARD",
          "HARD",
          "HARD",
          "HARD",
          "HARD",
          "HARD",
          "HARD",
          "HARD",
          "HARD",
          "HARD",
          "HARD",
          "HARD",
          "HARD",
          "HARD",
          "HARD",
          "HARD",
          "HARD",
          "HARD",
          "HARD",
          "HARD",
          "HARD",
          "HARD",
          "HARD",
          "HARD",
          "HARD",
          "HARD",
          "HARD",
          "HARD",
          "HARD",
          "HARD",
          "HARD",
          "HARD",
          "HARD",
          "HARD",
          "HARD",
          "HARD",
          "HARD",
          "HARD",
          "HARD",
          "HARD",
          "HARD",
          "HARD",
          "HARD",
          "HARD",
          "HARD",
          "HARD",
          "HARD",
          "HARD",
          "HARD",
          "HARD",
          "HARD",
          "HARD",
          "HARD",
          "HARD",
          "HARD",
          "HARD",
          "HARD",
          "HARD",
          "HARD",
          "HARD",
          "HARD",
          "HARD",
          "HARD",
          "HARD",
          "HARD",
          "HARD",
          "HARD",
          "HARD",
          "HARD",
          "HARD",
          "HARD",
          "HARD",
          "HARD",
          "HARD",
          "HARD",
          "HARD",
          "HARD",
          "HARD",
          "HARD",
          "HARD",
          "HARD",
          "HARD",
          "HARD",
          "HARD",
          "HARD",
          "HARD",
          "HARD",
          "HARD",
          "HARD",
          "HARD",
          "HARD",
          "HARD",
          "HARD",
          "HARD",
          "HARD",
          "HARD",
          "HARD",
          "HARD",
          "HARD",
          "HARD",
          "HARD",
          "HARD",
          "HARD",
          "HARD",
          "HARD",
          "HARD",
          "HARD",
          "HARD",
          "HARD",
          "HARD",
          "HARD",
          "HARD",
          "HARD",
          "HARD",
          "HARD",
          "HARD",
          "HARD",
          "HARD",
          "HARD",
          "HARD",
          "HARD",
          "HARD",
          "HARD",
          "HARD",
          "HARD",
          "HARD",
          "HARD",
          "HARD",
          "HARD",
          "HARD",
          "HARD",
          "HARD",
          "HARD",
          "HARD",
          "HARD",
          "HARD",
          "HARD"
         ],
         "x0": " ",
         "xaxis": "x",
         "y": [
          99.95800000000001,
          99.677,
          100.94600000000001,
          102.27300000000001,
          101.41000000000001,
          102.328,
          103.72800000000001,
          99.292,
          99.51,
          100.61500000000001,
          99.71100000000001,
          99.616,
          101.007,
          103.503,
          100.042,
          99.396,
          100.105,
          99.62,
          99.18900000000001,
          103.08900000000001,
          104.766,
          99.575,
          100.41600000000001,
          100.545,
          99.709,
          99.42800000000001,
          101.91000000000001,
          101.53800000000001,
          99.337,
          99.16000000000001,
          100.22200000000001,
          99.658,
          99.516,
          101.423,
          102.177,
          98.909,
          98.617,
          100.043,
          100.87400000000001,
          99.14,
          101.69800000000001,
          101.41000000000001,
          98.52000000000001,
          98.47300000000001,
          100.298,
          99.292,
          99.141,
          99.962,
          101.28500000000001,
          98.54100000000001,
          98.492,
          100.617,
          99.373,
          100.108,
          99.80300000000001,
          101.16000000000001,
          98.70700000000001,
          98.423,
          101.831,
          98.84400000000001,
          100.546,
          99.884,
          101.918,
          98.32700000000001,
          98.39200000000001,
          100.21300000000001,
          98.718,
          98.77300000000001,
          99.99600000000001,
          103.808,
          98.218,
          98.25,
          98.84800000000001,
          98.75500000000001,
          98.793,
          99.95,
          100.94600000000001,
          98.04,
          98.12400000000001,
          98.80300000000001,
          98.525,
          98.656,
          100.801,
          100.729,
          98.637,
          98.14800000000001,
          98.43900000000001,
          98.688,
          98.83200000000001,
          101.093,
          99.923,
          98.221,
          98.173,
          98.453,
          98.634,
          99.00800000000001,
          99.783,
          100.65,
          98.2,
          98.049,
          98.49600000000001,
          98.548,
          98.647,
          99.38600000000001,
          100.789,
          97.66600000000001,
          98.15700000000001,
          98.403,
          98.56800000000001,
          98.88900000000001,
          99.028,
          99.971,
          97.91300000000001,
          98.046,
          98.275,
          98.277,
          98.492,
          99.132,
          100.00500000000001,
          121.32400000000001,
          120.748,
          120.846,
          111.23800000000001,
          112.685,
          110.881,
          111.986,
          138.57000000000002,
          138.86,
          138.447,
          144.887,
          145.716,
          137.976,
          136.298,
          138.52800000000002,
          144.76000000000002,
          136.65300000000002,
          99.248,
          99.482,
          99.56,
          99.29100000000001,
          99.99600000000001,
          110.179,
          110.49100000000001,
          112.35600000000001,
          111.885,
          113.224,
          120.929,
          126.00200000000001,
          128.40800000000002,
          null,
          99.93900000000001,
          99.84500000000001,
          99.60600000000001,
          99.686,
          99.888,
          99.995,
          100.146,
          99.83500000000001,
          99.783,
          100.18100000000001,
          100.52300000000001,
          100.637,
          100.956,
          100.602,
          99.798,
          99.80300000000001,
          99.662,
          99.69800000000001,
          99.36800000000001,
          100.06400000000001,
          100.18,
          99.93400000000001,
          99.982,
          100.31500000000001,
          100.68700000000001,
          100.57900000000001,
          101.307,
          100.29700000000001,
          99.393,
          99.322,
          99.346,
          99.47200000000001,
          99.557,
          108.808,
          99.93100000000001,
          100.15400000000001,
          99.885,
          100.299,
          101.182,
          101.257,
          100.935,
          101.757,
          110.10100000000001,
          100.28,
          99.253,
          99.16900000000001,
          99.271,
          99.26400000000001,
          99.44800000000001,
          101.173,
          100.875,
          102.06200000000001,
          102.86,
          102.986,
          101.84500000000001,
          102.01,
          101.24600000000001,
          113.087,
          101.93400000000001,
          102.05900000000001,
          100.134,
          99.519,
          99.635,
          99.72000000000001,
          99.86,
          99.94600000000001,
          100.61,
          101.32100000000001,
          101.319,
          101.20800000000001,
          101.26100000000001,
          100.858,
          101.10600000000001,
          101.051,
          100.837,
          101.59100000000001,
          102.28200000000001,
          99.87700000000001,
          99.884,
          99.77600000000001,
          99.83800000000001,
          99.959,
          99.63900000000001,
          100.224,
          103.171,
          102.599,
          104.09400000000001,
          100.50800000000001,
          100.36800000000001,
          100.79700000000001,
          100.482,
          101.028,
          102.352,
          102.375,
          99.75200000000001,
          99.54400000000001,
          99.474,
          99.462,
          99.36200000000001,
          99.44300000000001,
          100.372,
          101.489,
          101.265,
          101.21100000000001,
          99.965,
          100.587,
          101.10000000000001,
          101.128,
          101.94000000000001,
          108.13000000000001,
          101.628,
          99.878,
          99.97000000000001,
          99.986,
          99.70100000000001,
          99.51,
          99.747,
          100.266,
          100.32600000000001,
          100.626,
          100.54100000000001,
          102.61200000000001,
          102.563,
          102.20400000000001,
          102.14800000000001,
          101.622,
          101.06500000000001,
          100.808,
          99.76400000000001,
          100.025,
          99.96100000000001,
          100.06,
          99.545,
          99.518,
          100.378,
          100.822,
          100.578,
          100.30300000000001,
          101.29100000000001,
          101.32100000000001,
          101.59800000000001,
          100.953,
          100.644,
          100.55000000000001,
          101.08800000000001,
          99.799,
          99.235,
          99.34800000000001,
          99.66300000000001,
          100.62,
          99.485,
          100.087,
          100.355,
          99.63600000000001,
          99.93,
          100.096,
          100.15400000000001,
          100.23700000000001,
          100.334,
          100.694,
          100.772,
          101.06,
          99.763,
          99.18400000000001,
          99.319,
          99.29100000000001,
          99.186,
          99.391,
          100.033,
          100.254,
          100.39,
          100.36200000000001,
          100.46400000000001,
          100.406,
          100.104,
          100.055,
          101.03800000000001,
          100.542,
          101.162,
          99.807,
          99.63300000000001,
          99.45800000000001,
          99.367,
          99.32000000000001,
          99.433,
          100.247,
          100.20500000000001,
          100.049,
          100.043,
          100.03,
          99.974,
          100.033,
          100.44000000000001,
          100.07600000000001,
          100.98100000000001,
          100.90700000000001,
          99.69000000000001,
          100.21700000000001,
          100.06700000000001,
          99.736,
          99.14200000000001,
          99.20800000000001,
          100.32600000000001,
          100.319,
          100.128,
          100.04,
          100.224,
          100.28,
          100.55300000000001,
          100.99900000000001,
          100.69200000000001,
          100.46900000000001,
          101.369,
          99.90400000000001,
          100.22500000000001,
          100.41300000000001,
          100.09700000000001,
          99.52000000000001,
          99.683,
          100.43700000000001,
          100.29,
          101.292,
          101.534,
          101.56500000000001,
          101.706,
          101.74900000000001,
          101.515,
          101.57000000000001,
          101.45500000000001,
          101.47800000000001,
          99.748,
          101.23,
          101.18100000000001,
          100.26700000000001,
          99.679,
          99.56200000000001,
          101.43100000000001,
          101.83300000000001,
          101.93100000000001,
          101.75500000000001,
          101.57900000000001,
          101.536,
          101.47000000000001,
          101.5,
          101.78,
          101.44200000000001,
          101.28800000000001,
          99.97200000000001,
          99.83500000000001,
          100.20500000000001,
          99.406,
          99.226,
          101.18,
          99.899,
          100.5,
          100.185,
          100.376,
          100.48100000000001,
          100.396,
          100.52900000000001,
          100.23100000000001,
          100.42500000000001,
          101.30900000000001,
          101.28800000000001,
          99.88900000000001,
          99.185,
          99.173,
          99.48400000000001,
          100.244,
          99.95400000000001,
          99.89200000000001,
          100.59500000000001,
          100.896,
          100.885,
          100.85100000000001,
          100.92,
          100.802,
          100.971,
          100.93,
          100.927,
          101.366,
          100.33800000000001,
          99.72600000000001,
          99.56,
          100.24000000000001,
          100.7,
          100.44200000000001,
          99.748,
          101.53200000000001,
          100.68900000000001,
          100.89500000000001,
          101.10900000000001,
          101.048,
          101.272,
          101.399,
          101.165,
          100.96100000000001,
          101.759,
          100.30000000000001,
          99.792,
          99.501,
          100.32000000000001,
          101.971,
          100.95700000000001,
          102.735,
          102.668,
          103.137,
          103.09100000000001,
          102.343,
          102.40700000000001,
          102.238,
          102.29400000000001,
          103.04400000000001,
          103.087,
          106.415,
          100.39,
          102.423,
          102.34100000000001,
          103.346,
          102.789,
          104.19500000000001,
          103.08000000000001,
          103.95500000000001,
          103.29100000000001,
          103.254,
          103.438,
          103.34400000000001,
          103.549,
          105.486,
          103.52300000000001,
          103.093,
          103.117,
          99.85600000000001,
          150.809,
          149.966,
          149.33700000000002,
          148.562,
          148.267,
          147.929,
          146.23100000000002,
          145.198,
          143.293,
          142.499,
          141.983,
          140.73000000000002,
          138.79000000000002,
          137.71300000000002,
          136.853,
          135.18200000000002,
          100.354,
          188.571,
          172.08200000000002,
          181.24900000000002,
          162.64100000000002,
          181.311,
          184.76600000000002,
          181.82600000000002,
          177.262,
          176.33800000000002,
          158.073,
          171.598,
          169.697,
          167.764,
          172.02800000000002,
          175.88000000000002,
          172.288,
          135.091,
          118.29400000000001,
          121.114,
          124.66000000000001,
          136.69400000000002,
          null,
          100.74600000000001,
          101.40400000000001,
          101.786,
          101.68400000000001,
          100.46400000000001,
          101.07700000000001,
          100.90400000000001,
          100.58200000000001,
          100.48100000000001,
          100.98700000000001,
          100.80900000000001,
          100.424,
          100.39,
          100.688,
          100.92500000000001,
          100.42500000000001,
          100.206,
          100.53800000000001,
          100.793,
          100.46300000000001,
          100.63300000000001,
          100.31400000000001,
          100.95500000000001,
          100.83300000000001,
          100.69300000000001,
          100.843,
          101.194,
          100.397,
          100.602,
          100.715,
          101.063,
          100.316,
          100.423,
          100.69300000000001,
          101.376,
          100.534,
          100.408,
          100.643,
          101.23,
          100.566,
          100.26400000000001,
          100.694,
          101.30300000000001,
          100.555,
          100.177,
          100.55600000000001,
          102.153,
          101.24000000000001,
          100.423,
          101.35300000000001,
          102.397,
          100.58800000000001,
          101.313,
          103.147,
          101.27000000000001,
          100.471,
          101.308,
          101.331,
          101.757,
          100.37100000000001,
          101.143,
          101.35400000000001,
          101.766,
          99.869,
          101.51,
          101.622,
          103.036,
          122.71600000000001,
          101.596,
          102.009,
          102.182,
          109.82700000000001,
          111.58900000000001,
          114.71400000000001
         ],
         "y0": " ",
         "yaxis": "y"
        },
        {
         "alignmentgroup": "True",
         "hovertemplate": "Compound=%{x}<br>LapTime=%{y}<extra></extra>",
         "legendgroup": "MEDIUM",
         "marker": {
          "color": "#ffd12e"
         },
         "name": "MEDIUM",
         "notched": false,
         "offsetgroup": "MEDIUM",
         "orientation": "v",
         "showlegend": true,
         "type": "box",
         "x": [
          "MEDIUM",
          "MEDIUM",
          "MEDIUM",
          "MEDIUM",
          "MEDIUM",
          "MEDIUM",
          "MEDIUM",
          "MEDIUM",
          "MEDIUM",
          "MEDIUM",
          "MEDIUM",
          "MEDIUM",
          "MEDIUM",
          "MEDIUM",
          "MEDIUM",
          "MEDIUM",
          "MEDIUM",
          "MEDIUM",
          "MEDIUM",
          "MEDIUM",
          "MEDIUM",
          "MEDIUM",
          "MEDIUM",
          "MEDIUM",
          "MEDIUM",
          "MEDIUM",
          "MEDIUM",
          "MEDIUM",
          "MEDIUM",
          "MEDIUM",
          "MEDIUM",
          "MEDIUM",
          "MEDIUM",
          "MEDIUM",
          "MEDIUM",
          "MEDIUM",
          "MEDIUM",
          "MEDIUM",
          "MEDIUM",
          "MEDIUM",
          "MEDIUM",
          "MEDIUM",
          "MEDIUM",
          "MEDIUM",
          "MEDIUM",
          "MEDIUM",
          "MEDIUM",
          "MEDIUM",
          "MEDIUM",
          "MEDIUM",
          "MEDIUM",
          "MEDIUM",
          "MEDIUM",
          "MEDIUM",
          "MEDIUM",
          "MEDIUM",
          "MEDIUM",
          "MEDIUM",
          "MEDIUM",
          "MEDIUM",
          "MEDIUM",
          "MEDIUM",
          "MEDIUM",
          "MEDIUM",
          "MEDIUM",
          "MEDIUM",
          "MEDIUM",
          "MEDIUM",
          "MEDIUM",
          "MEDIUM",
          "MEDIUM",
          "MEDIUM",
          "MEDIUM",
          "MEDIUM",
          "MEDIUM",
          "MEDIUM",
          "MEDIUM",
          "MEDIUM",
          "MEDIUM",
          "MEDIUM",
          "MEDIUM",
          "MEDIUM",
          "MEDIUM",
          "MEDIUM",
          "MEDIUM",
          "MEDIUM",
          "MEDIUM",
          "MEDIUM",
          "MEDIUM",
          "MEDIUM",
          "MEDIUM",
          "MEDIUM",
          "MEDIUM",
          "MEDIUM",
          "MEDIUM",
          "MEDIUM",
          "MEDIUM",
          "MEDIUM",
          "MEDIUM",
          "MEDIUM",
          "MEDIUM",
          "MEDIUM",
          "MEDIUM",
          "MEDIUM",
          "MEDIUM",
          "MEDIUM",
          "MEDIUM",
          "MEDIUM",
          "MEDIUM",
          "MEDIUM",
          "MEDIUM",
          "MEDIUM",
          "MEDIUM",
          "MEDIUM",
          "MEDIUM",
          "MEDIUM",
          "MEDIUM",
          "MEDIUM",
          "MEDIUM",
          "MEDIUM",
          "MEDIUM",
          "MEDIUM",
          "MEDIUM",
          "MEDIUM",
          "MEDIUM",
          "MEDIUM",
          "MEDIUM",
          "MEDIUM",
          "MEDIUM",
          "MEDIUM",
          "MEDIUM",
          "MEDIUM",
          "MEDIUM",
          "MEDIUM",
          "MEDIUM",
          "MEDIUM",
          "MEDIUM",
          "MEDIUM",
          "MEDIUM",
          "MEDIUM",
          "MEDIUM",
          "MEDIUM",
          "MEDIUM",
          "MEDIUM",
          "MEDIUM",
          "MEDIUM",
          "MEDIUM",
          "MEDIUM",
          "MEDIUM",
          "MEDIUM",
          "MEDIUM",
          "MEDIUM",
          "MEDIUM",
          "MEDIUM",
          "MEDIUM",
          "MEDIUM",
          "MEDIUM",
          "MEDIUM",
          "MEDIUM",
          "MEDIUM",
          "MEDIUM",
          "MEDIUM",
          "MEDIUM",
          "MEDIUM",
          "MEDIUM",
          "MEDIUM",
          "MEDIUM",
          "MEDIUM",
          "MEDIUM",
          "MEDIUM",
          "MEDIUM",
          "MEDIUM",
          "MEDIUM",
          "MEDIUM",
          "MEDIUM",
          "MEDIUM",
          "MEDIUM",
          "MEDIUM",
          "MEDIUM",
          "MEDIUM",
          "MEDIUM",
          "MEDIUM",
          "MEDIUM",
          "MEDIUM",
          "MEDIUM",
          "MEDIUM",
          "MEDIUM",
          "MEDIUM",
          "MEDIUM",
          "MEDIUM",
          "MEDIUM",
          "MEDIUM",
          "MEDIUM",
          "MEDIUM",
          "MEDIUM",
          "MEDIUM",
          "MEDIUM",
          "MEDIUM",
          "MEDIUM",
          "MEDIUM",
          "MEDIUM",
          "MEDIUM",
          "MEDIUM",
          "MEDIUM",
          "MEDIUM",
          "MEDIUM",
          "MEDIUM",
          "MEDIUM",
          "MEDIUM",
          "MEDIUM",
          "MEDIUM",
          "MEDIUM",
          "MEDIUM",
          "MEDIUM",
          "MEDIUM",
          "MEDIUM",
          "MEDIUM",
          "MEDIUM",
          "MEDIUM",
          "MEDIUM",
          "MEDIUM",
          "MEDIUM",
          "MEDIUM",
          "MEDIUM",
          "MEDIUM",
          "MEDIUM",
          "MEDIUM",
          "MEDIUM",
          "MEDIUM",
          "MEDIUM",
          "MEDIUM",
          "MEDIUM",
          "MEDIUM",
          "MEDIUM",
          "MEDIUM",
          "MEDIUM",
          "MEDIUM",
          "MEDIUM",
          "MEDIUM",
          "MEDIUM",
          "MEDIUM",
          "MEDIUM",
          "MEDIUM",
          "MEDIUM",
          "MEDIUM",
          "MEDIUM",
          "MEDIUM",
          "MEDIUM",
          "MEDIUM",
          "MEDIUM",
          "MEDIUM",
          "MEDIUM",
          "MEDIUM",
          "MEDIUM",
          "MEDIUM",
          "MEDIUM",
          "MEDIUM",
          "MEDIUM",
          "MEDIUM",
          "MEDIUM",
          "MEDIUM",
          "MEDIUM",
          "MEDIUM",
          "MEDIUM",
          "MEDIUM",
          "MEDIUM",
          "MEDIUM",
          "MEDIUM",
          "MEDIUM",
          "MEDIUM",
          "MEDIUM",
          "MEDIUM",
          "MEDIUM",
          "MEDIUM",
          "MEDIUM",
          "MEDIUM",
          "MEDIUM",
          "MEDIUM",
          "MEDIUM",
          "MEDIUM",
          "MEDIUM",
          "MEDIUM",
          "MEDIUM",
          "MEDIUM",
          "MEDIUM",
          "MEDIUM",
          "MEDIUM",
          "MEDIUM",
          "MEDIUM",
          "MEDIUM",
          "MEDIUM",
          "MEDIUM",
          "MEDIUM",
          "MEDIUM",
          "MEDIUM",
          "MEDIUM",
          "MEDIUM",
          "MEDIUM",
          "MEDIUM",
          "MEDIUM",
          "MEDIUM",
          "MEDIUM",
          "MEDIUM",
          "MEDIUM",
          "MEDIUM",
          "MEDIUM",
          "MEDIUM",
          "MEDIUM",
          "MEDIUM",
          "MEDIUM",
          "MEDIUM",
          "MEDIUM",
          "MEDIUM",
          "MEDIUM",
          "MEDIUM",
          "MEDIUM",
          "MEDIUM",
          "MEDIUM",
          "MEDIUM",
          "MEDIUM",
          "MEDIUM",
          "MEDIUM",
          "MEDIUM",
          "MEDIUM",
          "MEDIUM",
          "MEDIUM",
          "MEDIUM",
          "MEDIUM",
          "MEDIUM",
          "MEDIUM",
          "MEDIUM",
          "MEDIUM",
          "MEDIUM",
          "MEDIUM",
          "MEDIUM",
          "MEDIUM",
          "MEDIUM",
          "MEDIUM",
          "MEDIUM",
          "MEDIUM",
          "MEDIUM",
          "MEDIUM",
          "MEDIUM",
          "MEDIUM",
          "MEDIUM",
          "MEDIUM",
          "MEDIUM",
          "MEDIUM",
          "MEDIUM",
          "MEDIUM",
          "MEDIUM",
          "MEDIUM",
          "MEDIUM",
          "MEDIUM",
          "MEDIUM",
          "MEDIUM",
          "MEDIUM",
          "MEDIUM",
          "MEDIUM",
          "MEDIUM",
          "MEDIUM",
          "MEDIUM",
          "MEDIUM",
          "MEDIUM",
          "MEDIUM",
          "MEDIUM",
          "MEDIUM",
          "MEDIUM",
          "MEDIUM",
          "MEDIUM",
          "MEDIUM",
          "MEDIUM",
          "MEDIUM",
          "MEDIUM",
          "MEDIUM",
          "MEDIUM",
          "MEDIUM",
          "MEDIUM",
          "MEDIUM",
          "MEDIUM",
          "MEDIUM",
          "MEDIUM",
          "MEDIUM",
          "MEDIUM",
          "MEDIUM",
          "MEDIUM",
          "MEDIUM",
          "MEDIUM",
          "MEDIUM",
          "MEDIUM",
          "MEDIUM",
          "MEDIUM",
          "MEDIUM",
          "MEDIUM",
          "MEDIUM",
          "MEDIUM",
          "MEDIUM",
          "MEDIUM",
          "MEDIUM",
          "MEDIUM",
          "MEDIUM",
          "MEDIUM",
          "MEDIUM",
          "MEDIUM",
          "MEDIUM",
          "MEDIUM",
          "MEDIUM",
          "MEDIUM",
          "MEDIUM",
          "MEDIUM",
          "MEDIUM",
          "MEDIUM",
          "MEDIUM",
          "MEDIUM",
          "MEDIUM",
          "MEDIUM",
          "MEDIUM",
          "MEDIUM",
          "MEDIUM",
          "MEDIUM",
          "MEDIUM",
          "MEDIUM",
          "MEDIUM",
          "MEDIUM",
          "MEDIUM",
          "MEDIUM",
          "MEDIUM",
          "MEDIUM",
          "MEDIUM",
          "MEDIUM",
          "MEDIUM",
          "MEDIUM"
         ],
         "x0": " ",
         "xaxis": "x",
         "y": [
          99.34700000000001,
          98.197,
          98.18900000000001,
          99.891,
          102.24600000000001,
          103.95500000000001,
          null,
          99.31400000000001,
          99.096,
          96.575,
          97.108,
          98.501,
          102.01,
          101.938,
          99.51,
          99.772,
          96.75800000000001,
          99.147,
          99.668,
          101.79400000000001,
          99.786,
          100.239,
          100.167,
          96.748,
          102.042,
          100.685,
          103.77300000000001,
          99.37400000000001,
          98.686,
          97.982,
          96.912,
          100.912,
          102.795,
          117.96400000000001,
          100.76700000000001,
          97.24600000000001,
          97.111,
          99.299,
          101.555,
          101.36500000000001,
          101.41900000000001,
          99.171,
          97.02900000000001,
          96.411,
          97.519,
          98.387,
          98.016,
          101.215,
          98.881,
          96.93700000000001,
          97.221,
          96.899,
          97.656,
          97.74600000000001,
          100.798,
          98.858,
          97.396,
          97.924,
          98.19600000000001,
          98.226,
          98.38600000000001,
          101.70800000000001,
          98.933,
          98.56700000000001,
          97.69800000000001,
          97.132,
          99.613,
          99.32000000000001,
          101.753,
          98.983,
          97.414,
          96.555,
          96.83500000000001,
          100.048,
          99.858,
          103.70800000000001,
          98.81200000000001,
          null,
          96.757,
          96.479,
          97.144,
          100.482,
          98.21300000000001,
          98.116,
          98.075,
          98.62,
          97.006,
          96.462,
          99.006,
          99.81800000000001,
          98.122,
          97.799,
          98.09200000000001,
          98.65700000000001,
          96.569,
          96.22000000000001,
          97.08500000000001,
          100.042,
          98.019,
          98.01,
          98.525,
          98.69000000000001,
          96.649,
          96.122,
          98.33300000000001,
          99.79,
          97.992,
          98.351,
          98.57300000000001,
          98.71100000000001,
          96.41900000000001,
          95.867,
          98.09,
          100.485,
          98.04700000000001,
          98.235,
          98.729,
          98.58900000000001,
          96.27300000000001,
          96.953,
          99.316,
          97.57000000000001,
          97.34200000000001,
          97.54100000000001,
          98.979,
          98.784,
          131.669,
          133.606,
          110.632,
          104.93900000000001,
          100.91900000000001,
          100.229,
          99.08000000000001,
          98.531,
          137.51600000000002,
          137.52200000000002,
          154.978,
          137.392,
          134.405,
          153.25300000000001,
          114.35700000000001,
          116.35700000000001,
          120.69000000000001,
          126.94900000000001,
          100.42500000000001,
          97.71300000000001,
          98.709,
          98.39200000000001,
          100.85300000000001,
          119.248,
          98.551,
          120.751,
          100.80600000000001,
          119.337,
          100.894,
          100.82100000000001,
          101.14800000000001,
          102.747,
          101.18900000000001,
          100.49900000000001,
          100.70800000000001,
          100.57600000000001,
          100.778,
          100.866,
          101.47600000000001,
          101.31,
          100.57000000000001,
          100.97300000000001,
          101.346,
          103.94900000000001,
          102.74900000000001,
          120.733,
          156.24,
          116.82400000000001,
          120.405,
          121.158,
          121.81500000000001,
          124.30000000000001,
          125.88700000000001,
          126.536,
          128.679,
          128.721,
          128.455,
          128.99800000000002,
          128.59900000000002,
          99.02900000000001,
          99.99600000000001,
          99.88000000000001,
          99.394,
          100.346,
          100.49000000000001,
          101.007,
          101.096,
          101.061,
          101.286,
          101.322,
          101.174,
          149.645,
          98.992,
          99.686,
          99.69300000000001,
          100.364,
          100.316,
          100.423,
          100.99300000000001,
          100.87700000000001,
          100.866,
          101.119,
          100.89500000000001,
          100.94900000000001,
          101.57000000000001,
          99.44800000000001,
          100.02900000000001,
          100.024,
          100.38000000000001,
          100.49900000000001,
          100.575,
          100.85900000000001,
          100.753,
          100.673,
          100.94000000000001,
          100.846,
          100.68900000000001,
          101.113,
          99.39800000000001,
          100.06200000000001,
          100.34200000000001,
          100.78500000000001,
          100.238,
          100.387,
          100.671,
          100.789,
          100.929,
          100.941,
          100.60000000000001,
          100.81500000000001,
          100.965,
          99.93700000000001,
          99.965,
          100.247,
          100.394,
          100.09500000000001,
          100.35300000000001,
          100.59800000000001,
          100.69300000000001,
          100.602,
          100.72800000000001,
          100.709,
          100.638,
          100.83800000000001,
          100.39800000000001,
          100.75800000000001,
          100.421,
          100.27300000000001,
          100.18,
          100.247,
          100.515,
          100.641,
          100.62700000000001,
          100.676,
          100.307,
          100.775,
          100.983,
          100.35600000000001,
          100.34400000000001,
          100.372,
          100.081,
          100.554,
          100.56200000000001,
          100.828,
          100.783,
          100.82900000000001,
          100.64200000000001,
          101.119,
          100.75500000000001,
          100.79700000000001,
          100.53,
          100.46300000000001,
          100.46600000000001,
          100.218,
          100.38300000000001,
          100.388,
          100.70500000000001,
          100.479,
          100.43900000000001,
          100.45400000000001,
          100.563,
          100.45800000000001,
          100.554,
          100.29700000000001,
          100.59500000000001,
          100.355,
          100.241,
          100.147,
          100.08500000000001,
          100.415,
          100.55900000000001,
          100.72800000000001,
          100.82400000000001,
          100.67800000000001,
          100.363,
          100.71100000000001,
          100.369,
          100.093,
          99.974,
          100.144,
          100.555,
          100.68900000000001,
          100.504,
          100.63300000000001,
          100.378,
          100.59800000000001,
          100.528,
          100.625,
          100.739,
          99.626,
          100.039,
          100.13000000000001,
          100.31200000000001,
          100.42200000000001,
          100.343,
          100.995,
          100.97800000000001,
          101.063,
          100.88600000000001,
          100.474,
          100.869,
          101.22800000000001,
          100.503,
          100.46400000000001,
          100.301,
          100.16600000000001,
          100.21000000000001,
          100.33900000000001,
          100.63000000000001,
          100.73400000000001,
          100.677,
          100.893,
          101.09100000000001,
          101.31800000000001,
          101.683,
          100.17800000000001,
          100.271,
          99.97200000000001,
          99.918,
          100.774,
          100.732,
          100.834,
          101.117,
          101.399,
          101.468,
          102.30900000000001,
          103.107,
          102.88600000000001,
          100.113,
          100.221,
          99.992,
          100.126,
          100.686,
          100.908,
          102.626,
          101.94900000000001,
          101.82900000000001,
          101.933,
          102.673,
          102.001,
          101.63600000000001,
          100.551,
          100.46400000000001,
          100.28500000000001,
          100.97800000000001,
          101.194,
          101.32900000000001,
          101.46900000000001,
          101.35000000000001,
          101.292,
          101.35100000000001,
          101.241,
          101.361,
          101.26400000000001,
          100.58000000000001,
          101.08600000000001,
          101.67800000000001,
          102.861,
          101.35600000000001,
          101.375,
          101.004,
          101.256,
          101.334,
          101.35900000000001,
          101.37,
          101.47300000000001,
          101.875,
          100.962,
          100.944,
          101.08800000000001,
          101.12400000000001,
          101.349,
          101.19600000000001,
          101.539,
          101.4,
          101.44200000000001,
          101.51400000000001,
          101.909,
          101.783,
          101.7,
          101.38300000000001,
          101.10300000000001,
          102.587,
          101.82600000000001,
          102.25500000000001,
          102.40100000000001,
          102.668,
          102.849,
          102.35300000000001,
          102.13900000000001,
          102.06,
          101.902,
          101.983,
          103.30900000000001,
          105.02300000000001,
          105.772,
          106.415,
          107.37700000000001,
          107.795,
          108.34500000000001,
          109.191,
          110.11500000000001,
          110.93400000000001,
          111.927,
          113.07700000000001,
          114.06
         ],
         "y0": " ",
         "yaxis": "y"
        },
        {
         "alignmentgroup": "True",
         "hovertemplate": "Compound=%{x}<br>LapTime=%{y}<extra></extra>",
         "legendgroup": "SOFT",
         "marker": {
          "color": "#da291c"
         },
         "name": "SOFT",
         "notched": false,
         "offsetgroup": "SOFT",
         "orientation": "v",
         "showlegend": true,
         "type": "box",
         "x": [
          "SOFT",
          "SOFT",
          "SOFT",
          "SOFT",
          "SOFT",
          "SOFT",
          "SOFT",
          "SOFT",
          "SOFT",
          "SOFT",
          "SOFT",
          "SOFT",
          "SOFT",
          "SOFT",
          "SOFT",
          "SOFT",
          "SOFT",
          "SOFT",
          "SOFT",
          "SOFT",
          "SOFT",
          "SOFT",
          "SOFT",
          "SOFT",
          "SOFT",
          "SOFT",
          "SOFT",
          "SOFT",
          "SOFT",
          "SOFT",
          "SOFT",
          "SOFT",
          "SOFT",
          "SOFT",
          "SOFT",
          "SOFT",
          "SOFT",
          "SOFT",
          "SOFT",
          "SOFT",
          "SOFT",
          "SOFT",
          "SOFT",
          "SOFT",
          "SOFT",
          "SOFT",
          "SOFT",
          "SOFT",
          "SOFT",
          "SOFT",
          "SOFT",
          "SOFT",
          "SOFT",
          "SOFT",
          "SOFT",
          "SOFT",
          "SOFT",
          "SOFT",
          "SOFT",
          "SOFT"
         ],
         "x0": " ",
         "xaxis": "x",
         "y": [
          99.418,
          104.29,
          98.44500000000001,
          101.542,
          99.69500000000001,
          98.72800000000001,
          100.39800000000001,
          98.518,
          102.141,
          98.941,
          98.95400000000001,
          98.30300000000001,
          98.56700000000001,
          98.436,
          98.29,
          98.012,
          98.495,
          98.179,
          98.69300000000001,
          98.55900000000001,
          98.40700000000001,
          97.94300000000001,
          98.215,
          98.46300000000001,
          98.28,
          98.08800000000001,
          98.367,
          98.787,
          98.107,
          99.79,
          99.742,
          96.456,
          100.988,
          113.33300000000001,
          99.787,
          146.08100000000002,
          157.11100000000002,
          121.62400000000001,
          100.236,
          99.613,
          99.80000000000001,
          99.625,
          99.613,
          101.622,
          100.15400000000001,
          100.39200000000001,
          100.403,
          100.79,
          99.646,
          100.396,
          100.27900000000001,
          100.165,
          100.328,
          100.661,
          100.75200000000001,
          101.33800000000001,
          109.96900000000001,
          null,
          104.54400000000001,
          115.057
         ],
         "y0": " ",
         "yaxis": "y"
        }
       ],
       "layout": {
        "boxmode": "overlay",
        "font": {
         "size": 18
        },
        "legend": {
         "title": {
          "text": "Compound"
         },
         "tracegroupgap": 0
        },
        "template": {
         "data": {
          "bar": [
           {
            "error_x": {
             "color": "#f2f5fa"
            },
            "error_y": {
             "color": "#f2f5fa"
            },
            "marker": {
             "line": {
              "color": "rgb(17,17,17)",
              "width": 0.5
             },
             "pattern": {
              "fillmode": "overlay",
              "size": 10,
              "solidity": 0.2
             }
            },
            "type": "bar"
           }
          ],
          "barpolar": [
           {
            "marker": {
             "line": {
              "color": "rgb(17,17,17)",
              "width": 0.5
             },
             "pattern": {
              "fillmode": "overlay",
              "size": 10,
              "solidity": 0.2
             }
            },
            "type": "barpolar"
           }
          ],
          "carpet": [
           {
            "aaxis": {
             "endlinecolor": "#A2B1C6",
             "gridcolor": "#506784",
             "linecolor": "#506784",
             "minorgridcolor": "#506784",
             "startlinecolor": "#A2B1C6"
            },
            "baxis": {
             "endlinecolor": "#A2B1C6",
             "gridcolor": "#506784",
             "linecolor": "#506784",
             "minorgridcolor": "#506784",
             "startlinecolor": "#A2B1C6"
            },
            "type": "carpet"
           }
          ],
          "choropleth": [
           {
            "colorbar": {
             "outlinewidth": 0,
             "ticks": ""
            },
            "type": "choropleth"
           }
          ],
          "contour": [
           {
            "colorbar": {
             "outlinewidth": 0,
             "ticks": ""
            },
            "colorscale": [
             [
              0,
              "#0d0887"
             ],
             [
              0.1111111111111111,
              "#46039f"
             ],
             [
              0.2222222222222222,
              "#7201a8"
             ],
             [
              0.3333333333333333,
              "#9c179e"
             ],
             [
              0.4444444444444444,
              "#bd3786"
             ],
             [
              0.5555555555555556,
              "#d8576b"
             ],
             [
              0.6666666666666666,
              "#ed7953"
             ],
             [
              0.7777777777777778,
              "#fb9f3a"
             ],
             [
              0.8888888888888888,
              "#fdca26"
             ],
             [
              1,
              "#f0f921"
             ]
            ],
            "type": "contour"
           }
          ],
          "contourcarpet": [
           {
            "colorbar": {
             "outlinewidth": 0,
             "ticks": ""
            },
            "type": "contourcarpet"
           }
          ],
          "heatmap": [
           {
            "colorbar": {
             "outlinewidth": 0,
             "ticks": ""
            },
            "colorscale": [
             [
              0,
              "#0d0887"
             ],
             [
              0.1111111111111111,
              "#46039f"
             ],
             [
              0.2222222222222222,
              "#7201a8"
             ],
             [
              0.3333333333333333,
              "#9c179e"
             ],
             [
              0.4444444444444444,
              "#bd3786"
             ],
             [
              0.5555555555555556,
              "#d8576b"
             ],
             [
              0.6666666666666666,
              "#ed7953"
             ],
             [
              0.7777777777777778,
              "#fb9f3a"
             ],
             [
              0.8888888888888888,
              "#fdca26"
             ],
             [
              1,
              "#f0f921"
             ]
            ],
            "type": "heatmap"
           }
          ],
          "heatmapgl": [
           {
            "colorbar": {
             "outlinewidth": 0,
             "ticks": ""
            },
            "colorscale": [
             [
              0,
              "#0d0887"
             ],
             [
              0.1111111111111111,
              "#46039f"
             ],
             [
              0.2222222222222222,
              "#7201a8"
             ],
             [
              0.3333333333333333,
              "#9c179e"
             ],
             [
              0.4444444444444444,
              "#bd3786"
             ],
             [
              0.5555555555555556,
              "#d8576b"
             ],
             [
              0.6666666666666666,
              "#ed7953"
             ],
             [
              0.7777777777777778,
              "#fb9f3a"
             ],
             [
              0.8888888888888888,
              "#fdca26"
             ],
             [
              1,
              "#f0f921"
             ]
            ],
            "type": "heatmapgl"
           }
          ],
          "histogram": [
           {
            "marker": {
             "pattern": {
              "fillmode": "overlay",
              "size": 10,
              "solidity": 0.2
             }
            },
            "type": "histogram"
           }
          ],
          "histogram2d": [
           {
            "colorbar": {
             "outlinewidth": 0,
             "ticks": ""
            },
            "colorscale": [
             [
              0,
              "#0d0887"
             ],
             [
              0.1111111111111111,
              "#46039f"
             ],
             [
              0.2222222222222222,
              "#7201a8"
             ],
             [
              0.3333333333333333,
              "#9c179e"
             ],
             [
              0.4444444444444444,
              "#bd3786"
             ],
             [
              0.5555555555555556,
              "#d8576b"
             ],
             [
              0.6666666666666666,
              "#ed7953"
             ],
             [
              0.7777777777777778,
              "#fb9f3a"
             ],
             [
              0.8888888888888888,
              "#fdca26"
             ],
             [
              1,
              "#f0f921"
             ]
            ],
            "type": "histogram2d"
           }
          ],
          "histogram2dcontour": [
           {
            "colorbar": {
             "outlinewidth": 0,
             "ticks": ""
            },
            "colorscale": [
             [
              0,
              "#0d0887"
             ],
             [
              0.1111111111111111,
              "#46039f"
             ],
             [
              0.2222222222222222,
              "#7201a8"
             ],
             [
              0.3333333333333333,
              "#9c179e"
             ],
             [
              0.4444444444444444,
              "#bd3786"
             ],
             [
              0.5555555555555556,
              "#d8576b"
             ],
             [
              0.6666666666666666,
              "#ed7953"
             ],
             [
              0.7777777777777778,
              "#fb9f3a"
             ],
             [
              0.8888888888888888,
              "#fdca26"
             ],
             [
              1,
              "#f0f921"
             ]
            ],
            "type": "histogram2dcontour"
           }
          ],
          "mesh3d": [
           {
            "colorbar": {
             "outlinewidth": 0,
             "ticks": ""
            },
            "type": "mesh3d"
           }
          ],
          "parcoords": [
           {
            "line": {
             "colorbar": {
              "outlinewidth": 0,
              "ticks": ""
             }
            },
            "type": "parcoords"
           }
          ],
          "pie": [
           {
            "automargin": true,
            "type": "pie"
           }
          ],
          "scatter": [
           {
            "marker": {
             "line": {
              "color": "#283442"
             }
            },
            "type": "scatter"
           }
          ],
          "scatter3d": [
           {
            "line": {
             "colorbar": {
              "outlinewidth": 0,
              "ticks": ""
             }
            },
            "marker": {
             "colorbar": {
              "outlinewidth": 0,
              "ticks": ""
             }
            },
            "type": "scatter3d"
           }
          ],
          "scattercarpet": [
           {
            "marker": {
             "colorbar": {
              "outlinewidth": 0,
              "ticks": ""
             }
            },
            "type": "scattercarpet"
           }
          ],
          "scattergeo": [
           {
            "marker": {
             "colorbar": {
              "outlinewidth": 0,
              "ticks": ""
             }
            },
            "type": "scattergeo"
           }
          ],
          "scattergl": [
           {
            "marker": {
             "line": {
              "color": "#283442"
             }
            },
            "type": "scattergl"
           }
          ],
          "scattermapbox": [
           {
            "marker": {
             "colorbar": {
              "outlinewidth": 0,
              "ticks": ""
             }
            },
            "type": "scattermapbox"
           }
          ],
          "scatterpolar": [
           {
            "marker": {
             "colorbar": {
              "outlinewidth": 0,
              "ticks": ""
             }
            },
            "type": "scatterpolar"
           }
          ],
          "scatterpolargl": [
           {
            "marker": {
             "colorbar": {
              "outlinewidth": 0,
              "ticks": ""
             }
            },
            "type": "scatterpolargl"
           }
          ],
          "scatterternary": [
           {
            "marker": {
             "colorbar": {
              "outlinewidth": 0,
              "ticks": ""
             }
            },
            "type": "scatterternary"
           }
          ],
          "surface": [
           {
            "colorbar": {
             "outlinewidth": 0,
             "ticks": ""
            },
            "colorscale": [
             [
              0,
              "#0d0887"
             ],
             [
              0.1111111111111111,
              "#46039f"
             ],
             [
              0.2222222222222222,
              "#7201a8"
             ],
             [
              0.3333333333333333,
              "#9c179e"
             ],
             [
              0.4444444444444444,
              "#bd3786"
             ],
             [
              0.5555555555555556,
              "#d8576b"
             ],
             [
              0.6666666666666666,
              "#ed7953"
             ],
             [
              0.7777777777777778,
              "#fb9f3a"
             ],
             [
              0.8888888888888888,
              "#fdca26"
             ],
             [
              1,
              "#f0f921"
             ]
            ],
            "type": "surface"
           }
          ],
          "table": [
           {
            "cells": {
             "fill": {
              "color": "#506784"
             },
             "line": {
              "color": "rgb(17,17,17)"
             }
            },
            "header": {
             "fill": {
              "color": "#2a3f5f"
             },
             "line": {
              "color": "rgb(17,17,17)"
             }
            },
            "type": "table"
           }
          ]
         },
         "layout": {
          "annotationdefaults": {
           "arrowcolor": "#f2f5fa",
           "arrowhead": 0,
           "arrowwidth": 1
          },
          "autotypenumbers": "strict",
          "coloraxis": {
           "colorbar": {
            "outlinewidth": 0,
            "ticks": ""
           }
          },
          "colorscale": {
           "diverging": [
            [
             0,
             "#8e0152"
            ],
            [
             0.1,
             "#c51b7d"
            ],
            [
             0.2,
             "#de77ae"
            ],
            [
             0.3,
             "#f1b6da"
            ],
            [
             0.4,
             "#fde0ef"
            ],
            [
             0.5,
             "#f7f7f7"
            ],
            [
             0.6,
             "#e6f5d0"
            ],
            [
             0.7,
             "#b8e186"
            ],
            [
             0.8,
             "#7fbc41"
            ],
            [
             0.9,
             "#4d9221"
            ],
            [
             1,
             "#276419"
            ]
           ],
           "sequential": [
            [
             0,
             "#0d0887"
            ],
            [
             0.1111111111111111,
             "#46039f"
            ],
            [
             0.2222222222222222,
             "#7201a8"
            ],
            [
             0.3333333333333333,
             "#9c179e"
            ],
            [
             0.4444444444444444,
             "#bd3786"
            ],
            [
             0.5555555555555556,
             "#d8576b"
            ],
            [
             0.6666666666666666,
             "#ed7953"
            ],
            [
             0.7777777777777778,
             "#fb9f3a"
            ],
            [
             0.8888888888888888,
             "#fdca26"
            ],
            [
             1,
             "#f0f921"
            ]
           ],
           "sequentialminus": [
            [
             0,
             "#0d0887"
            ],
            [
             0.1111111111111111,
             "#46039f"
            ],
            [
             0.2222222222222222,
             "#7201a8"
            ],
            [
             0.3333333333333333,
             "#9c179e"
            ],
            [
             0.4444444444444444,
             "#bd3786"
            ],
            [
             0.5555555555555556,
             "#d8576b"
            ],
            [
             0.6666666666666666,
             "#ed7953"
            ],
            [
             0.7777777777777778,
             "#fb9f3a"
            ],
            [
             0.8888888888888888,
             "#fdca26"
            ],
            [
             1,
             "#f0f921"
            ]
           ]
          },
          "colorway": [
           "#636efa",
           "#EF553B",
           "#00cc96",
           "#ab63fa",
           "#FFA15A",
           "#19d3f3",
           "#FF6692",
           "#B6E880",
           "#FF97FF",
           "#FECB52"
          ],
          "font": {
           "color": "#f2f5fa"
          },
          "geo": {
           "bgcolor": "rgb(17,17,17)",
           "lakecolor": "rgb(17,17,17)",
           "landcolor": "rgb(17,17,17)",
           "showlakes": true,
           "showland": true,
           "subunitcolor": "#506784"
          },
          "hoverlabel": {
           "align": "left"
          },
          "hovermode": "closest",
          "mapbox": {
           "style": "dark"
          },
          "paper_bgcolor": "rgb(17,17,17)",
          "plot_bgcolor": "rgb(17,17,17)",
          "polar": {
           "angularaxis": {
            "gridcolor": "#506784",
            "linecolor": "#506784",
            "ticks": ""
           },
           "bgcolor": "rgb(17,17,17)",
           "radialaxis": {
            "gridcolor": "#506784",
            "linecolor": "#506784",
            "ticks": ""
           }
          },
          "scene": {
           "xaxis": {
            "backgroundcolor": "rgb(17,17,17)",
            "gridcolor": "#506784",
            "gridwidth": 2,
            "linecolor": "#506784",
            "showbackground": true,
            "ticks": "",
            "zerolinecolor": "#C8D4E3"
           },
           "yaxis": {
            "backgroundcolor": "rgb(17,17,17)",
            "gridcolor": "#506784",
            "gridwidth": 2,
            "linecolor": "#506784",
            "showbackground": true,
            "ticks": "",
            "zerolinecolor": "#C8D4E3"
           },
           "zaxis": {
            "backgroundcolor": "rgb(17,17,17)",
            "gridcolor": "#506784",
            "gridwidth": 2,
            "linecolor": "#506784",
            "showbackground": true,
            "ticks": "",
            "zerolinecolor": "#C8D4E3"
           }
          },
          "shapedefaults": {
           "line": {
            "color": "#f2f5fa"
           }
          },
          "sliderdefaults": {
           "bgcolor": "#C8D4E3",
           "bordercolor": "rgb(17,17,17)",
           "borderwidth": 1,
           "tickwidth": 0
          },
          "ternary": {
           "aaxis": {
            "gridcolor": "#506784",
            "linecolor": "#506784",
            "ticks": ""
           },
           "baxis": {
            "gridcolor": "#506784",
            "linecolor": "#506784",
            "ticks": ""
           },
           "bgcolor": "rgb(17,17,17)",
           "caxis": {
            "gridcolor": "#506784",
            "linecolor": "#506784",
            "ticks": ""
           }
          },
          "title": {
           "x": 0.05
          },
          "updatemenudefaults": {
           "bgcolor": "#506784",
           "borderwidth": 0
          },
          "xaxis": {
           "automargin": true,
           "gridcolor": "#283442",
           "linecolor": "#506784",
           "ticks": "",
           "title": {
            "standoff": 15
           },
           "zerolinecolor": "#283442",
           "zerolinewidth": 2
          },
          "yaxis": {
           "automargin": true,
           "gridcolor": "#283442",
           "linecolor": "#506784",
           "ticks": "",
           "title": {
            "standoff": 15
           },
           "zerolinecolor": "#283442",
           "zerolinewidth": 2
          }
         }
        },
        "title": {
         "text": "Lap Time Distribution for each Tyre Compound in Singapore 2023"
        },
        "xaxis": {
         "anchor": "y",
         "categoryarray": [
          "HARD",
          "MEDIUM",
          "SOFT"
         ],
         "categoryorder": "array",
         "domain": [
          0,
          1
         ],
         "title": {
          "text": "Tyre Compound"
         }
        },
        "yaxis": {
         "anchor": "x",
         "domain": [
          0,
          1
         ],
         "title": {
          "text": "Lap Time (s)"
         }
        }
       }
      }
     },
     "metadata": {},
     "output_type": "display_data"
    }
   ],
   "source": [
    "compound_color = fastf1.plotting.COMPOUND_COLORS\n",
    "\n",
    "fig = px.box(df, x='Compound', y='LapTime', color='Compound',\n",
    "             color_discrete_map=compound_color,\n",
    "             title='Lap Time Distribution for each Tyre Compound in Singapore 2023',\n",
    "             template=\"plotly_dark\")\n",
    "fig.update_layout(xaxis_title='Tyre Compound', yaxis_title='Lap Time (s)',\n",
    "                  font=dict(size=18))\n",
    "\n",
    "# fig.update_yaxes(range=[95, 110])  # Set the y-axis range\n",
    "\n",
    "fig.show()\n",
    "\n"
   ]
  },
  {
   "cell_type": "markdown",
   "id": "96cace74",
   "metadata": {},
   "source": [
    "#### Changes to lap time throughout the race by the Top 3 drivers"
   ]
  },
  {
   "cell_type": "code",
   "execution_count": 15,
   "id": "c8ae5092",
   "metadata": {},
   "outputs": [],
   "source": [
    "# # Get lap times for each driver on each compound\n",
    "# # only selected laptimes with normal track conditions (Track Status = 1)\n",
    "# # use 15th percentile (top 3/20 fastest pace) given the quality of mercedes and ferrari as a team & driver race style (Sainz, Hamilton)\n",
    "# plt.figure(figsize=(20,6))\n",
    "\n",
    "laptime_by_compound = []\n",
    "\n",
    "for compound in set(df.Compound):\n",
    "    exec(f\"average_laptime_per_tyrelife_{compound} = {{}}\")\n",
    "    data_tyre = df.pick_tyre(compound)\n",
    "    for tyrelife in range(1,int(data_tyre.TyreLife.max())+1):\n",
    "        exec(f\"average_laptime_per_tyrelife_{compound}[tyrelife] = data_tyre.loc[(df['TyreLife'] == float(tyrelife)) & (df['TrackStatus'] == '1'), ['LapTime']].quantile(0.15)\")\n",
    "    exec(f\"key = average_laptime_per_tyrelife_{compound}.keys()\")\n",
    "    exec(f\"value = average_laptime_per_tyrelife_{compound}.values()\") \n",
    "    color = fastf1.plotting.COMPOUND_COLORS[compound] if compound != 'HARD' else \"000000\" # change HARD tyre from white to black\n",
    "    # plt.plot(key, value, color = color, marker='o')\n",
    "    exec(f\"result = average_laptime_per_tyrelife_{compound}\")\n",
    "    name = str(compound)\n",
    "    laptime_by_compound.append([name, result])\n",
    "\n",
    "# plt.ylabel('Lap Time (s)')\n",
    "# plt.xlabel('Tyre Life')\n",
    "# plt.title('85th Percentile (Top 3 drivers) Lap Time across Tyre Life \\n'+\"Singapore 2023\",  fontsize=20)\n",
    "# plt.show()  "
   ]
  },
  {
   "cell_type": "code",
   "execution_count": 16,
   "id": "c4e6723b",
   "metadata": {},
   "outputs": [
    {
     "data": {
      "application/vnd.plotly.v1+json": {
       "config": {
        "plotlyServerURL": "https://plot.ly"
       },
       "data": [
        {
         "marker": {
          "color": "white"
         },
         "mode": "lines+markers",
         "name": "HARD",
         "type": "scatter",
         "x": [
          1,
          2,
          3,
          4,
          5,
          6,
          7,
          8,
          9,
          10,
          11,
          12,
          13,
          14,
          15,
          16,
          17,
          18,
          19,
          20,
          21,
          22,
          23,
          24,
          25,
          26,
          27,
          28,
          29,
          30,
          31,
          32,
          33,
          34,
          35,
          36,
          37,
          38,
          39,
          40,
          41
         ],
         "y": [
          122.71600000000001,
          99.869,
          101.9096,
          100.11120000000001,
          100.0186,
          99.70840000000001,
          99.8702,
          100.04740000000001,
          100.04075,
          99.74260000000001,
          99.44675000000001,
          99.30640000000001,
          99.56805,
          99.87190000000001,
          99.7756,
          99.46860000000001,
          99.854,
          99.73280000000001,
          99.26345,
          99.39065,
          99.6962,
          99.77815,
          103.6007,
          102.2002,
          100.9496,
          98.12615000000001,
          100.70400000000001,
          98.3036,
          98.3022,
          98.5083,
          98.26435000000001,
          98.351,
          100.1674,
          98.75495000000001,
          98.83220000000001,
          98.73735,
          98.98985,
          99.29275000000001,
          101.39200000000001,
          99.4408,
          99.42280000000001
         ]
        },
        {
         "marker": {
          "color": "yellow"
         },
         "mode": "lines+markers",
         "name": "MEDIUM",
         "type": "scatter",
         "x": [
          1,
          2,
          3,
          4,
          5,
          6,
          7,
          8,
          9,
          10,
          11,
          12,
          13,
          14,
          15,
          16,
          17,
          18,
          19,
          20,
          21,
          22,
          23,
          24,
          25,
          26,
          27,
          28,
          29,
          30,
          31,
          32,
          33,
          34,
          35,
          36,
          37,
          38,
          39,
          40
         ],
         "y": [
          119.27470000000001,
          96.68100000000001,
          101.08170000000001,
          99.38540000000002,
          98.49530000000001,
          97.88430000000001,
          98.49650000000001,
          98.31500000000001,
          98.9654,
          98.07970000000002,
          97.799,
          97.56195000000001,
          98.6587,
          99.02550000000001,
          99.94400000000002,
          99.3944,
          99.31175,
          99.7553,
          100.894,
          97.97240000000001,
          97.34660000000001,
          100.42500000000001,
          null,
          null,
          null,
          99.316,
          null,
          99.79,
          100.042,
          99.81800000000001,
          100.482,
          null,
          101.753,
          101.70800000000001,
          100.798,
          101.215,
          101.41900000000001,
          null,
          103.77300000000001,
          101.79400000000001
         ]
        },
        {
         "marker": {
          "color": "red"
         },
         "mode": "lines+markers",
         "name": "SOFT",
         "type": "scatter",
         "x": [
          1,
          2,
          3,
          4,
          5,
          6,
          7,
          8,
          9,
          10,
          11,
          12,
          13,
          14,
          15,
          16,
          17,
          18,
          19,
          20,
          21
         ],
         "y": [
          null,
          null,
          null,
          null,
          96.95565,
          99.93430000000001,
          99.07350000000001,
          98.09370000000001,
          98.39580000000001,
          98.57985000000001,
          98.3182,
          98.39905,
          98.2163,
          98.45370000000001,
          98.29390000000001,
          98.80505000000001,
          98.64880000000001,
          98.86075000000001,
          99.74095,
          99.71075,
          99.613
         ]
        }
       ],
       "layout": {
        "legend": {
         "title": {
          "text": "Compound"
         }
        },
        "template": {
         "data": {
          "bar": [
           {
            "error_x": {
             "color": "#f2f5fa"
            },
            "error_y": {
             "color": "#f2f5fa"
            },
            "marker": {
             "line": {
              "color": "rgb(17,17,17)",
              "width": 0.5
             },
             "pattern": {
              "fillmode": "overlay",
              "size": 10,
              "solidity": 0.2
             }
            },
            "type": "bar"
           }
          ],
          "barpolar": [
           {
            "marker": {
             "line": {
              "color": "rgb(17,17,17)",
              "width": 0.5
             },
             "pattern": {
              "fillmode": "overlay",
              "size": 10,
              "solidity": 0.2
             }
            },
            "type": "barpolar"
           }
          ],
          "carpet": [
           {
            "aaxis": {
             "endlinecolor": "#A2B1C6",
             "gridcolor": "#506784",
             "linecolor": "#506784",
             "minorgridcolor": "#506784",
             "startlinecolor": "#A2B1C6"
            },
            "baxis": {
             "endlinecolor": "#A2B1C6",
             "gridcolor": "#506784",
             "linecolor": "#506784",
             "minorgridcolor": "#506784",
             "startlinecolor": "#A2B1C6"
            },
            "type": "carpet"
           }
          ],
          "choropleth": [
           {
            "colorbar": {
             "outlinewidth": 0,
             "ticks": ""
            },
            "type": "choropleth"
           }
          ],
          "contour": [
           {
            "colorbar": {
             "outlinewidth": 0,
             "ticks": ""
            },
            "colorscale": [
             [
              0,
              "#0d0887"
             ],
             [
              0.1111111111111111,
              "#46039f"
             ],
             [
              0.2222222222222222,
              "#7201a8"
             ],
             [
              0.3333333333333333,
              "#9c179e"
             ],
             [
              0.4444444444444444,
              "#bd3786"
             ],
             [
              0.5555555555555556,
              "#d8576b"
             ],
             [
              0.6666666666666666,
              "#ed7953"
             ],
             [
              0.7777777777777778,
              "#fb9f3a"
             ],
             [
              0.8888888888888888,
              "#fdca26"
             ],
             [
              1,
              "#f0f921"
             ]
            ],
            "type": "contour"
           }
          ],
          "contourcarpet": [
           {
            "colorbar": {
             "outlinewidth": 0,
             "ticks": ""
            },
            "type": "contourcarpet"
           }
          ],
          "heatmap": [
           {
            "colorbar": {
             "outlinewidth": 0,
             "ticks": ""
            },
            "colorscale": [
             [
              0,
              "#0d0887"
             ],
             [
              0.1111111111111111,
              "#46039f"
             ],
             [
              0.2222222222222222,
              "#7201a8"
             ],
             [
              0.3333333333333333,
              "#9c179e"
             ],
             [
              0.4444444444444444,
              "#bd3786"
             ],
             [
              0.5555555555555556,
              "#d8576b"
             ],
             [
              0.6666666666666666,
              "#ed7953"
             ],
             [
              0.7777777777777778,
              "#fb9f3a"
             ],
             [
              0.8888888888888888,
              "#fdca26"
             ],
             [
              1,
              "#f0f921"
             ]
            ],
            "type": "heatmap"
           }
          ],
          "heatmapgl": [
           {
            "colorbar": {
             "outlinewidth": 0,
             "ticks": ""
            },
            "colorscale": [
             [
              0,
              "#0d0887"
             ],
             [
              0.1111111111111111,
              "#46039f"
             ],
             [
              0.2222222222222222,
              "#7201a8"
             ],
             [
              0.3333333333333333,
              "#9c179e"
             ],
             [
              0.4444444444444444,
              "#bd3786"
             ],
             [
              0.5555555555555556,
              "#d8576b"
             ],
             [
              0.6666666666666666,
              "#ed7953"
             ],
             [
              0.7777777777777778,
              "#fb9f3a"
             ],
             [
              0.8888888888888888,
              "#fdca26"
             ],
             [
              1,
              "#f0f921"
             ]
            ],
            "type": "heatmapgl"
           }
          ],
          "histogram": [
           {
            "marker": {
             "pattern": {
              "fillmode": "overlay",
              "size": 10,
              "solidity": 0.2
             }
            },
            "type": "histogram"
           }
          ],
          "histogram2d": [
           {
            "colorbar": {
             "outlinewidth": 0,
             "ticks": ""
            },
            "colorscale": [
             [
              0,
              "#0d0887"
             ],
             [
              0.1111111111111111,
              "#46039f"
             ],
             [
              0.2222222222222222,
              "#7201a8"
             ],
             [
              0.3333333333333333,
              "#9c179e"
             ],
             [
              0.4444444444444444,
              "#bd3786"
             ],
             [
              0.5555555555555556,
              "#d8576b"
             ],
             [
              0.6666666666666666,
              "#ed7953"
             ],
             [
              0.7777777777777778,
              "#fb9f3a"
             ],
             [
              0.8888888888888888,
              "#fdca26"
             ],
             [
              1,
              "#f0f921"
             ]
            ],
            "type": "histogram2d"
           }
          ],
          "histogram2dcontour": [
           {
            "colorbar": {
             "outlinewidth": 0,
             "ticks": ""
            },
            "colorscale": [
             [
              0,
              "#0d0887"
             ],
             [
              0.1111111111111111,
              "#46039f"
             ],
             [
              0.2222222222222222,
              "#7201a8"
             ],
             [
              0.3333333333333333,
              "#9c179e"
             ],
             [
              0.4444444444444444,
              "#bd3786"
             ],
             [
              0.5555555555555556,
              "#d8576b"
             ],
             [
              0.6666666666666666,
              "#ed7953"
             ],
             [
              0.7777777777777778,
              "#fb9f3a"
             ],
             [
              0.8888888888888888,
              "#fdca26"
             ],
             [
              1,
              "#f0f921"
             ]
            ],
            "type": "histogram2dcontour"
           }
          ],
          "mesh3d": [
           {
            "colorbar": {
             "outlinewidth": 0,
             "ticks": ""
            },
            "type": "mesh3d"
           }
          ],
          "parcoords": [
           {
            "line": {
             "colorbar": {
              "outlinewidth": 0,
              "ticks": ""
             }
            },
            "type": "parcoords"
           }
          ],
          "pie": [
           {
            "automargin": true,
            "type": "pie"
           }
          ],
          "scatter": [
           {
            "marker": {
             "line": {
              "color": "#283442"
             }
            },
            "type": "scatter"
           }
          ],
          "scatter3d": [
           {
            "line": {
             "colorbar": {
              "outlinewidth": 0,
              "ticks": ""
             }
            },
            "marker": {
             "colorbar": {
              "outlinewidth": 0,
              "ticks": ""
             }
            },
            "type": "scatter3d"
           }
          ],
          "scattercarpet": [
           {
            "marker": {
             "colorbar": {
              "outlinewidth": 0,
              "ticks": ""
             }
            },
            "type": "scattercarpet"
           }
          ],
          "scattergeo": [
           {
            "marker": {
             "colorbar": {
              "outlinewidth": 0,
              "ticks": ""
             }
            },
            "type": "scattergeo"
           }
          ],
          "scattergl": [
           {
            "marker": {
             "line": {
              "color": "#283442"
             }
            },
            "type": "scattergl"
           }
          ],
          "scattermapbox": [
           {
            "marker": {
             "colorbar": {
              "outlinewidth": 0,
              "ticks": ""
             }
            },
            "type": "scattermapbox"
           }
          ],
          "scatterpolar": [
           {
            "marker": {
             "colorbar": {
              "outlinewidth": 0,
              "ticks": ""
             }
            },
            "type": "scatterpolar"
           }
          ],
          "scatterpolargl": [
           {
            "marker": {
             "colorbar": {
              "outlinewidth": 0,
              "ticks": ""
             }
            },
            "type": "scatterpolargl"
           }
          ],
          "scatterternary": [
           {
            "marker": {
             "colorbar": {
              "outlinewidth": 0,
              "ticks": ""
             }
            },
            "type": "scatterternary"
           }
          ],
          "surface": [
           {
            "colorbar": {
             "outlinewidth": 0,
             "ticks": ""
            },
            "colorscale": [
             [
              0,
              "#0d0887"
             ],
             [
              0.1111111111111111,
              "#46039f"
             ],
             [
              0.2222222222222222,
              "#7201a8"
             ],
             [
              0.3333333333333333,
              "#9c179e"
             ],
             [
              0.4444444444444444,
              "#bd3786"
             ],
             [
              0.5555555555555556,
              "#d8576b"
             ],
             [
              0.6666666666666666,
              "#ed7953"
             ],
             [
              0.7777777777777778,
              "#fb9f3a"
             ],
             [
              0.8888888888888888,
              "#fdca26"
             ],
             [
              1,
              "#f0f921"
             ]
            ],
            "type": "surface"
           }
          ],
          "table": [
           {
            "cells": {
             "fill": {
              "color": "#506784"
             },
             "line": {
              "color": "rgb(17,17,17)"
             }
            },
            "header": {
             "fill": {
              "color": "#2a3f5f"
             },
             "line": {
              "color": "rgb(17,17,17)"
             }
            },
            "type": "table"
           }
          ]
         },
         "layout": {
          "annotationdefaults": {
           "arrowcolor": "#f2f5fa",
           "arrowhead": 0,
           "arrowwidth": 1
          },
          "autotypenumbers": "strict",
          "coloraxis": {
           "colorbar": {
            "outlinewidth": 0,
            "ticks": ""
           }
          },
          "colorscale": {
           "diverging": [
            [
             0,
             "#8e0152"
            ],
            [
             0.1,
             "#c51b7d"
            ],
            [
             0.2,
             "#de77ae"
            ],
            [
             0.3,
             "#f1b6da"
            ],
            [
             0.4,
             "#fde0ef"
            ],
            [
             0.5,
             "#f7f7f7"
            ],
            [
             0.6,
             "#e6f5d0"
            ],
            [
             0.7,
             "#b8e186"
            ],
            [
             0.8,
             "#7fbc41"
            ],
            [
             0.9,
             "#4d9221"
            ],
            [
             1,
             "#276419"
            ]
           ],
           "sequential": [
            [
             0,
             "#0d0887"
            ],
            [
             0.1111111111111111,
             "#46039f"
            ],
            [
             0.2222222222222222,
             "#7201a8"
            ],
            [
             0.3333333333333333,
             "#9c179e"
            ],
            [
             0.4444444444444444,
             "#bd3786"
            ],
            [
             0.5555555555555556,
             "#d8576b"
            ],
            [
             0.6666666666666666,
             "#ed7953"
            ],
            [
             0.7777777777777778,
             "#fb9f3a"
            ],
            [
             0.8888888888888888,
             "#fdca26"
            ],
            [
             1,
             "#f0f921"
            ]
           ],
           "sequentialminus": [
            [
             0,
             "#0d0887"
            ],
            [
             0.1111111111111111,
             "#46039f"
            ],
            [
             0.2222222222222222,
             "#7201a8"
            ],
            [
             0.3333333333333333,
             "#9c179e"
            ],
            [
             0.4444444444444444,
             "#bd3786"
            ],
            [
             0.5555555555555556,
             "#d8576b"
            ],
            [
             0.6666666666666666,
             "#ed7953"
            ],
            [
             0.7777777777777778,
             "#fb9f3a"
            ],
            [
             0.8888888888888888,
             "#fdca26"
            ],
            [
             1,
             "#f0f921"
            ]
           ]
          },
          "colorway": [
           "#636efa",
           "#EF553B",
           "#00cc96",
           "#ab63fa",
           "#FFA15A",
           "#19d3f3",
           "#FF6692",
           "#B6E880",
           "#FF97FF",
           "#FECB52"
          ],
          "font": {
           "color": "#f2f5fa"
          },
          "geo": {
           "bgcolor": "rgb(17,17,17)",
           "lakecolor": "rgb(17,17,17)",
           "landcolor": "rgb(17,17,17)",
           "showlakes": true,
           "showland": true,
           "subunitcolor": "#506784"
          },
          "hoverlabel": {
           "align": "left"
          },
          "hovermode": "closest",
          "mapbox": {
           "style": "dark"
          },
          "paper_bgcolor": "rgb(17,17,17)",
          "plot_bgcolor": "rgb(17,17,17)",
          "polar": {
           "angularaxis": {
            "gridcolor": "#506784",
            "linecolor": "#506784",
            "ticks": ""
           },
           "bgcolor": "rgb(17,17,17)",
           "radialaxis": {
            "gridcolor": "#506784",
            "linecolor": "#506784",
            "ticks": ""
           }
          },
          "scene": {
           "xaxis": {
            "backgroundcolor": "rgb(17,17,17)",
            "gridcolor": "#506784",
            "gridwidth": 2,
            "linecolor": "#506784",
            "showbackground": true,
            "ticks": "",
            "zerolinecolor": "#C8D4E3"
           },
           "yaxis": {
            "backgroundcolor": "rgb(17,17,17)",
            "gridcolor": "#506784",
            "gridwidth": 2,
            "linecolor": "#506784",
            "showbackground": true,
            "ticks": "",
            "zerolinecolor": "#C8D4E3"
           },
           "zaxis": {
            "backgroundcolor": "rgb(17,17,17)",
            "gridcolor": "#506784",
            "gridwidth": 2,
            "linecolor": "#506784",
            "showbackground": true,
            "ticks": "",
            "zerolinecolor": "#C8D4E3"
           }
          },
          "shapedefaults": {
           "line": {
            "color": "#f2f5fa"
           }
          },
          "sliderdefaults": {
           "bgcolor": "#C8D4E3",
           "bordercolor": "rgb(17,17,17)",
           "borderwidth": 1,
           "tickwidth": 0
          },
          "ternary": {
           "aaxis": {
            "gridcolor": "#506784",
            "linecolor": "#506784",
            "ticks": ""
           },
           "baxis": {
            "gridcolor": "#506784",
            "linecolor": "#506784",
            "ticks": ""
           },
           "bgcolor": "rgb(17,17,17)",
           "caxis": {
            "gridcolor": "#506784",
            "linecolor": "#506784",
            "ticks": ""
           }
          },
          "title": {
           "x": 0.05
          },
          "updatemenudefaults": {
           "bgcolor": "#506784",
           "borderwidth": 0
          },
          "xaxis": {
           "automargin": true,
           "gridcolor": "#283442",
           "linecolor": "#506784",
           "ticks": "",
           "title": {
            "standoff": 15
           },
           "zerolinecolor": "#283442",
           "zerolinewidth": 2
          },
          "yaxis": {
           "automargin": true,
           "gridcolor": "#283442",
           "linecolor": "#506784",
           "ticks": "",
           "title": {
            "standoff": 15
           },
           "zerolinecolor": "#283442",
           "zerolinewidth": 2
          }
         }
        },
        "title": {
         "text": "85th Percentile Lap Time across Tyre Life <br>Singapore 2023"
        },
        "xaxis": {
         "title": {
          "text": "Tyre Life"
         }
        },
        "yaxis": {
         "title": {
          "text": "Lap Time (s)"
         }
        }
       }
      }
     },
     "metadata": {},
     "output_type": "display_data"
    }
   ],
   "source": [
    "\n",
    "\n",
    "# Assuming 'df' is your DataFrame and it has been correctly loaded with the relevant data.\n",
    "\n",
    "# Filter the DataFrame for normal track conditions only\n",
    "df_normal = df[df['TrackStatus'] == '1']\n",
    "\n",
    "# Unique compounds in the dataset\n",
    "compounds = df_normal['Compound'].unique()\n",
    "\n",
    "# Prepare a dictionary for Plotly colors (updating HARD tyre color to black)\n",
    "compound_colors = {\n",
    "    'SOFT': 'red',  # Example color, replace with actual color codes\n",
    "    'MEDIUM': 'yellow',  # Example color, replace with actual color codes\n",
    "    'HARD': 'white'  # Setting HARD to black\n",
    "    # Add other compounds as necessary\n",
    "}\n",
    "\n",
    "# Initialize a list to collect Plotly go.Scatter objects for plotting\n",
    "traces = []\n",
    "\n",
    "for compound in compounds:\n",
    "    compound_df = df_normal[df_normal['Compound'] == compound]\n",
    "    average_laptime_per_tyrelife = {}\n",
    "\n",
    "    for tyrelife in range(1, int(compound_df['TyreLife'].max()) + 1):\n",
    "        tyrelife_df = compound_df[compound_df['TyreLife'] == tyrelife]\n",
    "        # Calculate 15th percentile lap time\n",
    "        percentile_15th = tyrelife_df['LapTime'].quantile(0.15)\n",
    "        average_laptime_per_tyrelife[tyrelife] = percentile_15th\n",
    "\n",
    "    # Extracting keys and values for Plotly\n",
    "    tyre_life = list(average_laptime_per_tyrelife.keys())\n",
    "    lap_times = list(average_laptime_per_tyrelife.values())\n",
    "    \n",
    "    # Creating a scatter plot for each compound\n",
    "    trace = go.Scatter(x=tyre_life, y=lap_times, mode='lines+markers',\n",
    "                       name=compound, marker=dict(color=compound_colors.get(compound, 'grey')))\n",
    "    traces.append(trace)\n",
    "\n",
    "# Plotting\n",
    "fig = go.Figure(data=traces)\n",
    "fig.update_layout(title='85th Percentile Lap Time across Tyre Life <br>Singapore 2023',\n",
    "                  xaxis_title='Tyre Life',\n",
    "                  yaxis_title='Lap Time (s)',\n",
    "                  legend_title='Compound',\n",
    "                  template=\"plotly_dark\")\n",
    "fig.show()\n"
   ]
  },
  {
   "cell_type": "markdown",
   "id": "892a8560",
   "metadata": {},
   "source": [
    "#### Extrapolating and modelling tyre lap time degradation with tyre age"
   ]
  },
  {
   "cell_type": "code",
   "execution_count": 17,
   "id": "34cbc25e",
   "metadata": {},
   "outputs": [],
   "source": [
    "# dct[1].values()"
   ]
  },
  {
   "cell_type": "code",
   "execution_count": 18,
   "id": "bd3b161b",
   "metadata": {
    "scrolled": true
   },
   "outputs": [],
   "source": [
    "# helper function to get quadratic correlation\n",
    "\n",
    "def get_quadratics(dct):\n",
    "    keys = list(dct[1].keys())\n",
    "    vals = list(dct[1].values())\n",
    "    n = []\n",
    "\n",
    "    for i in range(len(vals)):\n",
    "        n.append(vals[i].LapTime)\n",
    "\n",
    "    new_dict = dict(zip(keys,n))\n",
    "    cleaned_dict = {key: value for key, value in new_dict.items() if not math.isnan(value)}\n",
    "    # cleaned_dict = {key: value for key, value in new_dict.items() if not math.isnan(value) and value <= 110} # Threshold Above 110 for now after checking box plot\n",
    "\n",
    "    \n",
    "    \n",
    "\n",
    "    # fit all tyre age and laptime into a quadratic correlation\n",
    "    a,b,c = np.polyfit(list(cleaned_dict.keys()), list(cleaned_dict.values()),2)\n",
    "    print(dct[0],a,b,c)\n",
    "    return a,b,c"
   ]
  },
  {
   "cell_type": "code",
   "execution_count": 19,
   "id": "9646603e",
   "metadata": {},
   "outputs": [],
   "source": [
    "# # plot correlated tyre age and lap time for Singapore GP\n",
    "\n",
    "# fig, ax = plt.subplots(figsize=(20, 10))\n",
    "# plt.title('Top 3 Drivers Tyre Age and Lap Time \\n'+\"Singapore 2023\",  fontsize=30)\n",
    "# plt.xlabel('Tyre Age')\n",
    "# plt.ylabel('Lap Time (s)')\n",
    "\n",
    "# tyre_age = list(range(63))\n",
    "\n",
    "# for dct in laptime_by_compound:\n",
    "#     compound = dct[0]       #compound type\n",
    "#     a,b,c = get_quadratics(dct)\n",
    "#     lap_time = []\n",
    "#     for x in tyre_age:\n",
    "#         lap_time.append(a*x**2 + b*x + c)\n",
    "#     color = fastf1.plotting.COMPOUND_COLORS[compound] if compound != 'HARD' else \"000000\" # change HARD tyre from white to black\n",
    "#     plt.plot(tyre_age, lap_time, color = color, marker='o')\n",
    "\n",
    "# plt.show()\n"
   ]
  },
  {
   "cell_type": "code",
   "execution_count": 20,
   "id": "a7f07577",
   "metadata": {},
   "outputs": [
    {
     "name": "stdout",
     "output_type": "stream",
     "text": [
      "MEDIUM 0.01373902477042166 -0.5445335863621549 103.66638621613211\n",
      "SOFT 0.010632527089783267 -0.20480955237358175 99.32181409958719\n",
      "HARD 0.009342750556306952 -0.49584233521158183 105.26568511257031\n"
     ]
    },
    {
     "data": {
      "application/vnd.plotly.v1+json": {
       "config": {
        "plotlyServerURL": "https://plot.ly"
       },
       "data": [
        {
         "line": {
          "color": "yellow"
         },
         "mode": "lines+markers",
         "name": "MEDIUM",
         "type": "scatter",
         "x": [
          0,
          1,
          2,
          3,
          4,
          5,
          6,
          7,
          8,
          9,
          10,
          11,
          12,
          13,
          14,
          15,
          16,
          17,
          18,
          19,
          20,
          21,
          22,
          23,
          24,
          25,
          26,
          27,
          28,
          29,
          30,
          31,
          32,
          33,
          34,
          35,
          36,
          37,
          38,
          39,
          40,
          41,
          42,
          43,
          44,
          45,
          46,
          47,
          48,
          49,
          50,
          51,
          52,
          53,
          54,
          55,
          56,
          57,
          58,
          59,
          60,
          61,
          62
         ],
         "y": [
          103.66638621613211,
          103.13559165454038,
          102.63227514248949,
          102.15643667997944,
          101.70807626701024,
          101.28719390358188,
          100.89378958969436,
          100.52786332534768,
          100.18941511054186,
          99.87844494527687,
          99.59495282955272,
          99.33893876336943,
          99.11040274672698,
          98.90934477962536,
          98.73576486206458,
          98.58966299404466,
          98.47103917556558,
          98.37989340662733,
          98.31622568722995,
          98.28003601737339,
          98.27132439705768,
          98.2900908262828,
          98.33633530504879,
          98.41005783335561,
          98.51125841120327,
          98.63993703859177,
          98.79609371552112,
          98.97972844199131,
          99.19084121800236,
          99.42943204355423,
          99.69550091864696,
          99.98904784328053,
          100.31007281745494,
          100.65857584117019,
          101.03455691442628,
          101.43801603722322,
          101.868953209561,
          102.32736843143962,
          102.81326170285911,
          103.32663302381941,
          103.86748239432058,
          104.43580981436257,
          105.03161528394541,
          105.6548988030691,
          106.30566037173364,
          106.983899989939,
          107.68961765768522,
          108.42281337497228,
          109.18348714180019,
          109.97163895816892,
          110.78726882407851,
          111.63037673952894,
          112.50096270452022,
          113.39902671905234,
          114.3245687831253,
          115.2775888967391,
          116.25808705989377,
          117.26606327258925,
          118.30151753482559,
          119.36444984660278,
          120.45486020792079,
          121.57274861877966,
          122.71811507917937
         ]
        },
        {
         "line": {
          "color": "red"
         },
         "mode": "lines+markers",
         "name": "SOFT",
         "type": "scatter",
         "x": [
          0,
          1,
          2,
          3,
          4,
          5,
          6,
          7,
          8,
          9,
          10,
          11,
          12,
          13,
          14,
          15,
          16,
          17,
          18,
          19,
          20,
          21,
          22,
          23,
          24,
          25,
          26,
          27,
          28,
          29,
          30,
          31,
          32,
          33,
          34,
          35,
          36,
          37,
          38,
          39,
          40,
          41,
          42,
          43,
          44,
          45,
          46,
          47,
          48,
          49,
          50,
          51,
          52,
          53,
          54,
          55,
          56,
          57,
          58,
          59,
          60,
          61,
          62
         ],
         "y": [
          99.32181409958719,
          99.1276370743034,
          98.95472510319915,
          98.80307818627449,
          98.6726963235294,
          98.56357951496386,
          98.4757277605779,
          98.4091410603715,
          98.36381941434466,
          98.33976282249739,
          98.3369712848297,
          98.35544480134156,
          98.39518337203299,
          98.456186996904,
          98.53845567595457,
          98.64198940918469,
          98.76678819659439,
          98.91285203818366,
          99.08018093395249,
          99.26877488390089,
          99.47863388802885,
          99.7097579463364,
          99.96214705882349,
          100.23580122549015,
          100.53072044633639,
          100.84690472136218,
          101.18435405056755,
          101.54306843395248,
          101.92304787151699,
          102.32429236326104,
          102.74680190918467,
          103.19057650928787,
          103.65561616357064,
          104.14192087203297,
          104.64949063467486,
          105.17832545149632,
          105.72842532249736,
          106.29979024767795,
          106.89242022703812,
          107.50631526057785,
          108.14147534829715,
          108.79790049019601,
          109.47559068627443,
          110.17454593653243,
          110.89476624097,
          111.63625159958713,
          112.39900201238382,
          113.18301747936007,
          113.98829800051591,
          114.8148435758513,
          115.66265420536627,
          116.5317298890608,
          117.4220706269349,
          118.33367641898855,
          119.26654726522177,
          120.22068316563457,
          121.19608412022693,
          122.19275012899887,
          123.21068119195036,
          124.24987730908143,
          125.31033848039203,
          126.39206470588223,
          127.495055985552
         ]
        },
        {
         "line": {
          "color": "white"
         },
         "mode": "lines+markers",
         "name": "HARD",
         "type": "scatter",
         "x": [
          0,
          1,
          2,
          3,
          4,
          5,
          6,
          7,
          8,
          9,
          10,
          11,
          12,
          13,
          14,
          15,
          16,
          17,
          18,
          19,
          20,
          21,
          22,
          23,
          24,
          25,
          26,
          27,
          28,
          29,
          30,
          31,
          32,
          33,
          34,
          35,
          36,
          37,
          38,
          39,
          40,
          41,
          42,
          43,
          44,
          45,
          46,
          47,
          48,
          49,
          50,
          51,
          52,
          53,
          54,
          55,
          56,
          57,
          58,
          59,
          60,
          61,
          62
         ],
         "y": [
          105.26568511257031,
          104.77918552791503,
          104.31137144437237,
          103.86224286194232,
          103.4317997806249,
          103.02004220042008,
          102.62697012132787,
          102.25258354334828,
          101.8968824664813,
          101.55986689072694,
          101.24153681608519,
          100.94189224255605,
          100.66093317013953,
          100.39865959883562,
          100.15507152864433,
          99.93016895956565,
          99.72395189159958,
          99.53642032474613,
          99.3675742590053,
          99.21741369437706,
          99.08593863086145,
          98.97314906845845,
          98.87904500716807,
          98.80362644699031,
          98.74689338792516,
          98.7088458299726,
          98.68948377313268,
          98.68880721740537,
          98.70681616279067,
          98.74351060928859,
          98.79889055689911,
          98.87295600562226,
          98.96570695545802,
          99.07714340640638,
          99.20726535846737,
          99.35607281164096,
          99.52356576592717,
          99.709744221326,
          99.91460817783744,
          100.1381576354615,
          100.38039259419816,
          100.64131305404744,
          100.92091901500933,
          101.21921047708385,
          101.53618744027096,
          101.87184990457071,
          102.22619786998305,
          102.59923133650803,
          102.9909503041456,
          103.40135477289579,
          103.8304447427586,
          104.27822021373402,
          104.74468118582206,
          105.2298276590227,
          105.73365963333596,
          106.25617710876185,
          106.79738008530033,
          107.35726856295143,
          107.93584254171515,
          108.53310202159147,
          109.14904700258043,
          109.78367748468199,
          110.43699346789616
         ]
        }
       ],
       "layout": {
        "template": {
         "data": {
          "bar": [
           {
            "error_x": {
             "color": "#f2f5fa"
            },
            "error_y": {
             "color": "#f2f5fa"
            },
            "marker": {
             "line": {
              "color": "rgb(17,17,17)",
              "width": 0.5
             },
             "pattern": {
              "fillmode": "overlay",
              "size": 10,
              "solidity": 0.2
             }
            },
            "type": "bar"
           }
          ],
          "barpolar": [
           {
            "marker": {
             "line": {
              "color": "rgb(17,17,17)",
              "width": 0.5
             },
             "pattern": {
              "fillmode": "overlay",
              "size": 10,
              "solidity": 0.2
             }
            },
            "type": "barpolar"
           }
          ],
          "carpet": [
           {
            "aaxis": {
             "endlinecolor": "#A2B1C6",
             "gridcolor": "#506784",
             "linecolor": "#506784",
             "minorgridcolor": "#506784",
             "startlinecolor": "#A2B1C6"
            },
            "baxis": {
             "endlinecolor": "#A2B1C6",
             "gridcolor": "#506784",
             "linecolor": "#506784",
             "minorgridcolor": "#506784",
             "startlinecolor": "#A2B1C6"
            },
            "type": "carpet"
           }
          ],
          "choropleth": [
           {
            "colorbar": {
             "outlinewidth": 0,
             "ticks": ""
            },
            "type": "choropleth"
           }
          ],
          "contour": [
           {
            "colorbar": {
             "outlinewidth": 0,
             "ticks": ""
            },
            "colorscale": [
             [
              0,
              "#0d0887"
             ],
             [
              0.1111111111111111,
              "#46039f"
             ],
             [
              0.2222222222222222,
              "#7201a8"
             ],
             [
              0.3333333333333333,
              "#9c179e"
             ],
             [
              0.4444444444444444,
              "#bd3786"
             ],
             [
              0.5555555555555556,
              "#d8576b"
             ],
             [
              0.6666666666666666,
              "#ed7953"
             ],
             [
              0.7777777777777778,
              "#fb9f3a"
             ],
             [
              0.8888888888888888,
              "#fdca26"
             ],
             [
              1,
              "#f0f921"
             ]
            ],
            "type": "contour"
           }
          ],
          "contourcarpet": [
           {
            "colorbar": {
             "outlinewidth": 0,
             "ticks": ""
            },
            "type": "contourcarpet"
           }
          ],
          "heatmap": [
           {
            "colorbar": {
             "outlinewidth": 0,
             "ticks": ""
            },
            "colorscale": [
             [
              0,
              "#0d0887"
             ],
             [
              0.1111111111111111,
              "#46039f"
             ],
             [
              0.2222222222222222,
              "#7201a8"
             ],
             [
              0.3333333333333333,
              "#9c179e"
             ],
             [
              0.4444444444444444,
              "#bd3786"
             ],
             [
              0.5555555555555556,
              "#d8576b"
             ],
             [
              0.6666666666666666,
              "#ed7953"
             ],
             [
              0.7777777777777778,
              "#fb9f3a"
             ],
             [
              0.8888888888888888,
              "#fdca26"
             ],
             [
              1,
              "#f0f921"
             ]
            ],
            "type": "heatmap"
           }
          ],
          "heatmapgl": [
           {
            "colorbar": {
             "outlinewidth": 0,
             "ticks": ""
            },
            "colorscale": [
             [
              0,
              "#0d0887"
             ],
             [
              0.1111111111111111,
              "#46039f"
             ],
             [
              0.2222222222222222,
              "#7201a8"
             ],
             [
              0.3333333333333333,
              "#9c179e"
             ],
             [
              0.4444444444444444,
              "#bd3786"
             ],
             [
              0.5555555555555556,
              "#d8576b"
             ],
             [
              0.6666666666666666,
              "#ed7953"
             ],
             [
              0.7777777777777778,
              "#fb9f3a"
             ],
             [
              0.8888888888888888,
              "#fdca26"
             ],
             [
              1,
              "#f0f921"
             ]
            ],
            "type": "heatmapgl"
           }
          ],
          "histogram": [
           {
            "marker": {
             "pattern": {
              "fillmode": "overlay",
              "size": 10,
              "solidity": 0.2
             }
            },
            "type": "histogram"
           }
          ],
          "histogram2d": [
           {
            "colorbar": {
             "outlinewidth": 0,
             "ticks": ""
            },
            "colorscale": [
             [
              0,
              "#0d0887"
             ],
             [
              0.1111111111111111,
              "#46039f"
             ],
             [
              0.2222222222222222,
              "#7201a8"
             ],
             [
              0.3333333333333333,
              "#9c179e"
             ],
             [
              0.4444444444444444,
              "#bd3786"
             ],
             [
              0.5555555555555556,
              "#d8576b"
             ],
             [
              0.6666666666666666,
              "#ed7953"
             ],
             [
              0.7777777777777778,
              "#fb9f3a"
             ],
             [
              0.8888888888888888,
              "#fdca26"
             ],
             [
              1,
              "#f0f921"
             ]
            ],
            "type": "histogram2d"
           }
          ],
          "histogram2dcontour": [
           {
            "colorbar": {
             "outlinewidth": 0,
             "ticks": ""
            },
            "colorscale": [
             [
              0,
              "#0d0887"
             ],
             [
              0.1111111111111111,
              "#46039f"
             ],
             [
              0.2222222222222222,
              "#7201a8"
             ],
             [
              0.3333333333333333,
              "#9c179e"
             ],
             [
              0.4444444444444444,
              "#bd3786"
             ],
             [
              0.5555555555555556,
              "#d8576b"
             ],
             [
              0.6666666666666666,
              "#ed7953"
             ],
             [
              0.7777777777777778,
              "#fb9f3a"
             ],
             [
              0.8888888888888888,
              "#fdca26"
             ],
             [
              1,
              "#f0f921"
             ]
            ],
            "type": "histogram2dcontour"
           }
          ],
          "mesh3d": [
           {
            "colorbar": {
             "outlinewidth": 0,
             "ticks": ""
            },
            "type": "mesh3d"
           }
          ],
          "parcoords": [
           {
            "line": {
             "colorbar": {
              "outlinewidth": 0,
              "ticks": ""
             }
            },
            "type": "parcoords"
           }
          ],
          "pie": [
           {
            "automargin": true,
            "type": "pie"
           }
          ],
          "scatter": [
           {
            "marker": {
             "line": {
              "color": "#283442"
             }
            },
            "type": "scatter"
           }
          ],
          "scatter3d": [
           {
            "line": {
             "colorbar": {
              "outlinewidth": 0,
              "ticks": ""
             }
            },
            "marker": {
             "colorbar": {
              "outlinewidth": 0,
              "ticks": ""
             }
            },
            "type": "scatter3d"
           }
          ],
          "scattercarpet": [
           {
            "marker": {
             "colorbar": {
              "outlinewidth": 0,
              "ticks": ""
             }
            },
            "type": "scattercarpet"
           }
          ],
          "scattergeo": [
           {
            "marker": {
             "colorbar": {
              "outlinewidth": 0,
              "ticks": ""
             }
            },
            "type": "scattergeo"
           }
          ],
          "scattergl": [
           {
            "marker": {
             "line": {
              "color": "#283442"
             }
            },
            "type": "scattergl"
           }
          ],
          "scattermapbox": [
           {
            "marker": {
             "colorbar": {
              "outlinewidth": 0,
              "ticks": ""
             }
            },
            "type": "scattermapbox"
           }
          ],
          "scatterpolar": [
           {
            "marker": {
             "colorbar": {
              "outlinewidth": 0,
              "ticks": ""
             }
            },
            "type": "scatterpolar"
           }
          ],
          "scatterpolargl": [
           {
            "marker": {
             "colorbar": {
              "outlinewidth": 0,
              "ticks": ""
             }
            },
            "type": "scatterpolargl"
           }
          ],
          "scatterternary": [
           {
            "marker": {
             "colorbar": {
              "outlinewidth": 0,
              "ticks": ""
             }
            },
            "type": "scatterternary"
           }
          ],
          "surface": [
           {
            "colorbar": {
             "outlinewidth": 0,
             "ticks": ""
            },
            "colorscale": [
             [
              0,
              "#0d0887"
             ],
             [
              0.1111111111111111,
              "#46039f"
             ],
             [
              0.2222222222222222,
              "#7201a8"
             ],
             [
              0.3333333333333333,
              "#9c179e"
             ],
             [
              0.4444444444444444,
              "#bd3786"
             ],
             [
              0.5555555555555556,
              "#d8576b"
             ],
             [
              0.6666666666666666,
              "#ed7953"
             ],
             [
              0.7777777777777778,
              "#fb9f3a"
             ],
             [
              0.8888888888888888,
              "#fdca26"
             ],
             [
              1,
              "#f0f921"
             ]
            ],
            "type": "surface"
           }
          ],
          "table": [
           {
            "cells": {
             "fill": {
              "color": "#506784"
             },
             "line": {
              "color": "rgb(17,17,17)"
             }
            },
            "header": {
             "fill": {
              "color": "#2a3f5f"
             },
             "line": {
              "color": "rgb(17,17,17)"
             }
            },
            "type": "table"
           }
          ]
         },
         "layout": {
          "annotationdefaults": {
           "arrowcolor": "#f2f5fa",
           "arrowhead": 0,
           "arrowwidth": 1
          },
          "autotypenumbers": "strict",
          "coloraxis": {
           "colorbar": {
            "outlinewidth": 0,
            "ticks": ""
           }
          },
          "colorscale": {
           "diverging": [
            [
             0,
             "#8e0152"
            ],
            [
             0.1,
             "#c51b7d"
            ],
            [
             0.2,
             "#de77ae"
            ],
            [
             0.3,
             "#f1b6da"
            ],
            [
             0.4,
             "#fde0ef"
            ],
            [
             0.5,
             "#f7f7f7"
            ],
            [
             0.6,
             "#e6f5d0"
            ],
            [
             0.7,
             "#b8e186"
            ],
            [
             0.8,
             "#7fbc41"
            ],
            [
             0.9,
             "#4d9221"
            ],
            [
             1,
             "#276419"
            ]
           ],
           "sequential": [
            [
             0,
             "#0d0887"
            ],
            [
             0.1111111111111111,
             "#46039f"
            ],
            [
             0.2222222222222222,
             "#7201a8"
            ],
            [
             0.3333333333333333,
             "#9c179e"
            ],
            [
             0.4444444444444444,
             "#bd3786"
            ],
            [
             0.5555555555555556,
             "#d8576b"
            ],
            [
             0.6666666666666666,
             "#ed7953"
            ],
            [
             0.7777777777777778,
             "#fb9f3a"
            ],
            [
             0.8888888888888888,
             "#fdca26"
            ],
            [
             1,
             "#f0f921"
            ]
           ],
           "sequentialminus": [
            [
             0,
             "#0d0887"
            ],
            [
             0.1111111111111111,
             "#46039f"
            ],
            [
             0.2222222222222222,
             "#7201a8"
            ],
            [
             0.3333333333333333,
             "#9c179e"
            ],
            [
             0.4444444444444444,
             "#bd3786"
            ],
            [
             0.5555555555555556,
             "#d8576b"
            ],
            [
             0.6666666666666666,
             "#ed7953"
            ],
            [
             0.7777777777777778,
             "#fb9f3a"
            ],
            [
             0.8888888888888888,
             "#fdca26"
            ],
            [
             1,
             "#f0f921"
            ]
           ]
          },
          "colorway": [
           "#636efa",
           "#EF553B",
           "#00cc96",
           "#ab63fa",
           "#FFA15A",
           "#19d3f3",
           "#FF6692",
           "#B6E880",
           "#FF97FF",
           "#FECB52"
          ],
          "font": {
           "color": "#f2f5fa"
          },
          "geo": {
           "bgcolor": "rgb(17,17,17)",
           "lakecolor": "rgb(17,17,17)",
           "landcolor": "rgb(17,17,17)",
           "showlakes": true,
           "showland": true,
           "subunitcolor": "#506784"
          },
          "hoverlabel": {
           "align": "left"
          },
          "hovermode": "closest",
          "mapbox": {
           "style": "dark"
          },
          "paper_bgcolor": "rgb(17,17,17)",
          "plot_bgcolor": "rgb(17,17,17)",
          "polar": {
           "angularaxis": {
            "gridcolor": "#506784",
            "linecolor": "#506784",
            "ticks": ""
           },
           "bgcolor": "rgb(17,17,17)",
           "radialaxis": {
            "gridcolor": "#506784",
            "linecolor": "#506784",
            "ticks": ""
           }
          },
          "scene": {
           "xaxis": {
            "backgroundcolor": "rgb(17,17,17)",
            "gridcolor": "#506784",
            "gridwidth": 2,
            "linecolor": "#506784",
            "showbackground": true,
            "ticks": "",
            "zerolinecolor": "#C8D4E3"
           },
           "yaxis": {
            "backgroundcolor": "rgb(17,17,17)",
            "gridcolor": "#506784",
            "gridwidth": 2,
            "linecolor": "#506784",
            "showbackground": true,
            "ticks": "",
            "zerolinecolor": "#C8D4E3"
           },
           "zaxis": {
            "backgroundcolor": "rgb(17,17,17)",
            "gridcolor": "#506784",
            "gridwidth": 2,
            "linecolor": "#506784",
            "showbackground": true,
            "ticks": "",
            "zerolinecolor": "#C8D4E3"
           }
          },
          "shapedefaults": {
           "line": {
            "color": "#f2f5fa"
           }
          },
          "sliderdefaults": {
           "bgcolor": "#C8D4E3",
           "bordercolor": "rgb(17,17,17)",
           "borderwidth": 1,
           "tickwidth": 0
          },
          "ternary": {
           "aaxis": {
            "gridcolor": "#506784",
            "linecolor": "#506784",
            "ticks": ""
           },
           "baxis": {
            "gridcolor": "#506784",
            "linecolor": "#506784",
            "ticks": ""
           },
           "bgcolor": "rgb(17,17,17)",
           "caxis": {
            "gridcolor": "#506784",
            "linecolor": "#506784",
            "ticks": ""
           }
          },
          "title": {
           "x": 0.05
          },
          "updatemenudefaults": {
           "bgcolor": "#506784",
           "borderwidth": 0
          },
          "xaxis": {
           "automargin": true,
           "gridcolor": "#283442",
           "linecolor": "#506784",
           "ticks": "",
           "title": {
            "standoff": 15
           },
           "zerolinecolor": "#283442",
           "zerolinewidth": 2
          },
          "yaxis": {
           "automargin": true,
           "gridcolor": "#283442",
           "linecolor": "#506784",
           "ticks": "",
           "title": {
            "standoff": 15
           },
           "zerolinecolor": "#283442",
           "zerolinewidth": 2
          }
         }
        },
        "title": {
         "font": {
          "size": 30
         },
         "text": "Top 3 Drivers Tyre Age and Lap Time \nSingapore 2023"
        },
        "xaxis": {
         "range": [
          0,
          63
         ],
         "title": {
          "text": "Tyre Age"
         }
        },
        "yaxis": {
         "title": {
          "text": "Lap Time (s)"
         }
        }
       }
      }
     },
     "metadata": {},
     "output_type": "display_data"
    }
   ],
   "source": [
    "# Example COMPOUND_COLORS dictionary for Plotly, adjust as necessary\n",
    "COMPOUND_COLORS = {\n",
    "    'SOFT': 'red',\n",
    "    'MEDIUM': 'yellow',\n",
    "    'HARD': 'white',  \n",
    "}\n",
    "\n",
    "fig = go.Figure()\n",
    "\n",
    "tyre_age = list(range(63))\n",
    "\n",
    "for dct in laptime_by_compound:\n",
    "    compound = dct[0]  # Extract compound type\n",
    "    a, b, c = get_quadratics(dct)  # Extract quadratic coefficients\n",
    "    \n",
    "    lap_time = [a*x**2 + b*x + c for x in tyre_age]\n",
    "    \n",
    "    color = COMPOUND_COLORS.get(compound, 'gray')\n",
    "    \n",
    "    fig.add_trace(go.Scatter(x=tyre_age, y=lap_time, mode='lines+markers',\n",
    "                             name=compound, line=dict(color=color)))\n",
    "\n",
    "fig.update_layout(\n",
    "    title='Top 3 Drivers Tyre Age and Lap Time \\nSingapore 2023',\n",
    "    title_font_size=30,\n",
    "    xaxis_title='Tyre Age',\n",
    "    yaxis_title='Lap Time (s)',\n",
    "    template=\"plotly_dark\",\n",
    "    xaxis=dict(range=[0, 63]),  # Adjust axis limits if necessary\n",
    ")\n",
    "\n",
    "fig.show()\n"
   ]
  },
  {
   "cell_type": "code",
   "execution_count": null,
   "id": "dcac83bb",
   "metadata": {},
   "outputs": [],
   "source": []
  },
  {
   "cell_type": "markdown",
   "id": "ca7996b3",
   "metadata": {},
   "source": [
    "## 3. Pit stop timings"
   ]
  },
  {
   "cell_type": "code",
   "execution_count": 21,
   "id": "cd9eedbf",
   "metadata": {},
   "outputs": [],
   "source": [
    "# average time (sec) spent at pit stop by team\n",
    "\n",
    "# extract pit enter and exit time\n",
    "pitstop = df.loc[(df.LapNumber != 1.0) & (df.PitInTime.combine_first(df.PitOutTime).notnull()) , ['Team','Driver','LapNumber','PitOutTime', 'PitInTime']].sort_values(by=['Team','Driver','LapNumber']).reset_index()\n",
    "\n",
    "# calculate time spent for each pit stop\n",
    "pitstop['pittime'] = (pitstop.PitOutTime - pitstop.PitInTime.shift(1)).dt.total_seconds()\n",
    "\n",
    "# aggregrate for each team\n",
    "pitstop_team_data = pitstop.groupby(['Team'])['pittime'].mean().sort_values().round(3)\n",
    "\n",
    "# for colour palette\n",
    "team_color = {}\n",
    "for team in pitstop_team_data.index:\n",
    "    team_color[team] = fastf1.plotting.driver_color(driver)\n",
    "\n",
    "# plt.figure(figsize=(20, 6))\n",
    "# sns.barplot(x=pitstop_team_data.index, y=pitstop_team_data.values, palette=team_color, edgecolor='black')\n",
    "# plt.ylabel('Time Taken (s)')\n",
    "# plt.xlabel('Team')\n",
    "# plt.ylim(19,30)\n",
    "# # to add data labels\n",
    "# for i in range(len(pitstop_team_data)):\n",
    "#     plt.text(i, min(pitstop_team_data[i],30)+0.1, pitstop_team_data[i], ha = 'center')  \n",
    "# plt.title('Average Time Spent on Pit Stops in Singapore\\n',  fontsize=20)"
   ]
  },
  {
   "cell_type": "code",
   "execution_count": 22,
   "id": "bd9de62a",
   "metadata": {},
   "outputs": [
    {
     "data": {
      "application/vnd.plotly.v1+json": {
       "config": {
        "plotlyServerURL": "https://plot.ly"
       },
       "data": [
        {
         "marker": {
          "color": [
           "#008d01",
           "#008d01",
           "#008d01",
           "#008d01",
           "#008d01",
           "#008d01",
           "#008d01",
           "#008d01",
           "#008d01",
           "#008d01"
          ],
          "line": {
           "color": "black",
           "width": 1.5
          }
         },
         "type": "bar",
         "x": [
          "Red Bull Racing",
          "McLaren",
          "Alfa Romeo",
          "Alpine",
          "Ferrari",
          "Mercedes",
          "AlphaTauri",
          "Haas F1 Team",
          "Williams",
          "Aston Martin"
         ],
         "y": [
          29.328,
          29.367,
          30.396,
          30.766,
          31.211,
          31.547,
          32.328,
          33.291,
          38.609,
          41.616
         ]
        }
       ],
       "layout": {
        "annotations": [
         {
          "showarrow": false,
          "text": "29.328",
          "x": "Red Bull Racing",
          "yshift": 10
         },
         {
          "showarrow": false,
          "text": "29.367",
          "x": "McLaren",
          "yshift": 10
         },
         {
          "showarrow": false,
          "text": "30.396",
          "x": "Alfa Romeo",
          "yshift": 10
         },
         {
          "showarrow": false,
          "text": "30.766",
          "x": "Alpine",
          "yshift": 10
         },
         {
          "showarrow": false,
          "text": "31.211",
          "x": "Ferrari",
          "yshift": 10
         },
         {
          "showarrow": false,
          "text": "31.547",
          "x": "Mercedes",
          "yshift": 10
         },
         {
          "showarrow": false,
          "text": "32.328",
          "x": "AlphaTauri",
          "yshift": 10
         },
         {
          "showarrow": false,
          "text": "33.291",
          "x": "Haas F1 Team",
          "yshift": 10
         },
         {
          "showarrow": false,
          "text": "38.609",
          "x": "Williams",
          "yshift": 10
         },
         {
          "showarrow": false,
          "text": "41.616",
          "x": "Aston Martin",
          "yshift": 10
         }
        ],
        "font": {
         "size": 12
        },
        "template": {
         "data": {
          "bar": [
           {
            "error_x": {
             "color": "#f2f5fa"
            },
            "error_y": {
             "color": "#f2f5fa"
            },
            "marker": {
             "line": {
              "color": "rgb(17,17,17)",
              "width": 0.5
             },
             "pattern": {
              "fillmode": "overlay",
              "size": 10,
              "solidity": 0.2
             }
            },
            "type": "bar"
           }
          ],
          "barpolar": [
           {
            "marker": {
             "line": {
              "color": "rgb(17,17,17)",
              "width": 0.5
             },
             "pattern": {
              "fillmode": "overlay",
              "size": 10,
              "solidity": 0.2
             }
            },
            "type": "barpolar"
           }
          ],
          "carpet": [
           {
            "aaxis": {
             "endlinecolor": "#A2B1C6",
             "gridcolor": "#506784",
             "linecolor": "#506784",
             "minorgridcolor": "#506784",
             "startlinecolor": "#A2B1C6"
            },
            "baxis": {
             "endlinecolor": "#A2B1C6",
             "gridcolor": "#506784",
             "linecolor": "#506784",
             "minorgridcolor": "#506784",
             "startlinecolor": "#A2B1C6"
            },
            "type": "carpet"
           }
          ],
          "choropleth": [
           {
            "colorbar": {
             "outlinewidth": 0,
             "ticks": ""
            },
            "type": "choropleth"
           }
          ],
          "contour": [
           {
            "colorbar": {
             "outlinewidth": 0,
             "ticks": ""
            },
            "colorscale": [
             [
              0,
              "#0d0887"
             ],
             [
              0.1111111111111111,
              "#46039f"
             ],
             [
              0.2222222222222222,
              "#7201a8"
             ],
             [
              0.3333333333333333,
              "#9c179e"
             ],
             [
              0.4444444444444444,
              "#bd3786"
             ],
             [
              0.5555555555555556,
              "#d8576b"
             ],
             [
              0.6666666666666666,
              "#ed7953"
             ],
             [
              0.7777777777777778,
              "#fb9f3a"
             ],
             [
              0.8888888888888888,
              "#fdca26"
             ],
             [
              1,
              "#f0f921"
             ]
            ],
            "type": "contour"
           }
          ],
          "contourcarpet": [
           {
            "colorbar": {
             "outlinewidth": 0,
             "ticks": ""
            },
            "type": "contourcarpet"
           }
          ],
          "heatmap": [
           {
            "colorbar": {
             "outlinewidth": 0,
             "ticks": ""
            },
            "colorscale": [
             [
              0,
              "#0d0887"
             ],
             [
              0.1111111111111111,
              "#46039f"
             ],
             [
              0.2222222222222222,
              "#7201a8"
             ],
             [
              0.3333333333333333,
              "#9c179e"
             ],
             [
              0.4444444444444444,
              "#bd3786"
             ],
             [
              0.5555555555555556,
              "#d8576b"
             ],
             [
              0.6666666666666666,
              "#ed7953"
             ],
             [
              0.7777777777777778,
              "#fb9f3a"
             ],
             [
              0.8888888888888888,
              "#fdca26"
             ],
             [
              1,
              "#f0f921"
             ]
            ],
            "type": "heatmap"
           }
          ],
          "heatmapgl": [
           {
            "colorbar": {
             "outlinewidth": 0,
             "ticks": ""
            },
            "colorscale": [
             [
              0,
              "#0d0887"
             ],
             [
              0.1111111111111111,
              "#46039f"
             ],
             [
              0.2222222222222222,
              "#7201a8"
             ],
             [
              0.3333333333333333,
              "#9c179e"
             ],
             [
              0.4444444444444444,
              "#bd3786"
             ],
             [
              0.5555555555555556,
              "#d8576b"
             ],
             [
              0.6666666666666666,
              "#ed7953"
             ],
             [
              0.7777777777777778,
              "#fb9f3a"
             ],
             [
              0.8888888888888888,
              "#fdca26"
             ],
             [
              1,
              "#f0f921"
             ]
            ],
            "type": "heatmapgl"
           }
          ],
          "histogram": [
           {
            "marker": {
             "pattern": {
              "fillmode": "overlay",
              "size": 10,
              "solidity": 0.2
             }
            },
            "type": "histogram"
           }
          ],
          "histogram2d": [
           {
            "colorbar": {
             "outlinewidth": 0,
             "ticks": ""
            },
            "colorscale": [
             [
              0,
              "#0d0887"
             ],
             [
              0.1111111111111111,
              "#46039f"
             ],
             [
              0.2222222222222222,
              "#7201a8"
             ],
             [
              0.3333333333333333,
              "#9c179e"
             ],
             [
              0.4444444444444444,
              "#bd3786"
             ],
             [
              0.5555555555555556,
              "#d8576b"
             ],
             [
              0.6666666666666666,
              "#ed7953"
             ],
             [
              0.7777777777777778,
              "#fb9f3a"
             ],
             [
              0.8888888888888888,
              "#fdca26"
             ],
             [
              1,
              "#f0f921"
             ]
            ],
            "type": "histogram2d"
           }
          ],
          "histogram2dcontour": [
           {
            "colorbar": {
             "outlinewidth": 0,
             "ticks": ""
            },
            "colorscale": [
             [
              0,
              "#0d0887"
             ],
             [
              0.1111111111111111,
              "#46039f"
             ],
             [
              0.2222222222222222,
              "#7201a8"
             ],
             [
              0.3333333333333333,
              "#9c179e"
             ],
             [
              0.4444444444444444,
              "#bd3786"
             ],
             [
              0.5555555555555556,
              "#d8576b"
             ],
             [
              0.6666666666666666,
              "#ed7953"
             ],
             [
              0.7777777777777778,
              "#fb9f3a"
             ],
             [
              0.8888888888888888,
              "#fdca26"
             ],
             [
              1,
              "#f0f921"
             ]
            ],
            "type": "histogram2dcontour"
           }
          ],
          "mesh3d": [
           {
            "colorbar": {
             "outlinewidth": 0,
             "ticks": ""
            },
            "type": "mesh3d"
           }
          ],
          "parcoords": [
           {
            "line": {
             "colorbar": {
              "outlinewidth": 0,
              "ticks": ""
             }
            },
            "type": "parcoords"
           }
          ],
          "pie": [
           {
            "automargin": true,
            "type": "pie"
           }
          ],
          "scatter": [
           {
            "marker": {
             "line": {
              "color": "#283442"
             }
            },
            "type": "scatter"
           }
          ],
          "scatter3d": [
           {
            "line": {
             "colorbar": {
              "outlinewidth": 0,
              "ticks": ""
             }
            },
            "marker": {
             "colorbar": {
              "outlinewidth": 0,
              "ticks": ""
             }
            },
            "type": "scatter3d"
           }
          ],
          "scattercarpet": [
           {
            "marker": {
             "colorbar": {
              "outlinewidth": 0,
              "ticks": ""
             }
            },
            "type": "scattercarpet"
           }
          ],
          "scattergeo": [
           {
            "marker": {
             "colorbar": {
              "outlinewidth": 0,
              "ticks": ""
             }
            },
            "type": "scattergeo"
           }
          ],
          "scattergl": [
           {
            "marker": {
             "line": {
              "color": "#283442"
             }
            },
            "type": "scattergl"
           }
          ],
          "scattermapbox": [
           {
            "marker": {
             "colorbar": {
              "outlinewidth": 0,
              "ticks": ""
             }
            },
            "type": "scattermapbox"
           }
          ],
          "scatterpolar": [
           {
            "marker": {
             "colorbar": {
              "outlinewidth": 0,
              "ticks": ""
             }
            },
            "type": "scatterpolar"
           }
          ],
          "scatterpolargl": [
           {
            "marker": {
             "colorbar": {
              "outlinewidth": 0,
              "ticks": ""
             }
            },
            "type": "scatterpolargl"
           }
          ],
          "scatterternary": [
           {
            "marker": {
             "colorbar": {
              "outlinewidth": 0,
              "ticks": ""
             }
            },
            "type": "scatterternary"
           }
          ],
          "surface": [
           {
            "colorbar": {
             "outlinewidth": 0,
             "ticks": ""
            },
            "colorscale": [
             [
              0,
              "#0d0887"
             ],
             [
              0.1111111111111111,
              "#46039f"
             ],
             [
              0.2222222222222222,
              "#7201a8"
             ],
             [
              0.3333333333333333,
              "#9c179e"
             ],
             [
              0.4444444444444444,
              "#bd3786"
             ],
             [
              0.5555555555555556,
              "#d8576b"
             ],
             [
              0.6666666666666666,
              "#ed7953"
             ],
             [
              0.7777777777777778,
              "#fb9f3a"
             ],
             [
              0.8888888888888888,
              "#fdca26"
             ],
             [
              1,
              "#f0f921"
             ]
            ],
            "type": "surface"
           }
          ],
          "table": [
           {
            "cells": {
             "fill": {
              "color": "#506784"
             },
             "line": {
              "color": "rgb(17,17,17)"
             }
            },
            "header": {
             "fill": {
              "color": "#2a3f5f"
             },
             "line": {
              "color": "rgb(17,17,17)"
             }
            },
            "type": "table"
           }
          ]
         },
         "layout": {
          "annotationdefaults": {
           "arrowcolor": "#f2f5fa",
           "arrowhead": 0,
           "arrowwidth": 1
          },
          "autotypenumbers": "strict",
          "coloraxis": {
           "colorbar": {
            "outlinewidth": 0,
            "ticks": ""
           }
          },
          "colorscale": {
           "diverging": [
            [
             0,
             "#8e0152"
            ],
            [
             0.1,
             "#c51b7d"
            ],
            [
             0.2,
             "#de77ae"
            ],
            [
             0.3,
             "#f1b6da"
            ],
            [
             0.4,
             "#fde0ef"
            ],
            [
             0.5,
             "#f7f7f7"
            ],
            [
             0.6,
             "#e6f5d0"
            ],
            [
             0.7,
             "#b8e186"
            ],
            [
             0.8,
             "#7fbc41"
            ],
            [
             0.9,
             "#4d9221"
            ],
            [
             1,
             "#276419"
            ]
           ],
           "sequential": [
            [
             0,
             "#0d0887"
            ],
            [
             0.1111111111111111,
             "#46039f"
            ],
            [
             0.2222222222222222,
             "#7201a8"
            ],
            [
             0.3333333333333333,
             "#9c179e"
            ],
            [
             0.4444444444444444,
             "#bd3786"
            ],
            [
             0.5555555555555556,
             "#d8576b"
            ],
            [
             0.6666666666666666,
             "#ed7953"
            ],
            [
             0.7777777777777778,
             "#fb9f3a"
            ],
            [
             0.8888888888888888,
             "#fdca26"
            ],
            [
             1,
             "#f0f921"
            ]
           ],
           "sequentialminus": [
            [
             0,
             "#0d0887"
            ],
            [
             0.1111111111111111,
             "#46039f"
            ],
            [
             0.2222222222222222,
             "#7201a8"
            ],
            [
             0.3333333333333333,
             "#9c179e"
            ],
            [
             0.4444444444444444,
             "#bd3786"
            ],
            [
             0.5555555555555556,
             "#d8576b"
            ],
            [
             0.6666666666666666,
             "#ed7953"
            ],
            [
             0.7777777777777778,
             "#fb9f3a"
            ],
            [
             0.8888888888888888,
             "#fdca26"
            ],
            [
             1,
             "#f0f921"
            ]
           ]
          },
          "colorway": [
           "#636efa",
           "#EF553B",
           "#00cc96",
           "#ab63fa",
           "#FFA15A",
           "#19d3f3",
           "#FF6692",
           "#B6E880",
           "#FF97FF",
           "#FECB52"
          ],
          "font": {
           "color": "#f2f5fa"
          },
          "geo": {
           "bgcolor": "rgb(17,17,17)",
           "lakecolor": "rgb(17,17,17)",
           "landcolor": "rgb(17,17,17)",
           "showlakes": true,
           "showland": true,
           "subunitcolor": "#506784"
          },
          "hoverlabel": {
           "align": "left"
          },
          "hovermode": "closest",
          "mapbox": {
           "style": "dark"
          },
          "paper_bgcolor": "rgb(17,17,17)",
          "plot_bgcolor": "rgb(17,17,17)",
          "polar": {
           "angularaxis": {
            "gridcolor": "#506784",
            "linecolor": "#506784",
            "ticks": ""
           },
           "bgcolor": "rgb(17,17,17)",
           "radialaxis": {
            "gridcolor": "#506784",
            "linecolor": "#506784",
            "ticks": ""
           }
          },
          "scene": {
           "xaxis": {
            "backgroundcolor": "rgb(17,17,17)",
            "gridcolor": "#506784",
            "gridwidth": 2,
            "linecolor": "#506784",
            "showbackground": true,
            "ticks": "",
            "zerolinecolor": "#C8D4E3"
           },
           "yaxis": {
            "backgroundcolor": "rgb(17,17,17)",
            "gridcolor": "#506784",
            "gridwidth": 2,
            "linecolor": "#506784",
            "showbackground": true,
            "ticks": "",
            "zerolinecolor": "#C8D4E3"
           },
           "zaxis": {
            "backgroundcolor": "rgb(17,17,17)",
            "gridcolor": "#506784",
            "gridwidth": 2,
            "linecolor": "#506784",
            "showbackground": true,
            "ticks": "",
            "zerolinecolor": "#C8D4E3"
           }
          },
          "shapedefaults": {
           "line": {
            "color": "#f2f5fa"
           }
          },
          "sliderdefaults": {
           "bgcolor": "#C8D4E3",
           "bordercolor": "rgb(17,17,17)",
           "borderwidth": 1,
           "tickwidth": 0
          },
          "ternary": {
           "aaxis": {
            "gridcolor": "#506784",
            "linecolor": "#506784",
            "ticks": ""
           },
           "baxis": {
            "gridcolor": "#506784",
            "linecolor": "#506784",
            "ticks": ""
           },
           "bgcolor": "rgb(17,17,17)",
           "caxis": {
            "gridcolor": "#506784",
            "linecolor": "#506784",
            "ticks": ""
           }
          },
          "title": {
           "x": 0.05
          },
          "updatemenudefaults": {
           "bgcolor": "#506784",
           "borderwidth": 0
          },
          "xaxis": {
           "automargin": true,
           "gridcolor": "#283442",
           "linecolor": "#506784",
           "ticks": "",
           "title": {
            "standoff": 15
           },
           "zerolinecolor": "#283442",
           "zerolinewidth": 2
          },
          "yaxis": {
           "automargin": true,
           "gridcolor": "#283442",
           "linecolor": "#506784",
           "ticks": "",
           "title": {
            "standoff": 15
           },
           "zerolinecolor": "#283442",
           "zerolinewidth": 2
          }
         }
        },
        "title": {
         "font": {
          "size": 20
         },
         "text": "Average Time Spent on Pit Stops in Singapore",
         "x": 0.5
        },
        "xaxis": {
         "title": {
          "text": "Team"
         }
        },
        "yaxis": {
         "title": {
          "text": "Time Taken (s)"
         }
        }
       }
      }
     },
     "metadata": {},
     "output_type": "display_data"
    }
   ],
   "source": [
    "import plotly.graph_objects as go\n",
    "import numpy as np\n",
    "\n",
    "# Assuming 'teams' is a list of team names in the same order as 'pitstop_team_data' values.\n",
    "# 'pitstop_team_data' contains the average pit stop times for each team.\n",
    "# 'team_color' is a dictionary with team names as keys and color codes as values.\n",
    "\n",
    "# Convert 'pitstop_team_data' to a list if it's not already (assuming it might be a NumPy array)\n",
    "times = pitstop_team_data.tolist() if isinstance(pitstop_team_data, np.ndarray) else pitstop_team_data\n",
    "\n",
    "colors = [team_color[team] for team in pitstop_team_data.index]\n",
    "\n",
    "fig = go.Figure()\n",
    "\n",
    "# Create the bar chart\n",
    "fig.add_trace(go.Bar(\n",
    "    x=pitstop_team_data.index,\n",
    "    y=times,\n",
    "    marker_color=colors, # Set the bar colors\n",
    "    marker_line_color='black', # Edge color of the bars\n",
    "    marker_line_width=1.5, # Edge line width\n",
    "))\n",
    "\n",
    "# Add data labels for each bar\n",
    "for i, time in enumerate(times):\n",
    "    fig.add_annotation(\n",
    "        x=pitstop_team_data.index[i],\n",
    "        # y=min(time, 30) + 0.1,\n",
    "        text=str(time),\n",
    "        showarrow=False,\n",
    "        yshift=10,\n",
    "    )\n",
    "\n",
    "# Update the layout\n",
    "fig.update_layout(\n",
    "    title='Average Time Spent on Pit Stops in Singapore',\n",
    "    title_x=0.5, # Center the title\n",
    "    xaxis_title='Team',\n",
    "    yaxis_title='Time Taken (s)',\n",
    "    # yaxis_range=[19,35], # Set the y-axis limits\n",
    "    template='plotly_dark', # Choose a theme\n",
    "    font=dict(size=12), # General font size\n",
    "    title_font=dict(size=20), # Title font size\n",
    ")\n",
    "\n",
    "fig.show()\n"
   ]
  },
  {
   "cell_type": "code",
   "execution_count": 23,
   "id": "d8b8d10f",
   "metadata": {},
   "outputs": [],
   "source": [
    "# average time (sec) spent at pit stop by driver\n",
    "pitstop_driver_data = pitstop.groupby(['Driver'])['pittime'].mean().sort_values().round(3)\n",
    "\n",
    "# plt.figure(figsize=(20, 10))\n",
    "# sns.barplot(x=pitstop_driver_data.index, y=pitstop_driver_data.values, palette=driver_color, edgecolor='black')\n",
    "# plt.ylabel('Time Taken (s)')\n",
    "# plt.xlabel('Team')\n",
    "# plt.ylim(pitstop_driver_data[0]-1, pitstop_driver_data[10]+5)\n",
    "# # to add data labels\n",
    "# for i in range(len(pitstop_driver_data)):\n",
    "#     plt.text(i, min(pitstop_driver_data[i],pitstop_driver_data[10]+5)+0.1, pitstop_driver_data[i], ha = 'center')  \n",
    "# plt.title('Total Time Spent on Pit Stops (Driver) in Singapore 2023',  fontsize=20)"
   ]
  },
  {
   "cell_type": "code",
   "execution_count": 24,
   "id": "7d6937a4",
   "metadata": {},
   "outputs": [
    {
     "data": {
      "application/vnd.plotly.v1+json": {
       "config": {
        "plotlyServerURL": "https://plot.ly"
       },
       "data": [
        {
         "alignmentgroup": "True",
         "hovertemplate": "Driver=%{x}<br>y=%{y}<br>text=%{text}<extra></extra>",
         "legendgroup": "",
         "marker": {
          "color": "#ffec7b",
          "pattern": {
           "shape": ""
          }
         },
         "name": "",
         "offsetgroup": "",
         "orientation": "v",
         "showlegend": false,
         "text": [
          28.984
         ],
         "textposition": "outside",
         "texttemplate": "%{text}s",
         "type": "bar",
         "x": [
          "PER"
         ],
         "xaxis": "x",
         "y": [
          28.984
         ],
         "yaxis": "y"
        },
        {
         "alignmentgroup": "True",
         "hovertemplate": "Driver=%{x}<br>y=%{y}<br>text=%{text}<extra></extra>",
         "legendgroup": "",
         "marker": {
          "color": "#ff8700",
          "pattern": {
           "shape": ""
          }
         },
         "name": "",
         "offsetgroup": "",
         "orientation": "v",
         "showlegend": false,
         "text": [
          29.265
         ],
         "textposition": "outside",
         "texttemplate": "%{text}s",
         "type": "bar",
         "x": [
          "PIA"
         ],
         "xaxis": "x",
         "y": [
          29.265
         ],
         "yaxis": "y"
        },
        {
         "alignmentgroup": "True",
         "hovertemplate": "Driver=%{x}<br>y=%{y}<br>text=%{text}<extra></extra>",
         "legendgroup": "",
         "marker": {
          "color": "#eeb370",
          "pattern": {
           "shape": ""
          }
         },
         "name": "",
         "offsetgroup": "",
         "orientation": "v",
         "showlegend": false,
         "text": [
          29.469
         ],
         "textposition": "outside",
         "texttemplate": "%{text}s",
         "type": "bar",
         "x": [
          "NOR"
         ],
         "xaxis": "x",
         "y": [
          29.469
         ],
         "yaxis": "y"
        },
        {
         "alignmentgroup": "True",
         "hovertemplate": "Driver=%{x}<br>y=%{y}<br>text=%{text}<extra></extra>",
         "legendgroup": "",
         "marker": {
          "color": "#ff8181",
          "pattern": {
           "shape": ""
          }
         },
         "name": "",
         "offsetgroup": "",
         "orientation": "v",
         "showlegend": false,
         "text": [
          29.531
         ],
         "textposition": "outside",
         "texttemplate": "%{text}s",
         "type": "bar",
         "x": [
          "SAI"
         ],
         "xaxis": "x",
         "y": [
          29.531
         ],
         "yaxis": "y"
        },
        {
         "alignmentgroup": "True",
         "hovertemplate": "Driver=%{x}<br>y=%{y}<br>text=%{text}<extra></extra>",
         "legendgroup": "",
         "marker": {
          "color": "#fcd700",
          "pattern": {
           "shape": ""
          }
         },
         "name": "",
         "offsetgroup": "",
         "orientation": "v",
         "showlegend": false,
         "text": [
          29.671
         ],
         "textposition": "outside",
         "texttemplate": "%{text}s",
         "type": "bar",
         "x": [
          "VER"
         ],
         "xaxis": "x",
         "y": [
          29.671
         ],
         "yaxis": "y"
        },
        {
         "alignmentgroup": "True",
         "hovertemplate": "Driver=%{x}<br>y=%{y}<br>text=%{text}<extra></extra>",
         "legendgroup": "",
         "marker": {
          "color": "#ff117c",
          "pattern": {
           "shape": ""
          }
         },
         "name": "",
         "offsetgroup": "",
         "orientation": "v",
         "showlegend": false,
         "text": [
          29.734
         ],
         "textposition": "outside",
         "texttemplate": "%{text}s",
         "type": "bar",
         "x": [
          "OCO"
         ],
         "xaxis": "x",
         "y": [
          29.734
         ],
         "yaxis": "y"
        },
        {
         "alignmentgroup": "True",
         "hovertemplate": "Driver=%{x}<br>y=%{y}<br>text=%{text}<extra></extra>",
         "legendgroup": "",
         "marker": {
          "color": "#005aff",
          "pattern": {
           "shape": ""
          }
         },
         "name": "",
         "offsetgroup": "",
         "orientation": "v",
         "showlegend": false,
         "text": [
          29.953
         ],
         "textposition": "outside",
         "texttemplate": "%{text}s",
         "type": "bar",
         "x": [
          "ALB"
         ],
         "xaxis": "x",
         "y": [
          29.953
         ],
         "yaxis": "y"
        },
        {
         "alignmentgroup": "True",
         "hovertemplate": "Driver=%{x}<br>y=%{y}<br>text=%{text}<extra></extra>",
         "legendgroup": "",
         "marker": {
          "color": "#24ffff",
          "pattern": {
           "shape": ""
          }
         },
         "name": "",
         "offsetgroup": "",
         "orientation": "v",
         "showlegend": false,
         "text": [
          30.008
         ],
         "textposition": "outside",
         "texttemplate": "%{text}s",
         "type": "bar",
         "x": [
          "RUS"
         ],
         "xaxis": "x",
         "y": [
          30.008
         ],
         "yaxis": "y"
        },
        {
         "alignmentgroup": "True",
         "hovertemplate": "Driver=%{x}<br>y=%{y}<br>text=%{text}<extra></extra>",
         "legendgroup": "",
         "marker": {
          "color": "#008d01",
          "pattern": {
           "shape": ""
          }
         },
         "name": "",
         "offsetgroup": "",
         "orientation": "v",
         "showlegend": false,
         "text": [
          30.344
         ],
         "textposition": "outside",
         "texttemplate": "%{text}s",
         "type": "bar",
         "x": [
          "ZHO"
         ],
         "xaxis": "x",
         "y": [
          30.344
         ],
         "yaxis": "y"
        },
        {
         "alignmentgroup": "True",
         "hovertemplate": "Driver=%{x}<br>y=%{y}<br>text=%{text}<extra></extra>",
         "legendgroup": "",
         "marker": {
          "color": "#00e701",
          "pattern": {
           "shape": ""
          }
         },
         "name": "",
         "offsetgroup": "",
         "orientation": "v",
         "showlegend": false,
         "text": [
          30.5
         ],
         "textposition": "outside",
         "texttemplate": "%{text}s",
         "type": "bar",
         "x": [
          "BOT"
         ],
         "xaxis": "x",
         "y": [
          30.5
         ],
         "yaxis": "y"
        },
        {
         "alignmentgroup": "True",
         "hovertemplate": "Driver=%{x}<br>y=%{y}<br>text=%{text}<extra></extra>",
         "legendgroup": "",
         "marker": {
          "color": "#fe86bc",
          "pattern": {
           "shape": ""
          }
         },
         "name": "",
         "offsetgroup": "",
         "orientation": "v",
         "showlegend": false,
         "text": [
          31.797
         ],
         "textposition": "outside",
         "texttemplate": "%{text}s",
         "type": "bar",
         "x": [
          "GAS"
         ],
         "xaxis": "x",
         "y": [
          31.797
         ],
         "yaxis": "y"
        },
        {
         "alignmentgroup": "True",
         "hovertemplate": "Driver=%{x}<br>y=%{y}<br>text=%{text}<extra></extra>",
         "legendgroup": "",
         "marker": {
          "color": "#ffffff",
          "pattern": {
           "shape": ""
          }
         },
         "name": "",
         "offsetgroup": "",
         "orientation": "v",
         "showlegend": false,
         "text": [
          32.195
         ],
         "textposition": "outside",
         "texttemplate": "%{text}s",
         "type": "bar",
         "x": [
          "MAG"
         ],
         "xaxis": "x",
         "y": [
          32.195
         ],
         "yaxis": "y"
        },
        {
         "alignmentgroup": "True",
         "hovertemplate": "Driver=%{x}<br>y=%{y}<br>text=%{text}<extra></extra>",
         "legendgroup": "",
         "marker": {
          "color": "#2b4562",
          "pattern": {
           "shape": ""
          }
         },
         "name": "",
         "offsetgroup": "",
         "orientation": "v",
         "showlegend": false,
         "text": [
          32.328
         ],
         "textposition": "outside",
         "texttemplate": "%{text}s",
         "type": "bar",
         "x": [
          "LAW"
         ],
         "xaxis": "x",
         "y": [
          32.328
         ],
         "yaxis": "y"
        },
        {
         "alignmentgroup": "True",
         "hovertemplate": "Driver=%{x}<br>y=%{y}<br>text=%{text}<extra></extra>",
         "legendgroup": "",
         "marker": {
          "color": "#dc0000",
          "pattern": {
           "shape": ""
          }
         },
         "name": "",
         "offsetgroup": "",
         "orientation": "v",
         "showlegend": false,
         "text": [
          32.891
         ],
         "textposition": "outside",
         "texttemplate": "%{text}s",
         "type": "bar",
         "x": [
          "LEC"
         ],
         "xaxis": "x",
         "y": [
          32.891
         ],
         "yaxis": "y"
        },
        {
         "alignmentgroup": "True",
         "hovertemplate": "Driver=%{x}<br>y=%{y}<br>text=%{text}<extra></extra>",
         "legendgroup": "",
         "marker": {
          "color": "#00d2be",
          "pattern": {
           "shape": ""
          }
         },
         "name": "",
         "offsetgroup": "",
         "orientation": "v",
         "showlegend": false,
         "text": [
          33.086
         ],
         "textposition": "outside",
         "texttemplate": "%{text}s",
         "type": "bar",
         "x": [
          "HAM"
         ],
         "xaxis": "x",
         "y": [
          33.086
         ],
         "yaxis": "y"
        },
        {
         "alignmentgroup": "True",
         "hovertemplate": "Driver=%{x}<br>y=%{y}<br>text=%{text}<extra></extra>",
         "legendgroup": "",
         "marker": {
          "color": "#cacaca",
          "pattern": {
           "shape": ""
          }
         },
         "name": "",
         "offsetgroup": "",
         "orientation": "v",
         "showlegend": false,
         "text": [
          35.484
         ],
         "textposition": "outside",
         "texttemplate": "%{text}s",
         "type": "bar",
         "x": [
          "HUL"
         ],
         "xaxis": "x",
         "y": [
          35.484
         ],
         "yaxis": "y"
        },
        {
         "alignmentgroup": "True",
         "hovertemplate": "Driver=%{x}<br>y=%{y}<br>text=%{text}<extra></extra>",
         "legendgroup": "",
         "marker": {
          "color": "#006f62",
          "pattern": {
           "shape": ""
          }
         },
         "name": "",
         "offsetgroup": "",
         "orientation": "v",
         "showlegend": false,
         "text": [
          41.616
         ],
         "textposition": "outside",
         "texttemplate": "%{text}s",
         "type": "bar",
         "x": [
          "ALO"
         ],
         "xaxis": "x",
         "y": [
          41.616
         ],
         "yaxis": "y"
        },
        {
         "alignmentgroup": "True",
         "hovertemplate": "Driver=%{x}<br>y=%{y}<br>text=%{text}<extra></extra>",
         "legendgroup": "",
         "marker": {
          "color": "#012564",
          "pattern": {
           "shape": ""
          }
         },
         "name": "",
         "offsetgroup": "",
         "orientation": "v",
         "showlegend": false,
         "text": [
          47.265
         ],
         "textposition": "outside",
         "texttemplate": "%{text}s",
         "type": "bar",
         "x": [
          "SAR"
         ],
         "xaxis": "x",
         "y": [
          47.265
         ],
         "yaxis": "y"
        }
       ],
       "layout": {
        "barmode": "relative",
        "legend": {
         "tracegroupgap": 0
        },
        "margin": {
         "t": 60
        },
        "template": {
         "data": {
          "bar": [
           {
            "error_x": {
             "color": "#2a3f5f"
            },
            "error_y": {
             "color": "#2a3f5f"
            },
            "marker": {
             "line": {
              "color": "#E5ECF6",
              "width": 0.5
             },
             "pattern": {
              "fillmode": "overlay",
              "size": 10,
              "solidity": 0.2
             }
            },
            "type": "bar"
           }
          ],
          "barpolar": [
           {
            "marker": {
             "line": {
              "color": "#E5ECF6",
              "width": 0.5
             },
             "pattern": {
              "fillmode": "overlay",
              "size": 10,
              "solidity": 0.2
             }
            },
            "type": "barpolar"
           }
          ],
          "carpet": [
           {
            "aaxis": {
             "endlinecolor": "#2a3f5f",
             "gridcolor": "white",
             "linecolor": "white",
             "minorgridcolor": "white",
             "startlinecolor": "#2a3f5f"
            },
            "baxis": {
             "endlinecolor": "#2a3f5f",
             "gridcolor": "white",
             "linecolor": "white",
             "minorgridcolor": "white",
             "startlinecolor": "#2a3f5f"
            },
            "type": "carpet"
           }
          ],
          "choropleth": [
           {
            "colorbar": {
             "outlinewidth": 0,
             "ticks": ""
            },
            "type": "choropleth"
           }
          ],
          "contour": [
           {
            "colorbar": {
             "outlinewidth": 0,
             "ticks": ""
            },
            "colorscale": [
             [
              0,
              "#0d0887"
             ],
             [
              0.1111111111111111,
              "#46039f"
             ],
             [
              0.2222222222222222,
              "#7201a8"
             ],
             [
              0.3333333333333333,
              "#9c179e"
             ],
             [
              0.4444444444444444,
              "#bd3786"
             ],
             [
              0.5555555555555556,
              "#d8576b"
             ],
             [
              0.6666666666666666,
              "#ed7953"
             ],
             [
              0.7777777777777778,
              "#fb9f3a"
             ],
             [
              0.8888888888888888,
              "#fdca26"
             ],
             [
              1,
              "#f0f921"
             ]
            ],
            "type": "contour"
           }
          ],
          "contourcarpet": [
           {
            "colorbar": {
             "outlinewidth": 0,
             "ticks": ""
            },
            "type": "contourcarpet"
           }
          ],
          "heatmap": [
           {
            "colorbar": {
             "outlinewidth": 0,
             "ticks": ""
            },
            "colorscale": [
             [
              0,
              "#0d0887"
             ],
             [
              0.1111111111111111,
              "#46039f"
             ],
             [
              0.2222222222222222,
              "#7201a8"
             ],
             [
              0.3333333333333333,
              "#9c179e"
             ],
             [
              0.4444444444444444,
              "#bd3786"
             ],
             [
              0.5555555555555556,
              "#d8576b"
             ],
             [
              0.6666666666666666,
              "#ed7953"
             ],
             [
              0.7777777777777778,
              "#fb9f3a"
             ],
             [
              0.8888888888888888,
              "#fdca26"
             ],
             [
              1,
              "#f0f921"
             ]
            ],
            "type": "heatmap"
           }
          ],
          "heatmapgl": [
           {
            "colorbar": {
             "outlinewidth": 0,
             "ticks": ""
            },
            "colorscale": [
             [
              0,
              "#0d0887"
             ],
             [
              0.1111111111111111,
              "#46039f"
             ],
             [
              0.2222222222222222,
              "#7201a8"
             ],
             [
              0.3333333333333333,
              "#9c179e"
             ],
             [
              0.4444444444444444,
              "#bd3786"
             ],
             [
              0.5555555555555556,
              "#d8576b"
             ],
             [
              0.6666666666666666,
              "#ed7953"
             ],
             [
              0.7777777777777778,
              "#fb9f3a"
             ],
             [
              0.8888888888888888,
              "#fdca26"
             ],
             [
              1,
              "#f0f921"
             ]
            ],
            "type": "heatmapgl"
           }
          ],
          "histogram": [
           {
            "marker": {
             "pattern": {
              "fillmode": "overlay",
              "size": 10,
              "solidity": 0.2
             }
            },
            "type": "histogram"
           }
          ],
          "histogram2d": [
           {
            "colorbar": {
             "outlinewidth": 0,
             "ticks": ""
            },
            "colorscale": [
             [
              0,
              "#0d0887"
             ],
             [
              0.1111111111111111,
              "#46039f"
             ],
             [
              0.2222222222222222,
              "#7201a8"
             ],
             [
              0.3333333333333333,
              "#9c179e"
             ],
             [
              0.4444444444444444,
              "#bd3786"
             ],
             [
              0.5555555555555556,
              "#d8576b"
             ],
             [
              0.6666666666666666,
              "#ed7953"
             ],
             [
              0.7777777777777778,
              "#fb9f3a"
             ],
             [
              0.8888888888888888,
              "#fdca26"
             ],
             [
              1,
              "#f0f921"
             ]
            ],
            "type": "histogram2d"
           }
          ],
          "histogram2dcontour": [
           {
            "colorbar": {
             "outlinewidth": 0,
             "ticks": ""
            },
            "colorscale": [
             [
              0,
              "#0d0887"
             ],
             [
              0.1111111111111111,
              "#46039f"
             ],
             [
              0.2222222222222222,
              "#7201a8"
             ],
             [
              0.3333333333333333,
              "#9c179e"
             ],
             [
              0.4444444444444444,
              "#bd3786"
             ],
             [
              0.5555555555555556,
              "#d8576b"
             ],
             [
              0.6666666666666666,
              "#ed7953"
             ],
             [
              0.7777777777777778,
              "#fb9f3a"
             ],
             [
              0.8888888888888888,
              "#fdca26"
             ],
             [
              1,
              "#f0f921"
             ]
            ],
            "type": "histogram2dcontour"
           }
          ],
          "mesh3d": [
           {
            "colorbar": {
             "outlinewidth": 0,
             "ticks": ""
            },
            "type": "mesh3d"
           }
          ],
          "parcoords": [
           {
            "line": {
             "colorbar": {
              "outlinewidth": 0,
              "ticks": ""
             }
            },
            "type": "parcoords"
           }
          ],
          "pie": [
           {
            "automargin": true,
            "type": "pie"
           }
          ],
          "scatter": [
           {
            "fillpattern": {
             "fillmode": "overlay",
             "size": 10,
             "solidity": 0.2
            },
            "type": "scatter"
           }
          ],
          "scatter3d": [
           {
            "line": {
             "colorbar": {
              "outlinewidth": 0,
              "ticks": ""
             }
            },
            "marker": {
             "colorbar": {
              "outlinewidth": 0,
              "ticks": ""
             }
            },
            "type": "scatter3d"
           }
          ],
          "scattercarpet": [
           {
            "marker": {
             "colorbar": {
              "outlinewidth": 0,
              "ticks": ""
             }
            },
            "type": "scattercarpet"
           }
          ],
          "scattergeo": [
           {
            "marker": {
             "colorbar": {
              "outlinewidth": 0,
              "ticks": ""
             }
            },
            "type": "scattergeo"
           }
          ],
          "scattergl": [
           {
            "marker": {
             "colorbar": {
              "outlinewidth": 0,
              "ticks": ""
             }
            },
            "type": "scattergl"
           }
          ],
          "scattermapbox": [
           {
            "marker": {
             "colorbar": {
              "outlinewidth": 0,
              "ticks": ""
             }
            },
            "type": "scattermapbox"
           }
          ],
          "scatterpolar": [
           {
            "marker": {
             "colorbar": {
              "outlinewidth": 0,
              "ticks": ""
             }
            },
            "type": "scatterpolar"
           }
          ],
          "scatterpolargl": [
           {
            "marker": {
             "colorbar": {
              "outlinewidth": 0,
              "ticks": ""
             }
            },
            "type": "scatterpolargl"
           }
          ],
          "scatterternary": [
           {
            "marker": {
             "colorbar": {
              "outlinewidth": 0,
              "ticks": ""
             }
            },
            "type": "scatterternary"
           }
          ],
          "surface": [
           {
            "colorbar": {
             "outlinewidth": 0,
             "ticks": ""
            },
            "colorscale": [
             [
              0,
              "#0d0887"
             ],
             [
              0.1111111111111111,
              "#46039f"
             ],
             [
              0.2222222222222222,
              "#7201a8"
             ],
             [
              0.3333333333333333,
              "#9c179e"
             ],
             [
              0.4444444444444444,
              "#bd3786"
             ],
             [
              0.5555555555555556,
              "#d8576b"
             ],
             [
              0.6666666666666666,
              "#ed7953"
             ],
             [
              0.7777777777777778,
              "#fb9f3a"
             ],
             [
              0.8888888888888888,
              "#fdca26"
             ],
             [
              1,
              "#f0f921"
             ]
            ],
            "type": "surface"
           }
          ],
          "table": [
           {
            "cells": {
             "fill": {
              "color": "#EBF0F8"
             },
             "line": {
              "color": "white"
             }
            },
            "header": {
             "fill": {
              "color": "#C8D4E3"
             },
             "line": {
              "color": "white"
             }
            },
            "type": "table"
           }
          ]
         },
         "layout": {
          "annotationdefaults": {
           "arrowcolor": "#2a3f5f",
           "arrowhead": 0,
           "arrowwidth": 1
          },
          "autotypenumbers": "strict",
          "coloraxis": {
           "colorbar": {
            "outlinewidth": 0,
            "ticks": ""
           }
          },
          "colorscale": {
           "diverging": [
            [
             0,
             "#8e0152"
            ],
            [
             0.1,
             "#c51b7d"
            ],
            [
             0.2,
             "#de77ae"
            ],
            [
             0.3,
             "#f1b6da"
            ],
            [
             0.4,
             "#fde0ef"
            ],
            [
             0.5,
             "#f7f7f7"
            ],
            [
             0.6,
             "#e6f5d0"
            ],
            [
             0.7,
             "#b8e186"
            ],
            [
             0.8,
             "#7fbc41"
            ],
            [
             0.9,
             "#4d9221"
            ],
            [
             1,
             "#276419"
            ]
           ],
           "sequential": [
            [
             0,
             "#0d0887"
            ],
            [
             0.1111111111111111,
             "#46039f"
            ],
            [
             0.2222222222222222,
             "#7201a8"
            ],
            [
             0.3333333333333333,
             "#9c179e"
            ],
            [
             0.4444444444444444,
             "#bd3786"
            ],
            [
             0.5555555555555556,
             "#d8576b"
            ],
            [
             0.6666666666666666,
             "#ed7953"
            ],
            [
             0.7777777777777778,
             "#fb9f3a"
            ],
            [
             0.8888888888888888,
             "#fdca26"
            ],
            [
             1,
             "#f0f921"
            ]
           ],
           "sequentialminus": [
            [
             0,
             "#0d0887"
            ],
            [
             0.1111111111111111,
             "#46039f"
            ],
            [
             0.2222222222222222,
             "#7201a8"
            ],
            [
             0.3333333333333333,
             "#9c179e"
            ],
            [
             0.4444444444444444,
             "#bd3786"
            ],
            [
             0.5555555555555556,
             "#d8576b"
            ],
            [
             0.6666666666666666,
             "#ed7953"
            ],
            [
             0.7777777777777778,
             "#fb9f3a"
            ],
            [
             0.8888888888888888,
             "#fdca26"
            ],
            [
             1,
             "#f0f921"
            ]
           ]
          },
          "colorway": [
           "#636efa",
           "#EF553B",
           "#00cc96",
           "#ab63fa",
           "#FFA15A",
           "#19d3f3",
           "#FF6692",
           "#B6E880",
           "#FF97FF",
           "#FECB52"
          ],
          "font": {
           "color": "#2a3f5f"
          },
          "geo": {
           "bgcolor": "white",
           "lakecolor": "white",
           "landcolor": "#E5ECF6",
           "showlakes": true,
           "showland": true,
           "subunitcolor": "white"
          },
          "hoverlabel": {
           "align": "left"
          },
          "hovermode": "closest",
          "mapbox": {
           "style": "light"
          },
          "paper_bgcolor": "white",
          "plot_bgcolor": "#E5ECF6",
          "polar": {
           "angularaxis": {
            "gridcolor": "white",
            "linecolor": "white",
            "ticks": ""
           },
           "bgcolor": "#E5ECF6",
           "radialaxis": {
            "gridcolor": "white",
            "linecolor": "white",
            "ticks": ""
           }
          },
          "scene": {
           "xaxis": {
            "backgroundcolor": "#E5ECF6",
            "gridcolor": "white",
            "gridwidth": 2,
            "linecolor": "white",
            "showbackground": true,
            "ticks": "",
            "zerolinecolor": "white"
           },
           "yaxis": {
            "backgroundcolor": "#E5ECF6",
            "gridcolor": "white",
            "gridwidth": 2,
            "linecolor": "white",
            "showbackground": true,
            "ticks": "",
            "zerolinecolor": "white"
           },
           "zaxis": {
            "backgroundcolor": "#E5ECF6",
            "gridcolor": "white",
            "gridwidth": 2,
            "linecolor": "white",
            "showbackground": true,
            "ticks": "",
            "zerolinecolor": "white"
           }
          },
          "shapedefaults": {
           "line": {
            "color": "#2a3f5f"
           }
          },
          "ternary": {
           "aaxis": {
            "gridcolor": "white",
            "linecolor": "white",
            "ticks": ""
           },
           "baxis": {
            "gridcolor": "white",
            "linecolor": "white",
            "ticks": ""
           },
           "bgcolor": "#E5ECF6",
           "caxis": {
            "gridcolor": "white",
            "linecolor": "white",
            "ticks": ""
           }
          },
          "title": {
           "x": 0.05
          },
          "xaxis": {
           "automargin": true,
           "gridcolor": "white",
           "linecolor": "white",
           "ticks": "",
           "title": {
            "standoff": 15
           },
           "zerolinecolor": "white",
           "zerolinewidth": 2
          },
          "yaxis": {
           "automargin": true,
           "gridcolor": "white",
           "linecolor": "white",
           "ticks": "",
           "title": {
            "standoff": 15
           },
           "zerolinecolor": "white",
           "zerolinewidth": 2
          }
         }
        },
        "title": {
         "text": "Total Time Spent on Pit Stops (Driver) in Singapore 2023"
        },
        "uniformtext": {
         "minsize": 8,
         "mode": "hide"
        },
        "xaxis": {
         "anchor": "y",
         "domain": [
          0,
          1
         ],
         "title": {
          "text": "Driver"
         }
        },
        "yaxis": {
         "anchor": "x",
         "domain": [
          0,
          1
         ],
         "range": [
          27.984,
          36.797
         ],
         "title": {
          "text": "Time Taken (s)"
         }
        }
       }
      }
     },
     "metadata": {},
     "output_type": "display_data"
    }
   ],
   "source": [
    "import plotly.express as px\n",
    "import pandas as pd\n",
    "\n",
    "# Assuming pitstop_driver_data is your Series with average pit times per driver\n",
    "# Example:\n",
    "# pitstop_driver_data = pd.Series({\n",
    "#     'Driver A': 22.5, \n",
    "#     'Driver B': 23.0, \n",
    "#     'Driver C': 21.5\n",
    "# })\n",
    "\n",
    "# Assuming you have a dictionary mapping drivers to colors\n",
    "# For the sake of an example, this is a simple color map. Replace it with your actual driver_color map.\n",
    "# driver_color = {\n",
    "#     'Driver A': 'red', \n",
    "#     'Driver B': 'blue', \n",
    "#     'Driver C': 'green'\n",
    "# }\n",
    "\n",
    "# Map the driver names to their respective colors using the driver_color dictionary\n",
    "colors = [driver_color[driver] for driver in pitstop_driver_data.index]\n",
    "\n",
    "fig = px.bar(\n",
    "    pitstop_driver_data, \n",
    "    y=pitstop_driver_data.values, \n",
    "    x=pitstop_driver_data.index, \n",
    "    text=pitstop_driver_data.values.round(3),\n",
    "    color=colors,  # This assigns colors based on the mapped driver colors\n",
    "    color_discrete_map=\"identity\"  # This tells Plotly to use the given colors as-is\n",
    ")\n",
    "\n",
    "# Update layout for aesthetics similar to the original matplotlib plot\n",
    "fig.update_traces(texttemplate='%{text}s', textposition='outside')\n",
    "fig.update_layout(\n",
    "    title_text='Total Time Spent on Pit Stops (Driver) in Singapore 2023',\n",
    "    xaxis_title=\"Driver\",\n",
    "    yaxis_title=\"Time Taken (s)\",\n",
    "    uniformtext_minsize=8, \n",
    "    uniformtext_mode='hide',\n",
    "    yaxis=dict(range=[pitstop_driver_data.min()-1, pitstop_driver_data.iloc[10]+5])\n",
    ")\n",
    "\n",
    "fig.show()\n",
    "\n"
   ]
  }
 ],
 "metadata": {
  "kernelspec": {
   "display_name": "Python 3 (ipykernel)",
   "language": "python",
   "name": "python3"
  },
  "language_info": {
   "codemirror_mode": {
    "name": "ipython",
    "version": 3
   },
   "file_extension": ".py",
   "mimetype": "text/x-python",
   "name": "python",
   "nbconvert_exporter": "python",
   "pygments_lexer": "ipython3",
   "version": "3.9.13"
  }
 },
 "nbformat": 4,
 "nbformat_minor": 5
}
